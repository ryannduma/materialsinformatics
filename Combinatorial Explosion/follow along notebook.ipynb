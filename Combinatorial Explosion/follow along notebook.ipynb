{
 "cells": [
  {
   "cell_type": "markdown",
   "metadata": {},
   "source": [
    "# Understanding Combinatorial Explosion in Materials Science with SMACT\n",
    "\n",
    "## Introduction\n",
    " Materials discovery involves exploring vast chemical spaces of possible element combinations. This tutorial will demonstrate how to:\n",
    "\n",
    " 1. Calculate raw combinatorial possibilities\n",
    " 2. Apply chemical filters to reduce the search space\n",
    " 3. Generate practical composition lists for further analysis\n"
   ]
  },
  {
   "cell_type": "markdown",
   "metadata": {},
   "source": [
    "## Part 1: Basic Combinatorics & Stoichiometric Constraints\n",
    "First, let's understand the raw scale of possible combinations - This section of the notebook aims to demonstrate the sheer scale of the combinatorial explosion. Based on some assumtions about how many elements (103) or species - elements in oxidation states - (403) there are, it calculates how many binary, ternary, quaternary... combinations there can be, within different integers stoichiometry limits.\n",
    "\n",
    "this section contains **ZERO** chemistry. rather it is a mathematical exercise to demonstrate the claims above.\n",
    "\n",
    "The numbers that are produced match roughly to the raw combinations (before chemical filters) numbers obtained in Table 1 of the publication [Computational Screening of All Stoichiometric Inorganic Materials](https://www.cell.com/chem/fulltext/S2451-9294(16)30155-3) (D. W. Davies et. al, Chem, 2016).\n",
    "Small deviations from the numbers are due to changes in what we class as an \"accessible\" oxidation state for some elements. **- to do reference this in the jupyter-books**\n",
    "\n",
    "N.B. It can take a minute or two to calculate quaternaries on a desktop/laptop computer. \n"
   ]
  },
  {
   "cell_type": "code",
   "execution_count": null,
   "metadata": {},
   "outputs": [
    {
     "name": "stdout",
     "output_type": "stream",
     "text": [
      "=== Calculations for elements only ===\n",
      "\n",
      "In a search space of 103 elements:\n",
      "Number of unique combinations of 2 elements: 5253\n",
      "Number of unique combinations of 3 elements: 176851\n",
      "Number of unique combinations of 4 elements: 4421275\n",
      "\n",
      "Stoichiometry calculations:\n",
      "Unique binary compounds with max coefficient 2: 1.576e+04\n",
      "(from 5253 combinations × 3 stoichiometries)\n",
      "Unique binary compounds with max coefficient 4: 5.778e+04\n",
      "(from 5253 combinations × 11 stoichiometries)\n",
      "Unique binary compounds with max coefficient 6: 1.208e+05\n",
      "(from 5253 combinations × 23 stoichiometries)\n",
      "Unique binary compounds with max coefficient 8: 2.259e+05\n",
      "(from 5253 combinations × 43 stoichiometries)\n",
      "Unique ternary compounds with max coefficient 2: 1.238e+06\n",
      "(from 176851 combinations × 7 stoichiometries)\n",
      "Unique ternary compounds with max coefficient 4: 9.727e+06\n",
      "(from 176851 combinations × 55 stoichiometries)\n",
      "Unique ternary compounds with max coefficient 6: 3.130e+07\n",
      "(from 176851 combinations × 177 stoichiometries)\n",
      "Unique ternary compounds with max coefficient 8: 7.658e+07\n",
      "(from 176851 combinations × 433 stoichiometries)\n",
      "Unique quaternary compounds with max coefficient 2: 6.632e+07\n",
      "(from 4421275 combinations × 15 stoichiometries)\n",
      "Unique quaternary compounds with max coefficient 4: 1.057e+09\n",
      "(from 4421275 combinations × 239 stoichiometries)\n",
      "Unique quaternary compounds with max coefficient 6: 5.195e+09\n",
      "(from 4421275 combinations × 1175 stoichiometries)\n",
      "Unique quaternary compounds with max coefficient 8: 1.672e+10\n",
      "(from 4421275 combinations × 3781 stoichiometries)\n",
      "\n",
      "=== Calculations for elements in oxidation states ===\n",
      "\n",
      "In a search space of 403 element-oxidation states:\n",
      "Number of unique combinations of 2 elements: 81003\n",
      "Number of unique combinations of 3 elements: 10827401\n",
      "Number of unique combinations of 4 elements: 1082740100\n",
      "\n",
      "Stoichiometry calculations:\n",
      "Unique binary compounds with max coefficient 2: 2.430e+05\n",
      "(from 81003 combinations × 3 stoichiometries)\n",
      "Unique binary compounds with max coefficient 4: 8.910e+05\n",
      "(from 81003 combinations × 11 stoichiometries)\n",
      "Unique binary compounds with max coefficient 6: 1.863e+06\n",
      "(from 81003 combinations × 23 stoichiometries)\n",
      "Unique binary compounds with max coefficient 8: 3.483e+06\n",
      "(from 81003 combinations × 43 stoichiometries)\n",
      "Unique ternary compounds with max coefficient 2: 7.579e+07\n",
      "(from 10827401 combinations × 7 stoichiometries)\n",
      "Unique ternary compounds with max coefficient 4: 5.955e+08\n",
      "(from 10827401 combinations × 55 stoichiometries)\n",
      "Unique ternary compounds with max coefficient 6: 1.916e+09\n",
      "(from 10827401 combinations × 177 stoichiometries)\n",
      "Unique ternary compounds with max coefficient 8: 4.688e+09\n",
      "(from 10827401 combinations × 433 stoichiometries)\n",
      "Unique quaternary compounds with max coefficient 2: 1.624e+10\n",
      "(from 1082740100 combinations × 15 stoichiometries)\n",
      "Unique quaternary compounds with max coefficient 4: 2.588e+11\n",
      "(from 1082740100 combinations × 239 stoichiometries)\n",
      "Unique quaternary compounds with max coefficient 6: 1.272e+12\n",
      "(from 1082740100 combinations × 1175 stoichiometries)\n",
      "Unique quaternary compounds with max coefficient 8: 4.094e+12\n",
      "(from 1082740100 combinations × 3781 stoichiometries)\n"
     ]
    }
   ],
   "source": [
    "import itertools\n",
    "from math import gcd\n",
    "\n",
    "def count_combinations(n_elements, search_space=403):\n",
    "    \"\"\"Count unique combinations of n elements from the periodic table\"\"\"\n",
    "    return sum(1 for _ in itertools.combinations(range(search_space), n_elements))\n",
    "\n",
    "def is_irreducible(stoichs):\n",
    "    \"\"\"Check if stoichiometry can be reduced to smaller integers\"\"\"\n",
    "    for i in range(1, len(stoichs)):\n",
    "        if gcd(stoichs[i-1], stoichs[i]) == 1:\n",
    "            return True\n",
    "    return False\n",
    "\n",
    "def count_stoichiometries(n_elements, max_coefficient=8):\n",
    "    \"\"\"Count possible stoichiometric ratios for n elements up to max_coefficient\"\"\"\n",
    "    count = sum(1 for combo in itertools.product(\n",
    "        *(n_elements * (tuple(range(1, max_coefficient + 1)),))\n",
    "    ) if is_irreducible(combo))\n",
    "    return count\n",
    "\n",
    "def main(search_space):\n",
    "    \"\"\"Calculate combinations and stoichiometries for a given search space\"\"\"\n",
    "    compound_names = {2: \"binary\", 3: \"ternary\", 4: \"quaternary\"}\n",
    "    \n",
    "    print(f\"\\nIn a search space of {search_space} {'elements' if search_space==103 else 'element-oxidation states'}:\")\n",
    "    \n",
    "    # Calculate element combinations\n",
    "    combinations = {}\n",
    "    for n in range(2, 5):\n",
    "        count = count_combinations(n, search_space)\n",
    "        combinations[n] = count\n",
    "        print(f\"Number of unique combinations of {n} elements: {count}\")\n",
    "    \n",
    "    print(\"\\nStoichiometry calculations:\")\n",
    "    # Calculate stoichiometries for different max coefficients\n",
    "    for n in range(2, 5):\n",
    "        for max_coeff in [2, 4, 6, 8]:\n",
    "            stoich_count = count_stoichiometries(n, max_coeff)\n",
    "            total = combinations[n] * stoich_count\n",
    "            print(f\"Unique {compound_names[n]} compounds with max coefficient {max_coeff}: {total:5.3e}\")\n",
    "            print(f\"(from {combinations[n]} combinations × {stoich_count} stoichiometries)\")\n",
    "\n",
    "if __name__ == \"__main__\":\n",
    "    # Run for both elements and oxidation states\n",
    "    print(\"=== Calculations for elements only ===\")\n",
    "    main(103)\n",
    "    \n",
    "    print(\"\\n=== Calculations for elements in oxidation states ===\")\n",
    "    main(403)"
   ]
  },
  {
   "cell_type": "markdown",
   "metadata": {},
   "source": [
    "## Part 2: Adding Stoichiometry Constraints\n",
    "Now we'll consider different possible ratios between elements:"
   ]
  },
  {
   "cell_type": "code",
   "execution_count": null,
   "metadata": {},
   "outputs": [
    {
     "name": "stdout",
     "output_type": "stream",
     "text": [
      "Number of possible stoichiometries: 433\n"
     ]
    }
   ],
   "source": [
    "def count_stoichiometries(n_elements, max_coefficient=8):\n",
    "    \"\"\"Count possible stoichiometric ratios for n elements up to max_coefficient\"\"\"\n",
    "    def is_irreducible(stoichs):\n",
    "        \"\"\"Check if stoichiometry can be reduced to smaller integers\"\"\"\n",
    "        for i in range(1, len(stoichs)):\n",
    "            if gcd(stoichs[i - 1], stoichs[i]) == 1:\n",
    "                return True\n",
    "        return False\n",
    "    \n",
    "    count = sum(1 for combo in itertools.product(\n",
    "        *(n_elements * (tuple(range(1, max_coefficient + 1)),))\n",
    "    ) if is_irreducible(combo))\n",
    "    \n",
    "    return count\n",
    "\n",
    "# Example usage\n",
    "n_elements = 3  # ternary compounds\n",
    "max_coeff = 8\n",
    "count = count_stoichiometries(n_elements, max_coeff)\n",
    "print(f\"Number of possible stoichiometries: {count}\")"
   ]
  },
  {
   "cell_type": "code",
   "execution_count": null,
   "metadata": {},
   "outputs": [
    {
     "name": "stdout",
     "output_type": "stream",
     "text": [
      "Number of viable compositions: 18696\n"
     ]
    }
   ],
   "source": [
    "from smact import Element, element_dictionary, ordered_elements\n",
    "from smact.screening import smact_filter\n",
    "import multiprocessing\n",
    "from datetime import datetime\n",
    "\n",
    "def generate_viable_compositions(elements, n_elements=3):\n",
    "    \"\"\"Generate chemically viable compositions using SMACT filters\"\"\"\n",
    "    # Create element combinations\n",
    "    element_combos = itertools.combinations(elements, n_elements)\n",
    "    systems = [[*combo] for combo in element_combos]\n",
    "    \n",
    "    # Apply SMACT filtering in parallel\n",
    "    with multiprocessing.Pool(processes=4) as pool:\n",
    "        results = pool.map(smact_filter, systems)\n",
    "    \n",
    "    # Flatten results\n",
    "    compositions = [item for sublist in results for item in sublist]\n",
    "    return compositions\n",
    "\n",
    "# Example usage\n",
    "# Get first row transition metals\n",
    "elements = [Element(symbol) for symbol in ordered_elements(21, 30)]\n",
    "compositions = generate_viable_compositions(elements)\n",
    "print(f\"Number of viable compositions: {len(compositions)}\")"
   ]
  },
  {
   "cell_type": "code",
   "execution_count": null,
   "metadata": {},
   "outputs": [
    {
     "name": "stdout",
     "output_type": "stream",
     "text": [
      "\n",
      "Sample of viable compositions:\n",
      "   formula\n",
      "0   Sc2TiV\n",
      "1  Sc3TiV2\n",
      "2  Sc3Ti2V\n",
      "3  Sc4TiV3\n",
      "4  Sc4Ti3V\n"
     ]
    }
   ],
   "source": [
    "import pandas as pd\n",
    "from pymatgen.core import Composition\n",
    "\n",
    "def format_compositions(compositions):\n",
    "    \"\"\"Convert SMACT compositions to readable formulas\"\"\"\n",
    "    def comp_to_formula(comp):\n",
    "        formula = \"\".join(f\"{el}{amt}\" for el, amt in zip(comp[0], comp[2]))\n",
    "        return Composition(formula).reduced_formula\n",
    "    \n",
    "    formulas = [comp_to_formula(comp) for comp in compositions]\n",
    "    return pd.DataFrame({\"formula\": formulas}).drop_duplicates()\n",
    "\n",
    "# Example usage\n",
    "df = format_compositions(compositions)\n",
    "print(\"\\nSample of viable compositions:\")\n",
    "print(df.head())"
   ]
  }
 ],
 "metadata": {
  "kernelspec": {
   "display_name": "materialsinformatics",
   "language": "python",
   "name": "python3"
  },
  "language_info": {
   "codemirror_mode": {
    "name": "ipython",
    "version": 3
   },
   "file_extension": ".py",
   "mimetype": "text/x-python",
   "name": "python",
   "nbconvert_exporter": "python",
   "pygments_lexer": "ipython3",
   "version": "3.13.0"
  }
 },
 "nbformat": 4,
 "nbformat_minor": 2
}
