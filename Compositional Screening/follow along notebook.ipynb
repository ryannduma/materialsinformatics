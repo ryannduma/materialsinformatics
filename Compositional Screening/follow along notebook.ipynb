{
 "cells": [
  {
   "cell_type": "markdown",
   "metadata": {},
   "source": [
    "# Compositional Screening: From Chemical Space to Discovery\n",
    "\n",
    "In this tutorial, we'll systematically explore the **Cu-Ti-O chemical system** to demonstrate how compositional screening works in practice. You'll learn to:\n",
    "\n",
    "1. **Generate all possible compositions** in a chemical system\n",
    "2. **Apply chemical filters** to identify viable candidates  \n",
    "3. **Compare with experimental reality** using the Materials Project\n",
    "4. **Visualise results** using ternary phase diagrams\n",
    "5. **Identify promising targets** for experimental synthesis\n",
    "\n",
    "## The Big Picture\n",
    "\n",
    "**Compositional screening** answers the question: *\"In a given chemical system, what compositions are chemically feasible, and which ones have actually been made?\"*\n",
    "\n",
    "The gap between **what's theoretically possible** and **what's been synthesised** represents opportunities for new materials discovery.\n",
    "\n",
    "Let's explore this systematically using the Cu-Ti-O system!"
   ]
  },
  {
   "cell_type": "code",
   "execution_count": 23,
   "metadata": {},
   "outputs": [
    {
     "name": "stdout",
     "output_type": "stream",
     "text": [
      "✓ Libraries imported successfully!\n",
      "Ready to begin compositional screening of Cu-Ti-O system\n"
     ]
    }
   ],
   "source": [
    "# Import Libraries\n",
    "\n",
    "import os\n",
    "import itertools\n",
    "import numpy as np\n",
    "import pandas as pd\n",
    "import matplotlib.pyplot as plt\n",
    "import seaborn as sns\n",
    "import plotly.graph_objects as go\n",
    "\n",
    "# Materials science libraries\n",
    "from pymatgen.core import Composition\n",
    "from mp_api.client import MPRester\n",
    "\n",
    "# SMACT for chemical screening\n",
    "import smact\n",
    "from smact import Element\n",
    "from smact.screening import smact_validity\n",
    "\n",
    "# Configure plotting\n",
    "plt.style.use('default')\n",
    "sns.set_palette(\"husl\")\n",
    "\n",
    "print(\"✓ Libraries imported successfully!\")\n",
    "print(\"Ready to begin compositional screening of Cu-Ti-O system\")"
   ]
  },
  {
   "cell_type": "markdown",
   "metadata": {},
   "source": [
    "## Step 1: Define Our Chemical System"
   ]
  },
  {
   "cell_type": "code",
   "execution_count": 24,
   "metadata": {},
   "outputs": [
    {
     "name": "stdout",
     "output_type": "stream",
     "text": [
      "Target Chemical System: Cu-Ti-O\n",
      "Maximum stoichiometry: 8\n",
      "Elements loaded:\n",
      "   Cu: oxidation states [+1, +2, +3]\n",
      "   Ti: oxidation states [+2, +3, +4]\n",
      "   O: oxidation states [-2, -1]\n",
      "\n",
      "Chemical system defined successfully!\n"
     ]
    }
   ],
   "source": [
    "\n",
    "# Our target system: Copper-Titanium-Oxygen\n",
    "CHEMICAL_SYSTEM = [\"Cu\", \"Ti\", \"O\"]\n",
    "MAX_STOICH = 8  # Maximum stoichiometry to consider\n",
    "\n",
    "# Create SMACT Element objects\n",
    "elements = [Element(symbol) for symbol in CHEMICAL_SYSTEM]\n",
    "\n",
    "print(f\"Target Chemical System: {'-'.join(CHEMICAL_SYSTEM)}\")\n",
    "print(f\"Maximum stoichiometry: {MAX_STOICH}\")\n",
    "print(f\"Elements loaded:\")\n",
    "for el in elements:\n",
    "    ox_states = \", \".join([f\"{ox:+d}\" for ox in el.oxidation_states[:5]])  # Show first 5\n",
    "    more = \"...\" if len(el.oxidation_states) > 5 else \"\"\n",
    "    print(f\"   {el.symbol}: oxidation states [{ox_states}{more}]\")\n",
    "\n",
    "print(\"\\nChemical system defined successfully!\")"
   ]
  },
  {
   "cell_type": "markdown",
   "metadata": {},
   "source": [
    "## Step 2: Generate All Possible Compositions"
   ]
  },
  {
   "cell_type": "code",
   "execution_count": 25,
   "metadata": {},
   "outputs": [
    {
     "name": "stdout",
     "output_type": "stream",
     "text": [
      "Generating all possible compositions in the Cu-Ti-O system...\n",
      "Generated 571 unique compositions\n",
      "\n",
      "Examples of generated compositions:\n",
      "  1. Cu8 Ti5 O6\n",
      "  2. Cu2 Ti3 O2\n",
      "  3. Cu2 Ti3 O3\n",
      "  4. Cu2 Ti3 O4\n",
      "  5. Cu2 Ti3 O5\n",
      "  6. Cu2 Ti3 O6\n",
      "  7. Cu2 Ti3 O7\n",
      "  8. Cu3 Ti8 O4\n",
      "  ... and 563 more\n",
      "\n",
      "This is the 'combinatorial explosion' we discussed earlier!\n"
     ]
    }
   ],
   "source": [
    "\n",
    "print(\"Generating all possible compositions in the Cu-Ti-O system...\")\n",
    "\n",
    "# Generate compositions for all possible element combinations\n",
    "all_compositions = []\n",
    "\n",
    "# 1. Unary compounds (single elements)\n",
    "for element in elements:\n",
    "    comp = Composition({element.symbol: 1})\n",
    "    all_compositions.append(comp.reduced_composition)\n",
    "\n",
    "# 2. Binary compounds (two elements)\n",
    "for el1, el2 in itertools.combinations(elements, 2):\n",
    "    for stoich1 in range(1, MAX_STOICH + 1):\n",
    "        for stoich2 in range(1, MAX_STOICH + 1):\n",
    "            comp = Composition({el1.symbol: stoich1, el2.symbol: stoich2})\n",
    "            all_compositions.append(comp.reduced_composition)\n",
    "\n",
    "# 3. Ternary compounds (all three elements)\n",
    "for stoich_cu in range(1, MAX_STOICH + 1):\n",
    "    for stoich_ti in range(1, MAX_STOICH + 1):\n",
    "        for stoich_o in range(1, MAX_STOICH + 1):\n",
    "            comp = Composition({\"Cu\": stoich_cu, \"Ti\": stoich_ti, \"O\": stoich_o})\n",
    "            all_compositions.append(comp.reduced_composition)\n",
    "\n",
    "# Remove duplicates\n",
    "unique_compositions = list(set(all_compositions))\n",
    "\n",
    "print(f\"Generated {len(unique_compositions)} unique compositions\")\n",
    "print(\"\\nExamples of generated compositions:\")\n",
    "for i, comp in enumerate(unique_compositions[:8]):\n",
    "    print(f\"  {i+1}. {comp}\")\n",
    "print(f\"  ... and {len(unique_compositions)-8} more\")\n",
    "\n",
    "print(f\"\\nThis is the 'combinatorial explosion' we discussed earlier!\")"
   ]
  },
  {
   "cell_type": "markdown",
   "metadata": {},
   "source": [
    "## Step 3: Apply Chemical Filters (SMACT Screening)"
   ]
  },
  {
   "cell_type": "code",
   "execution_count": 26,
   "metadata": {},
   "outputs": [
    {
     "name": "stdout",
     "output_type": "stream",
     "text": [
      "Applying SMACT chemical validity filters...\n",
      "This checks for charge neutrality and electronegativity rules.\n",
      "\n",
      "Filtering Results:\n",
      "   Total compositions generated:    571\n",
      "   Chemically valid compositions:    147\n",
      "   Invalid compositions removed:     424\n",
      "   Filter efficiency:              74.3%\n",
      "\n",
      "SMACT filters eliminated 74.3% of impossible compositions!\n",
      "\n",
      "Examples of chemically valid compositions:\n",
      "   1. Cu2 Ti3 O4\n",
      "   2. Cu2 Ti3 O5\n",
      "   3. Cu2 Ti3 O6\n",
      "   4. Cu2 Ti3 O7\n",
      "   5. Cu1 Ti3 O7\n",
      "   6. Cu1 Ti3 O8\n",
      "   7. Cu1 Ti4 O5\n",
      "   8. Cu8 Ti1 O6\n",
      "   9. Cu8 Ti2 O7\n",
      "  10. Cu7 Ti1 O5\n",
      "     ... and 137 more\n"
     ]
    }
   ],
   "source": [
    "\n",
    "print(\"Applying SMACT chemical validity filters...\")\n",
    "print(\"This checks for charge neutrality and electronegativity rules.\\n\")\n",
    "\n",
    "# Apply SMACT validity test to each composition\n",
    "valid_compositions = []\n",
    "invalid_count = 0\n",
    "\n",
    "for comp in unique_compositions:\n",
    "    if smact_validity(comp):\n",
    "        valid_compositions.append(comp)\n",
    "    else:\n",
    "        invalid_count += 1\n",
    "\n",
    "# Calculate filtering statistics\n",
    "total_generated = len(unique_compositions)\n",
    "total_valid = len(valid_compositions)\n",
    "filter_efficiency = (invalid_count / total_generated) * 100\n",
    "\n",
    "print(f\"Filtering Results:\")\n",
    "print(f\"   Total compositions generated: {total_generated:>6}\")\n",
    "print(f\"   Chemically valid compositions: {total_valid:>6}\")\n",
    "print(f\"   Invalid compositions removed:  {invalid_count:>6}\")\n",
    "print(f\"   Filter efficiency:            {filter_efficiency:>6.1f}%\")\n",
    "\n",
    "print(f\"\\nSMACT filters eliminated {filter_efficiency:.1f}% of impossible compositions!\")\n",
    "\n",
    "# Show examples of valid compositions\n",
    "print(f\"\\nExamples of chemically valid compositions:\")\n",
    "for i, comp in enumerate(valid_compositions[:10]):\n",
    "    print(f\"  {i+1:2d}. {comp}\")\n",
    "if len(valid_compositions) > 10:\n",
    "    print(f\"     ... and {len(valid_compositions)-10} more\")"
   ]
  },
  {
   "cell_type": "markdown",
   "metadata": {},
   "source": [
    "## Step 4: Compare with Experimental Reality"
   ]
  },
  {
   "cell_type": "code",
   "execution_count": 27,
   "metadata": {},
   "outputs": [
    {
     "name": "stdout",
     "output_type": "stream",
     "text": [
      "Querying Materials Project for known compounds in Cu-Ti-O system...\n",
      "Searching systems: Cu, Ti, O, Cu-Ti, Cu-O, O-Ti, Cu-O-Ti\n"
     ]
    },
    {
     "data": {
      "application/vnd.jupyter.widget-view+json": {
       "model_id": "29f952ad21254edea8bffb25e076b053",
       "version_major": 2,
       "version_minor": 0
      },
      "text/plain": [
       "Retrieving SummaryDoc documents:   0%|          | 0/233 [00:00<?, ?it/s]"
      ]
     },
     "metadata": {},
     "output_type": "display_data"
    },
    {
     "name": "stdout",
     "output_type": "stream",
     "text": [
      "Found 233 known compounds in Materials Project\n",
      "\n",
      "Examples of known Materials Project compounds:\n",
      "   1. Cu1\n",
      "   2. Cu1\n",
      "   3. Cu1\n",
      "   4. Cu1\n",
      "   5. Cu1\n",
      "   6. Cu1\n",
      "   7. Cu1\n",
      "   8. Cu1\n",
      "     ... and 225 more\n"
     ]
    }
   ],
   "source": [
    "\n",
    "print(\"Querying Materials Project for known compounds in Cu-Ti-O system...\")\n",
    "\n",
    "# Setup Materials Project API\n",
    "MP_API_KEY = os.environ.get(\"MP_API_KEY\", None)\n",
    "if MP_API_KEY is None:\n",
    "    try:\n",
    "        with open(\"../assets/files/mp_api_key.txt\", \"r\") as f:\n",
    "            MP_API_KEY = f.read().strip()\n",
    "    except FileNotFoundError:\n",
    "        print(\"  Materials Project API key not found.\")\n",
    "        print(\"Please set MP_API_KEY environment variable or create mp_api_key.txt\")\n",
    "        MP_API_KEY = None\n",
    "\n",
    "if MP_API_KEY:\n",
    "    try:\n",
    "        # Query all chemical subsystems: Cu, Ti, O, Cu-Ti, Cu-O, Ti-O, Cu-Ti-O\n",
    "        chemical_systems = []\n",
    "        for r in range(1, len(CHEMICAL_SYSTEM) + 1):\n",
    "            for combo in itertools.combinations(CHEMICAL_SYSTEM, r):\n",
    "                chemical_systems.append(\"-\".join(sorted(combo)))\n",
    "        \n",
    "        print(f\"Searching systems: {', '.join(chemical_systems)}\")\n",
    "        \n",
    "        with MPRester(MP_API_KEY) as mpr:\n",
    "            mp_entries = mpr.materials.summary.search(chemsys=chemical_systems)\n",
    "        \n",
    "        # Extract compositions\n",
    "        mp_compositions = [entry.composition.reduced_composition for entry in mp_entries]\n",
    "        \n",
    "        print(f\"Found {len(mp_compositions)} known compounds in Materials Project\")\n",
    "        \n",
    "        # Show examples\n",
    "        print(f\"\\nExamples of known Materials Project compounds:\")\n",
    "        for i, comp in enumerate(mp_compositions[:8]):\n",
    "            print(f\"  {i+1:2d}. {comp}\")\n",
    "        if len(mp_compositions) > 8:\n",
    "            print(f\"     ... and {len(mp_compositions)-8} more\")\n",
    "            \n",
    "    except Exception as e:\n",
    "        print(f\"Error querying Materials Project: {e}\")\n",
    "        mp_compositions = []\n",
    "        \n",
    "else:\n",
    "    print(\"Skipping Materials Project query - no API key available\")\n",
    "    mp_compositions = []"
   ]
  },
  {
   "cell_type": "markdown",
   "metadata": {},
   "source": [
    "## Step 5: Analysis - Theory vs Reality"
   ]
  },
  {
   "cell_type": "code",
   "execution_count": 28,
   "metadata": {},
   "outputs": [
    {
     "name": "stdout",
     "output_type": "stream",
     "text": [
      "Analysing the gap between theory and experiment...\n",
      "\n",
      "COMPOSITIONAL SCREENING ANALYSIS:\n",
      "==================================================\n",
      "SMACT predicted compositions:           147\n",
      "Materials Project known compounds:       65\n",
      "==================================================\n",
      "Correctly predicted (overlap):           10\n",
      "Predicted but not yet made:             137\n",
      "Known but not predicted by SMACT:        55\n",
      "==================================================\n",
      "SMACT prediction accuracy:             15.4%\n",
      "Experimental coverage of theory:        6.8%\n",
      "\n",
      "Key Insight: 137 compositions are predicted\n",
      "   to be chemically feasible but haven't been synthesised yet!\n",
      "   These represent opportunities for materials discovery.\n",
      "\n",
      "Examples of unexplored compositions:\n",
      "  1. Cu1 O3\n",
      "  2. Cu1 Ti1\n",
      "  3. Cu1 Ti1 O2\n",
      "  4. Cu1 Ti1 O3\n",
      "  5. Cu1 Ti1 O4\n",
      "  6. Cu1 Ti1 O5\n",
      "     ... and 131 more targets for synthesis\n"
     ]
    }
   ],
   "source": [
    "\n",
    "print(\"Analysing the gap between theory and experiment...\\n\")\n",
    "\n",
    "# Compare SMACT predictions with experimental reality\n",
    "if mp_compositions:\n",
    "    # Convert to sets for comparison\n",
    "    smact_formulas = set(str(comp) for comp in valid_compositions)\n",
    "    mp_formulas = set(str(comp) for comp in mp_compositions)\n",
    "    \n",
    "    # Find overlaps and gaps\n",
    "    both_predicted_and_known = smact_formulas.intersection(mp_formulas)\n",
    "    predicted_but_unknown = smact_formulas.difference(mp_formulas)\n",
    "    known_but_not_predicted = mp_formulas.difference(smact_formulas)\n",
    "    \n",
    "    print(f\"COMPOSITIONAL SCREENING ANALYSIS:\")\n",
    "    print(f\"{'='*50}\")\n",
    "    print(f\"SMACT predicted compositions:        {len(smact_formulas):>6}\")\n",
    "    print(f\"Materials Project known compounds:   {len(mp_formulas):>6}\")\n",
    "    print(f\"{'='*50}\")\n",
    "    print(f\"Correctly predicted (overlap):       {len(both_predicted_and_known):>6}\")\n",
    "    print(f\"Predicted but not yet made:          {len(predicted_but_unknown):>6}\")\n",
    "    print(f\"Known but not predicted by SMACT:    {len(known_but_not_predicted):>6}\")\n",
    "    print(f\"{'='*50}\")\n",
    "    \n",
    "    # Calculate coverage metrics\n",
    "    if len(mp_formulas) > 0:\n",
    "        prediction_accuracy = len(both_predicted_and_known) / len(mp_formulas) * 100\n",
    "        print(f\"SMACT prediction accuracy:           {prediction_accuracy:>6.1f}%\")\n",
    "    \n",
    "    if len(smact_formulas) > 0:\n",
    "        experimental_coverage = len(both_predicted_and_known) / len(smact_formulas) * 100\n",
    "        print(f\"Experimental coverage of theory:     {experimental_coverage:>6.1f}%\")\n",
    "    \n",
    "    print(f\"\\nKey Insight: {len(predicted_but_unknown)} compositions are predicted\")\n",
    "    print(f\"   to be chemically feasible but haven't been synthesised yet!\")\n",
    "    print(f\"   These represent opportunities for materials discovery.\")\n",
    "    \n",
    "    # Show examples of unexplored compositions\n",
    "    if predicted_but_unknown:\n",
    "        unexplored_list = sorted(list(predicted_but_unknown))\n",
    "        print(f\"\\nExamples of unexplored compositions:\")\n",
    "        for i, formula in enumerate(unexplored_list[:6]):\n",
    "            print(f\"  {i+1}. {formula}\")\n",
    "        if len(unexplored_list) > 6:\n",
    "            print(f\"     ... and {len(unexplored_list)-6} more targets for synthesis\")\n",
    "            \n",
    "else:\n",
    "    print(\"No Materials Project data available for comparison\")\n",
    "    print(\"Analysis will focus on SMACT predictions only\")"
   ]
  },
  {
   "cell_type": "markdown",
   "metadata": {},
   "source": [
    "## Step 6: Visualise Chemical Space with Ternary Plot"
   ]
  },
  {
   "cell_type": "code",
   "execution_count": 29,
   "metadata": {},
   "outputs": [
    {
     "name": "stdout",
     "output_type": "stream",
     "text": [
      "Creating ternary plot to visualise Cu-Ti-O chemical space...\n",
      "Plotting 147 SMACT predictions and 233 validated MP compounds\n"
     ]
    },
    {
     "data": {
      "application/vnd.plotly.v1+json": {
       "config": {
        "plotlyServerURL": "https://plot.ly"
       },
       "data": [
        {
         "a": [
          0.2222222222222222,
          0.2,
          0.18181818181818182,
          0.16666666666666666,
          0.09090909090909091,
          0.08333333333333333,
          0.1,
          0.5333333333333333,
          0.47058823529411764,
          0.5384615384615384,
          0.4375,
          0.21428571428571427,
          0.3333333333333333,
          0.13333333333333333,
          0.15384615384615385,
          0.18181818181818182,
          0.15384615384615385,
          0.125,
          0.1111111111111111,
          0.1,
          0.5,
          0.75,
          0.3333333333333333,
          0.5,
          0.25,
          0.2,
          0.16666666666666666,
          0.14285714285714285,
          0.125,
          0.1111111111111111,
          0.6666666666666666,
          0.3157894736842105,
          0.4166666666666667,
          0.38461538461538464,
          0.35714285714285715,
          0.4,
          0.2857142857142857,
          0.2222222222222222,
          0.7777777777777778,
          0.7,
          0.6363636363636364,
          0.5833333333333334,
          0.5384615384615384,
          0.4666666666666667,
          0.8888888888888888,
          0.2857142857142857,
          0.25,
          0.2222222222222222,
          0.2,
          0.18181818181818182,
          0.2857142857142857,
          0.2222222222222222,
          0.18181818181818182,
          0.5,
          0.25,
          0.2,
          0.16666666666666666,
          0.14285714285714285,
          0.125,
          0,
          0,
          0,
          0,
          0,
          0.35714285714285715,
          0.2727272727272727,
          0.25,
          0.15384615384615385,
          0.14285714285714285,
          0.13333333333333333,
          0.35294117647058826,
          0.08333333333333333,
          0.08333333333333333,
          0.7142857142857143,
          0.625,
          0.5555555555555556,
          0.45454545454545453,
          0.4166666666666667,
          0.38461538461538464,
          0.8571428571428571,
          0.5454545454545454,
          0.46153846153846156,
          0.875,
          0.4444444444444444,
          0.4,
          0.36363636363636365,
          0.3333333333333333,
          0.3076923076923077,
          0.36363636363636365,
          0.3076923076923077,
          0.3333333333333333,
          0.3125,
          0.6,
          0.42857142857142855,
          0.375,
          0.3,
          0.2727272727272727,
          0.8,
          0.5714285714285714,
          0.4444444444444444,
          0.36363636363636365,
          0.8333333333333334,
          0.4,
          0.3333333333333333,
          0.42857142857142855,
          0.4,
          0.16666666666666666,
          0.14285714285714285,
          0.125,
          0.1111111111111111,
          0.1,
          0.09090909090909091,
          0.5454545454545454,
          0.3333333333333333,
          0.2857142857142857,
          0.26666666666666666,
          0,
          1,
          0.2727272727272727,
          0.25,
          0.3,
          0.4444444444444444,
          0.07142857142857142,
          0.0625,
          0.3888888888888889,
          0.5714285714285714,
          0,
          0.5,
          0.3333333333333333,
          0.25,
          0.6666666666666666,
          0.4,
          0.11764705882352941,
          0.46153846153846156,
          0.4,
          0.07142857142857142,
          0.7272727272727273,
          0.6153846153846154,
          0.5333333333333333,
          0.5,
          0.1875,
          0.25,
          0.1111111111111111,
          0.42857142857142855,
          0.375,
          0.3333333333333333,
          0.3
         ],
         "b": [
          0.3333333333333333,
          0.3,
          0.2727272727272727,
          0.25,
          0.2727272727272727,
          0.25,
          0.4,
          0.06666666666666667,
          0.11764705882352941,
          0.07692307692307693,
          0.0625,
          0.2857142857142857,
          0.13333333333333333,
          0.4,
          0.23076923076923078,
          0.36363636363636365,
          0.3076923076923077,
          0.375,
          0.3333333333333333,
          0.3,
          0.1,
          0.25,
          0.6666666666666666,
          0.5,
          0.75,
          0.8,
          0.8333333333333334,
          0.8571428571428571,
          0.875,
          0.8888888888888888,
          0.3333333333333333,
          0.2631578947368421,
          0.08333333333333333,
          0.07692307692307693,
          0.07142857142857142,
          0.6,
          0.7142857142857143,
          0.7777777777777778,
          0.2222222222222222,
          0.3,
          0.36363636363636365,
          0.4166666666666667,
          0.46153846153846156,
          0.5333333333333333,
          0.1111111111111111,
          0.14285714285714285,
          0.125,
          0.1111111111111111,
          0.1,
          0.09090909090909091,
          0.2857142857142857,
          0.2222222222222222,
          0.18181818181818182,
          0.125,
          0.25,
          0.2,
          0.16666666666666666,
          0.14285714285714285,
          0.125,
          0.5,
          0.3333333333333333,
          0.25,
          0.2,
          0.4,
          0.14285714285714285,
          0.18181818181818182,
          0.16666666666666666,
          0.38461538461538464,
          0.35714285714285715,
          0.3333333333333333,
          0.23529411764705882,
          0.3333333333333333,
          0.4166666666666667,
          0.2857142857142857,
          0.375,
          0.4444444444444444,
          0.5454545454545454,
          0.5833333333333334,
          0.6153846153846154,
          0.14285714285714285,
          0.45454545454545453,
          0.5384615384615384,
          0.125,
          0.1111111111111111,
          0.1,
          0.09090909090909091,
          0.08333333333333333,
          0.07692307692307693,
          0.18181818181818182,
          0.15384615384615385,
          0.2,
          0.1875,
          0.4,
          0.5714285714285714,
          0.625,
          0.7,
          0.7272727272727273,
          0.2,
          0.42857142857142855,
          0.5555555555555556,
          0.6363636363636364,
          0.16666666666666666,
          0.2,
          0.16666666666666666,
          0.07142857142857142,
          0.06666666666666667,
          0.3333333333333333,
          0.2857142857142857,
          0.25,
          0.2222222222222222,
          0.2,
          0.18181818181818182,
          0.09090909090909091,
          0.25,
          0.21428571428571427,
          0.2,
          0,
          0,
          0.09090909090909091,
          0.08333333333333333,
          0.2,
          0.16666666666666666,
          0.35714285714285715,
          0.4375,
          0.16666666666666666,
          0.07142857142857142,
          1,
          0,
          0,
          0,
          0,
          0,
          0.4117647058823529,
          0.15384615384615385,
          0.13333333333333333,
          0.42857142857142855,
          0.2727272727272727,
          0.38461538461538464,
          0.4666666666666667,
          0.08333333333333333,
          0.3125,
          0.3125,
          0.1111111111111111,
          0.14285714285714285,
          0.125,
          0.1111111111111111,
          0.1
         ],
         "c": [
          0.4444444444444444,
          0.5,
          0.5454545454545454,
          0.5833333333333334,
          0.6363636363636364,
          0.6666666666666666,
          0.5,
          0.4,
          0.4117647058823529,
          0.38461538461538464,
          0.5,
          0.5,
          0.5333333333333333,
          0.4666666666666667,
          0.6153846153846154,
          0.45454545454545453,
          0.5384615384615384,
          0.5,
          0.5555555555555556,
          0.6,
          0.4,
          0,
          0,
          0,
          0,
          0,
          0,
          0,
          0,
          0,
          0,
          0.42105263157894735,
          0.5,
          0.5384615384615384,
          0.5714285714285714,
          0,
          0,
          0,
          0,
          0,
          0,
          0,
          0,
          0,
          0,
          0.5714285714285714,
          0.625,
          0.6666666666666666,
          0.7,
          0.7272727272727273,
          0.42857142857142855,
          0.5555555555555556,
          0.6363636363636364,
          0.375,
          0.5,
          0.6,
          0.6666666666666666,
          0.7142857142857143,
          0.75,
          0.5,
          0.6666666666666666,
          0.75,
          0.8,
          0.6,
          0.5,
          0.5454545454545454,
          0.5833333333333334,
          0.46153846153846156,
          0.5,
          0.5333333333333333,
          0.4117647058823529,
          0.5833333333333334,
          0.5,
          0,
          0,
          0,
          0,
          0,
          0,
          0,
          0,
          0,
          0,
          0.4444444444444444,
          0.5,
          0.5454545454545454,
          0.5833333333333334,
          0.6153846153846154,
          0.45454545454545453,
          0.5384615384615384,
          0.4666666666666667,
          0.5,
          0,
          0,
          0,
          0,
          0,
          0,
          0,
          0,
          0,
          0,
          0.4,
          0.5,
          0.5,
          0.5333333333333333,
          0.5,
          0.5714285714285714,
          0.625,
          0.6666666666666666,
          0.7,
          0.7272727272727273,
          0.36363636363636365,
          0.4166666666666667,
          0.5,
          0.5333333333333333,
          1,
          0,
          0.6363636363636364,
          0.6666666666666666,
          0.5,
          0.3888888888888889,
          0.5714285714285714,
          0.5,
          0.4444444444444444,
          0.35714285714285715,
          0,
          0.5,
          0.6666666666666666,
          0.75,
          0.3333333333333333,
          0.6,
          0.47058823529411764,
          0.38461538461538464,
          0.4666666666666667,
          0.5,
          0,
          0,
          0,
          0.4166666666666667,
          0.5,
          0.4375,
          0.7777777777777778,
          0.42857142857142855,
          0.5,
          0.5555555555555556,
          0.6
         ],
         "hovertemplate": "<b>SMACT Valid Composition</b><br>Cu: %{a:.3f}<br>Ti: %{b:.3f}<br>O: %{c:.3f}<extra></extra>",
         "marker": {
          "color": "lightblue",
          "line": {
           "color": "blue",
           "width": 0.5
          },
          "opacity": 0.5,
          "size": 5,
          "symbol": "circle"
         },
         "mode": "markers",
         "name": "SMACT Predictions (147)",
         "type": "scatterternary"
        },
        {
         "a": [
          1,
          1,
          1,
          1,
          1,
          1,
          1,
          1,
          0,
          0,
          0,
          0,
          0,
          0,
          0,
          0,
          0,
          0,
          0,
          0,
          0,
          0,
          0,
          0,
          0,
          0,
          0,
          0,
          0,
          0,
          0,
          0,
          0,
          0,
          0,
          0,
          0.3333333333333333,
          0.3333333333333333,
          0.6,
          0.6,
          0.25,
          0.5714285714285714,
          0.2857142857142857,
          0.5,
          0.5,
          0.6666666666666666,
          0.75,
          0.8,
          0,
          0,
          0,
          0,
          0,
          0,
          0,
          0,
          0,
          0,
          0.6666666666666666,
          0.4,
          0.4,
          0.4,
          0.4,
          0.4,
          0.6,
          0.42857142857142855,
          0.42857142857142855,
          0.5714285714285714,
          0.5714285714285714,
          0.4166666666666667,
          0.9846153846153847,
          0.8571428571428571,
          0.8888888888888888,
          0.8888888888888888,
          0.5333333333333333,
          0.5333333333333333,
          0.5333333333333333,
          0.4090909090909091,
          0.5,
          0.5,
          0.5,
          0.5,
          0.5,
          0.5,
          0.5,
          0.5,
          0.5,
          0.3333333333333333,
          0.3333333333333333,
          0.3333333333333333,
          0.3333333333333333,
          0.3333333333333333,
          0.3333333333333333,
          0.3333333333333333,
          0.3333333333333333,
          0.3333333333333333,
          0.42857142857142855,
          0.08333333333333333,
          0.15789473684210525,
          0.2857142857142857,
          0.2857142857142857,
          0.3333333333333333,
          0.375,
          0.375,
          0.375,
          0.375,
          0.375,
          0.2,
          0.2,
          0,
          0,
          0,
          0,
          0,
          0,
          0,
          0,
          0,
          0,
          0,
          0,
          0,
          0,
          0,
          0,
          0,
          0,
          0,
          0,
          0,
          0,
          0,
          0,
          0,
          0,
          0,
          0,
          0,
          0,
          0,
          0,
          0,
          0,
          0,
          0,
          0,
          0,
          0,
          0,
          0,
          0,
          0,
          0,
          0,
          0,
          0,
          0,
          0,
          0,
          0,
          0,
          0,
          0,
          0,
          0,
          0,
          0,
          0,
          0,
          0,
          0,
          0,
          0,
          0,
          0,
          0,
          0,
          0,
          0,
          0,
          0,
          0,
          0,
          0,
          0,
          0,
          0,
          0,
          0,
          0,
          0,
          0,
          0,
          0,
          0,
          0,
          0,
          0,
          0,
          0,
          0,
          0,
          0,
          0,
          0,
          0,
          0,
          0,
          0,
          0,
          0,
          0,
          0,
          0,
          0,
          0,
          0,
          0,
          0,
          0,
          0,
          0,
          0,
          0,
          0,
          0,
          0,
          0,
          0,
          0,
          0,
          0,
          0
         ],
         "b": [
          0,
          0,
          0,
          0,
          0,
          0,
          0,
          0,
          0,
          0,
          0,
          0,
          0,
          0,
          0,
          0,
          0,
          0,
          0,
          0,
          0,
          0,
          0,
          0,
          0,
          0,
          0,
          0,
          0,
          0,
          0,
          0,
          0,
          0,
          0,
          0,
          0.6666666666666666,
          0.6666666666666666,
          0.4,
          0.4,
          0.75,
          0.42857142857142855,
          0.7142857142857143,
          0.5,
          0.5,
          0.3333333333333333,
          0.25,
          0.2,
          1,
          1,
          1,
          1,
          1,
          1,
          1,
          1,
          1,
          1,
          0,
          0,
          0,
          0,
          0,
          0,
          0,
          0,
          0,
          0,
          0,
          0,
          0,
          0,
          0,
          0,
          0,
          0,
          0,
          0,
          0,
          0,
          0,
          0,
          0,
          0,
          0,
          0,
          0,
          0,
          0,
          0,
          0,
          0,
          0,
          0,
          0,
          0,
          0.42857142857142855,
          0.25,
          0.21052631578947367,
          0.5714285714285714,
          0.5714285714285714,
          0.16666666666666666,
          0.125,
          0.125,
          0.125,
          0.125,
          0.125,
          0.2,
          0.2,
          0.47619047619047616,
          0.43478260869565216,
          0.44,
          0.44,
          0.44,
          0.3793103448275862,
          0.37142857142857144,
          0.3877551020408163,
          0.6666666666666666,
          0.6666666666666666,
          0.6666666666666666,
          0.6666666666666666,
          0.6666666666666666,
          0.6666666666666666,
          0.6666666666666666,
          0.4,
          0.4,
          0.4,
          0.4,
          0.4,
          0.4,
          0.4,
          0.2222222222222222,
          0.75,
          0.75,
          0.75,
          0.75,
          0.75,
          0.75,
          0.6,
          0.42857142857142855,
          0.42857142857142855,
          0.375,
          0.375,
          0.375,
          0.375,
          0.375,
          0.375,
          0.375,
          0.375,
          0.375,
          0.3,
          0.3,
          0.3,
          0.2727272727272727,
          0.5714285714285714,
          0.4444444444444444,
          0.36363636363636365,
          0.36363636363636365,
          0.4166666666666667,
          0.38461538461538464,
          0.35714285714285715,
          0.8571428571428571,
          0.8571428571428571,
          0.35294117647058826,
          0.35294117647058826,
          0.35,
          0.4666666666666667,
          0.38095238095238093,
          0.34782608695652173,
          0.47368421052631576,
          0.47368421052631576,
          0.4090909090909091,
          0.34615384615384615,
          0.5294117647058824,
          0.5,
          0.5,
          0.5,
          0.5,
          0.5,
          0.5,
          0.5,
          0.5,
          0.5,
          0.5,
          0.5,
          0.5,
          0.5,
          0.3333333333333333,
          0.3333333333333333,
          0.3333333333333333,
          0.3333333333333333,
          0.3333333333333333,
          0.3333333333333333,
          0.3333333333333333,
          0.3333333333333333,
          0.3333333333333333,
          0.3333333333333333,
          0.3333333333333333,
          0.3333333333333333,
          0.3333333333333333,
          0.3333333333333333,
          0.3333333333333333,
          0.3333333333333333,
          0.3333333333333333,
          0.3333333333333333,
          0.3333333333333333,
          0.3333333333333333,
          0.3333333333333333,
          0.3333333333333333,
          0.3333333333333333,
          0.3333333333333333,
          0.3333333333333333,
          0.3333333333333333,
          0.3333333333333333,
          0.3333333333333333,
          0.3333333333333333,
          0.3333333333333333,
          0.3333333333333333,
          0.3333333333333333,
          0.3333333333333333,
          0.3333333333333333,
          0.3333333333333333,
          0.3333333333333333,
          0.3333333333333333,
          0.3333333333333333,
          0.3333333333333333,
          0.3333333333333333,
          0.3333333333333333,
          0.3333333333333333,
          0.3333333333333333,
          0.3333333333333333,
          0.3333333333333333,
          0.3333333333333333
         ],
         "c": [
          0,
          0,
          0,
          0,
          0,
          0,
          0,
          0,
          1,
          1,
          1,
          1,
          1,
          1,
          1,
          1,
          1,
          1,
          1,
          1,
          1,
          1,
          1,
          1,
          1,
          1,
          1,
          1,
          1,
          1,
          1,
          1,
          1,
          1,
          1,
          1,
          0,
          0,
          0,
          0,
          0,
          0,
          0,
          0,
          0,
          0,
          0,
          0,
          0,
          0,
          0,
          0,
          0,
          0,
          0,
          0,
          0,
          0,
          0.3333333333333333,
          0.6,
          0.6,
          0.6,
          0.6,
          0.6,
          0.4,
          0.5714285714285714,
          0.5714285714285714,
          0.42857142857142855,
          0.42857142857142855,
          0.5833333333333334,
          0.015384615384615385,
          0.14285714285714285,
          0.1111111111111111,
          0.1111111111111111,
          0.4666666666666667,
          0.4666666666666667,
          0.4666666666666667,
          0.5909090909090909,
          0.5,
          0.5,
          0.5,
          0.5,
          0.5,
          0.5,
          0.5,
          0.5,
          0.5,
          0.6666666666666666,
          0.6666666666666666,
          0.6666666666666666,
          0.6666666666666666,
          0.6666666666666666,
          0.6666666666666666,
          0.6666666666666666,
          0.6666666666666666,
          0.6666666666666666,
          0.14285714285714285,
          0.6666666666666666,
          0.631578947368421,
          0.14285714285714285,
          0.14285714285714285,
          0.5,
          0.5,
          0.5,
          0.5,
          0.5,
          0.5,
          0.6,
          0.6,
          0.5238095238095238,
          0.5652173913043478,
          0.56,
          0.56,
          0.56,
          0.6206896551724138,
          0.6285714285714286,
          0.6122448979591837,
          0.3333333333333333,
          0.3333333333333333,
          0.3333333333333333,
          0.3333333333333333,
          0.3333333333333333,
          0.3333333333333333,
          0.3333333333333333,
          0.6,
          0.6,
          0.6,
          0.6,
          0.6,
          0.6,
          0.6,
          0.7777777777777778,
          0.25,
          0.25,
          0.25,
          0.25,
          0.25,
          0.25,
          0.4,
          0.5714285714285714,
          0.5714285714285714,
          0.625,
          0.625,
          0.625,
          0.625,
          0.625,
          0.625,
          0.625,
          0.625,
          0.625,
          0.7,
          0.7,
          0.7,
          0.7272727272727273,
          0.42857142857142855,
          0.5555555555555556,
          0.6363636363636364,
          0.6363636363636364,
          0.5833333333333334,
          0.6153846153846154,
          0.6428571428571429,
          0.14285714285714285,
          0.14285714285714285,
          0.6470588235294118,
          0.6470588235294118,
          0.65,
          0.5333333333333333,
          0.6190476190476191,
          0.6521739130434783,
          0.5263157894736842,
          0.5263157894736842,
          0.5909090909090909,
          0.6538461538461539,
          0.47058823529411764,
          0.5,
          0.5,
          0.5,
          0.5,
          0.5,
          0.5,
          0.5,
          0.5,
          0.5,
          0.5,
          0.5,
          0.5,
          0.5,
          0.6666666666666666,
          0.6666666666666666,
          0.6666666666666666,
          0.6666666666666666,
          0.6666666666666666,
          0.6666666666666666,
          0.6666666666666666,
          0.6666666666666666,
          0.6666666666666666,
          0.6666666666666666,
          0.6666666666666666,
          0.6666666666666666,
          0.6666666666666666,
          0.6666666666666666,
          0.6666666666666666,
          0.6666666666666666,
          0.6666666666666666,
          0.6666666666666666,
          0.6666666666666666,
          0.6666666666666666,
          0.6666666666666666,
          0.6666666666666666,
          0.6666666666666666,
          0.6666666666666666,
          0.6666666666666666,
          0.6666666666666666,
          0.6666666666666666,
          0.6666666666666666,
          0.6666666666666666,
          0.6666666666666666,
          0.6666666666666666,
          0.6666666666666666,
          0.6666666666666666,
          0.6666666666666666,
          0.6666666666666666,
          0.6666666666666666,
          0.6666666666666666,
          0.6666666666666666,
          0.6666666666666666,
          0.6666666666666666,
          0.6666666666666666,
          0.6666666666666666,
          0.6666666666666666,
          0.6666666666666666,
          0.6666666666666666,
          0.6666666666666666
         ],
         "hovertemplate": "<b>Materials Project (Validated)</b><br>Cu: %{a:.3f}<br>Ti: %{b:.3f}<br>O: %{c:.3f}<extra></extra>",
         "marker": {
          "color": "red",
          "line": {
           "color": "darkred",
           "width": 1.5
          },
          "opacity": 0.9,
          "size": 12,
          "symbol": "star"
         },
         "mode": "markers",
         "name": "Known Compounds (233)",
         "type": "scatterternary"
        }
       ],
       "layout": {
        "font": {
         "family": "Arial",
         "size": 12
        },
        "height": 700,
        "legend": {
         "bgcolor": "rgba(255,255,255,0.9)",
         "bordercolor": "gray",
         "borderwidth": 1,
         "x": 0.02,
         "y": 0.98
        },
        "paper_bgcolor": "white",
        "showlegend": true,
        "template": {
         "data": {
          "bar": [
           {
            "error_x": {
             "color": "#2a3f5f"
            },
            "error_y": {
             "color": "#2a3f5f"
            },
            "marker": {
             "line": {
              "color": "#E5ECF6",
              "width": 0.5
             },
             "pattern": {
              "fillmode": "overlay",
              "size": 10,
              "solidity": 0.2
             }
            },
            "type": "bar"
           }
          ],
          "barpolar": [
           {
            "marker": {
             "line": {
              "color": "#E5ECF6",
              "width": 0.5
             },
             "pattern": {
              "fillmode": "overlay",
              "size": 10,
              "solidity": 0.2
             }
            },
            "type": "barpolar"
           }
          ],
          "carpet": [
           {
            "aaxis": {
             "endlinecolor": "#2a3f5f",
             "gridcolor": "white",
             "linecolor": "white",
             "minorgridcolor": "white",
             "startlinecolor": "#2a3f5f"
            },
            "baxis": {
             "endlinecolor": "#2a3f5f",
             "gridcolor": "white",
             "linecolor": "white",
             "minorgridcolor": "white",
             "startlinecolor": "#2a3f5f"
            },
            "type": "carpet"
           }
          ],
          "choropleth": [
           {
            "colorbar": {
             "outlinewidth": 0,
             "ticks": ""
            },
            "type": "choropleth"
           }
          ],
          "contour": [
           {
            "colorbar": {
             "outlinewidth": 0,
             "ticks": ""
            },
            "colorscale": [
             [
              0,
              "#0d0887"
             ],
             [
              0.1111111111111111,
              "#46039f"
             ],
             [
              0.2222222222222222,
              "#7201a8"
             ],
             [
              0.3333333333333333,
              "#9c179e"
             ],
             [
              0.4444444444444444,
              "#bd3786"
             ],
             [
              0.5555555555555556,
              "#d8576b"
             ],
             [
              0.6666666666666666,
              "#ed7953"
             ],
             [
              0.7777777777777778,
              "#fb9f3a"
             ],
             [
              0.8888888888888888,
              "#fdca26"
             ],
             [
              1,
              "#f0f921"
             ]
            ],
            "type": "contour"
           }
          ],
          "contourcarpet": [
           {
            "colorbar": {
             "outlinewidth": 0,
             "ticks": ""
            },
            "type": "contourcarpet"
           }
          ],
          "heatmap": [
           {
            "colorbar": {
             "outlinewidth": 0,
             "ticks": ""
            },
            "colorscale": [
             [
              0,
              "#0d0887"
             ],
             [
              0.1111111111111111,
              "#46039f"
             ],
             [
              0.2222222222222222,
              "#7201a8"
             ],
             [
              0.3333333333333333,
              "#9c179e"
             ],
             [
              0.4444444444444444,
              "#bd3786"
             ],
             [
              0.5555555555555556,
              "#d8576b"
             ],
             [
              0.6666666666666666,
              "#ed7953"
             ],
             [
              0.7777777777777778,
              "#fb9f3a"
             ],
             [
              0.8888888888888888,
              "#fdca26"
             ],
             [
              1,
              "#f0f921"
             ]
            ],
            "type": "heatmap"
           }
          ],
          "heatmapgl": [
           {
            "colorbar": {
             "outlinewidth": 0,
             "ticks": ""
            },
            "colorscale": [
             [
              0,
              "#0d0887"
             ],
             [
              0.1111111111111111,
              "#46039f"
             ],
             [
              0.2222222222222222,
              "#7201a8"
             ],
             [
              0.3333333333333333,
              "#9c179e"
             ],
             [
              0.4444444444444444,
              "#bd3786"
             ],
             [
              0.5555555555555556,
              "#d8576b"
             ],
             [
              0.6666666666666666,
              "#ed7953"
             ],
             [
              0.7777777777777778,
              "#fb9f3a"
             ],
             [
              0.8888888888888888,
              "#fdca26"
             ],
             [
              1,
              "#f0f921"
             ]
            ],
            "type": "heatmapgl"
           }
          ],
          "histogram": [
           {
            "marker": {
             "pattern": {
              "fillmode": "overlay",
              "size": 10,
              "solidity": 0.2
             }
            },
            "type": "histogram"
           }
          ],
          "histogram2d": [
           {
            "colorbar": {
             "outlinewidth": 0,
             "ticks": ""
            },
            "colorscale": [
             [
              0,
              "#0d0887"
             ],
             [
              0.1111111111111111,
              "#46039f"
             ],
             [
              0.2222222222222222,
              "#7201a8"
             ],
             [
              0.3333333333333333,
              "#9c179e"
             ],
             [
              0.4444444444444444,
              "#bd3786"
             ],
             [
              0.5555555555555556,
              "#d8576b"
             ],
             [
              0.6666666666666666,
              "#ed7953"
             ],
             [
              0.7777777777777778,
              "#fb9f3a"
             ],
             [
              0.8888888888888888,
              "#fdca26"
             ],
             [
              1,
              "#f0f921"
             ]
            ],
            "type": "histogram2d"
           }
          ],
          "histogram2dcontour": [
           {
            "colorbar": {
             "outlinewidth": 0,
             "ticks": ""
            },
            "colorscale": [
             [
              0,
              "#0d0887"
             ],
             [
              0.1111111111111111,
              "#46039f"
             ],
             [
              0.2222222222222222,
              "#7201a8"
             ],
             [
              0.3333333333333333,
              "#9c179e"
             ],
             [
              0.4444444444444444,
              "#bd3786"
             ],
             [
              0.5555555555555556,
              "#d8576b"
             ],
             [
              0.6666666666666666,
              "#ed7953"
             ],
             [
              0.7777777777777778,
              "#fb9f3a"
             ],
             [
              0.8888888888888888,
              "#fdca26"
             ],
             [
              1,
              "#f0f921"
             ]
            ],
            "type": "histogram2dcontour"
           }
          ],
          "mesh3d": [
           {
            "colorbar": {
             "outlinewidth": 0,
             "ticks": ""
            },
            "type": "mesh3d"
           }
          ],
          "parcoords": [
           {
            "line": {
             "colorbar": {
              "outlinewidth": 0,
              "ticks": ""
             }
            },
            "type": "parcoords"
           }
          ],
          "pie": [
           {
            "automargin": true,
            "type": "pie"
           }
          ],
          "scatter": [
           {
            "fillpattern": {
             "fillmode": "overlay",
             "size": 10,
             "solidity": 0.2
            },
            "type": "scatter"
           }
          ],
          "scatter3d": [
           {
            "line": {
             "colorbar": {
              "outlinewidth": 0,
              "ticks": ""
             }
            },
            "marker": {
             "colorbar": {
              "outlinewidth": 0,
              "ticks": ""
             }
            },
            "type": "scatter3d"
           }
          ],
          "scattercarpet": [
           {
            "marker": {
             "colorbar": {
              "outlinewidth": 0,
              "ticks": ""
             }
            },
            "type": "scattercarpet"
           }
          ],
          "scattergeo": [
           {
            "marker": {
             "colorbar": {
              "outlinewidth": 0,
              "ticks": ""
             }
            },
            "type": "scattergeo"
           }
          ],
          "scattergl": [
           {
            "marker": {
             "colorbar": {
              "outlinewidth": 0,
              "ticks": ""
             }
            },
            "type": "scattergl"
           }
          ],
          "scattermapbox": [
           {
            "marker": {
             "colorbar": {
              "outlinewidth": 0,
              "ticks": ""
             }
            },
            "type": "scattermapbox"
           }
          ],
          "scatterpolar": [
           {
            "marker": {
             "colorbar": {
              "outlinewidth": 0,
              "ticks": ""
             }
            },
            "type": "scatterpolar"
           }
          ],
          "scatterpolargl": [
           {
            "marker": {
             "colorbar": {
              "outlinewidth": 0,
              "ticks": ""
             }
            },
            "type": "scatterpolargl"
           }
          ],
          "scatterternary": [
           {
            "marker": {
             "colorbar": {
              "outlinewidth": 0,
              "ticks": ""
             }
            },
            "type": "scatterternary"
           }
          ],
          "surface": [
           {
            "colorbar": {
             "outlinewidth": 0,
             "ticks": ""
            },
            "colorscale": [
             [
              0,
              "#0d0887"
             ],
             [
              0.1111111111111111,
              "#46039f"
             ],
             [
              0.2222222222222222,
              "#7201a8"
             ],
             [
              0.3333333333333333,
              "#9c179e"
             ],
             [
              0.4444444444444444,
              "#bd3786"
             ],
             [
              0.5555555555555556,
              "#d8576b"
             ],
             [
              0.6666666666666666,
              "#ed7953"
             ],
             [
              0.7777777777777778,
              "#fb9f3a"
             ],
             [
              0.8888888888888888,
              "#fdca26"
             ],
             [
              1,
              "#f0f921"
             ]
            ],
            "type": "surface"
           }
          ],
          "table": [
           {
            "cells": {
             "fill": {
              "color": "#EBF0F8"
             },
             "line": {
              "color": "white"
             }
            },
            "header": {
             "fill": {
              "color": "#C8D4E3"
             },
             "line": {
              "color": "white"
             }
            },
            "type": "table"
           }
          ]
         },
         "layout": {
          "annotationdefaults": {
           "arrowcolor": "#2a3f5f",
           "arrowhead": 0,
           "arrowwidth": 1
          },
          "autotypenumbers": "strict",
          "coloraxis": {
           "colorbar": {
            "outlinewidth": 0,
            "ticks": ""
           }
          },
          "colorscale": {
           "diverging": [
            [
             0,
             "#8e0152"
            ],
            [
             0.1,
             "#c51b7d"
            ],
            [
             0.2,
             "#de77ae"
            ],
            [
             0.3,
             "#f1b6da"
            ],
            [
             0.4,
             "#fde0ef"
            ],
            [
             0.5,
             "#f7f7f7"
            ],
            [
             0.6,
             "#e6f5d0"
            ],
            [
             0.7,
             "#b8e186"
            ],
            [
             0.8,
             "#7fbc41"
            ],
            [
             0.9,
             "#4d9221"
            ],
            [
             1,
             "#276419"
            ]
           ],
           "sequential": [
            [
             0,
             "#0d0887"
            ],
            [
             0.1111111111111111,
             "#46039f"
            ],
            [
             0.2222222222222222,
             "#7201a8"
            ],
            [
             0.3333333333333333,
             "#9c179e"
            ],
            [
             0.4444444444444444,
             "#bd3786"
            ],
            [
             0.5555555555555556,
             "#d8576b"
            ],
            [
             0.6666666666666666,
             "#ed7953"
            ],
            [
             0.7777777777777778,
             "#fb9f3a"
            ],
            [
             0.8888888888888888,
             "#fdca26"
            ],
            [
             1,
             "#f0f921"
            ]
           ],
           "sequentialminus": [
            [
             0,
             "#0d0887"
            ],
            [
             0.1111111111111111,
             "#46039f"
            ],
            [
             0.2222222222222222,
             "#7201a8"
            ],
            [
             0.3333333333333333,
             "#9c179e"
            ],
            [
             0.4444444444444444,
             "#bd3786"
            ],
            [
             0.5555555555555556,
             "#d8576b"
            ],
            [
             0.6666666666666666,
             "#ed7953"
            ],
            [
             0.7777777777777778,
             "#fb9f3a"
            ],
            [
             0.8888888888888888,
             "#fdca26"
            ],
            [
             1,
             "#f0f921"
            ]
           ]
          },
          "colorway": [
           "#636efa",
           "#EF553B",
           "#00cc96",
           "#ab63fa",
           "#FFA15A",
           "#19d3f3",
           "#FF6692",
           "#B6E880",
           "#FF97FF",
           "#FECB52"
          ],
          "font": {
           "color": "#2a3f5f"
          },
          "geo": {
           "bgcolor": "white",
           "lakecolor": "white",
           "landcolor": "#E5ECF6",
           "showlakes": true,
           "showland": true,
           "subunitcolor": "white"
          },
          "hoverlabel": {
           "align": "left"
          },
          "hovermode": "closest",
          "mapbox": {
           "style": "light"
          },
          "paper_bgcolor": "white",
          "plot_bgcolor": "#E5ECF6",
          "polar": {
           "angularaxis": {
            "gridcolor": "white",
            "linecolor": "white",
            "ticks": ""
           },
           "bgcolor": "#E5ECF6",
           "radialaxis": {
            "gridcolor": "white",
            "linecolor": "white",
            "ticks": ""
           }
          },
          "scene": {
           "xaxis": {
            "backgroundcolor": "#E5ECF6",
            "gridcolor": "white",
            "gridwidth": 2,
            "linecolor": "white",
            "showbackground": true,
            "ticks": "",
            "zerolinecolor": "white"
           },
           "yaxis": {
            "backgroundcolor": "#E5ECF6",
            "gridcolor": "white",
            "gridwidth": 2,
            "linecolor": "white",
            "showbackground": true,
            "ticks": "",
            "zerolinecolor": "white"
           },
           "zaxis": {
            "backgroundcolor": "#E5ECF6",
            "gridcolor": "white",
            "gridwidth": 2,
            "linecolor": "white",
            "showbackground": true,
            "ticks": "",
            "zerolinecolor": "white"
           }
          },
          "shapedefaults": {
           "line": {
            "color": "#2a3f5f"
           }
          },
          "ternary": {
           "aaxis": {
            "gridcolor": "white",
            "linecolor": "white",
            "ticks": ""
           },
           "baxis": {
            "gridcolor": "white",
            "linecolor": "white",
            "ticks": ""
           },
           "bgcolor": "#E5ECF6",
           "caxis": {
            "gridcolor": "white",
            "linecolor": "white",
            "ticks": ""
           }
          },
          "title": {
           "x": 0.05
          },
          "xaxis": {
           "automargin": true,
           "gridcolor": "white",
           "linecolor": "white",
           "ticks": "",
           "title": {
            "standoff": 15
           },
           "zerolinecolor": "white",
           "zerolinewidth": 2
          },
          "yaxis": {
           "automargin": true,
           "gridcolor": "white",
           "linecolor": "white",
           "ticks": "",
           "title": {
            "standoff": 15
           },
           "zerolinecolor": "white",
           "zerolinewidth": 2
          }
         }
        },
        "ternary": {
         "aaxis": {
          "gridcolor": "rgba(128, 128, 128, 0.4)",
          "linecolor": "black",
          "linewidth": 2,
          "showticklabels": true,
          "tickfont": {
           "size": 12
          },
          "tickvals": [
           0.1,
           0.2,
           0.3,
           0.4,
           0.5,
           0.6,
           0.7,
           0.8,
           0.9
          ],
          "title": {
           "text": "Copper (Cu)"
          }
         },
         "baxis": {
          "gridcolor": "rgba(128, 128, 128, 0.4)",
          "linecolor": "black",
          "linewidth": 2,
          "showticklabels": true,
          "tickfont": {
           "size": 12
          },
          "tickvals": [
           0.1,
           0.2,
           0.3,
           0.4,
           0.5,
           0.6,
           0.7,
           0.8,
           0.9
          ],
          "title": {
           "text": "Titanium (Ti)"
          }
         },
         "bgcolor": "rgba(250, 250, 250, 0.8)",
         "caxis": {
          "gridcolor": "rgba(128, 128, 128, 0.4)",
          "linecolor": "black",
          "linewidth": 2,
          "showticklabels": true,
          "tickfont": {
           "size": 12
          },
          "tickvals": [
           0.1,
           0.2,
           0.3,
           0.4,
           0.5,
           0.6,
           0.7,
           0.8,
           0.9
          ],
          "title": {
           "text": "Oxygen (O)"
          }
         }
        },
        "title": {
         "font": {
          "color": "black",
          "size": 18
         },
         "text": "Cu-Ti-O Chemical Space: Theory vs Experiment",
         "x": 0.5
        },
        "width": 700
       }
      },
      "text/html": [
       "<div>                            <div id=\"3665219a-6b2a-4daa-8d50-5dd9993e9148\" class=\"plotly-graph-div\" style=\"height:700px; width:700px;\"></div>            <script type=\"text/javascript\">                require([\"plotly\"], function(Plotly) {                    window.PLOTLYENV=window.PLOTLYENV || {};                                    if (document.getElementById(\"3665219a-6b2a-4daa-8d50-5dd9993e9148\")) {                    Plotly.newPlot(                        \"3665219a-6b2a-4daa-8d50-5dd9993e9148\",                        [{\"a\":[0.2222222222222222,0.2,0.18181818181818182,0.16666666666666666,0.09090909090909091,0.08333333333333333,0.1,0.5333333333333333,0.47058823529411764,0.5384615384615384,0.4375,0.21428571428571427,0.3333333333333333,0.13333333333333333,0.15384615384615385,0.18181818181818182,0.15384615384615385,0.125,0.1111111111111111,0.1,0.5,0.75,0.3333333333333333,0.5,0.25,0.2,0.16666666666666666,0.14285714285714285,0.125,0.1111111111111111,0.6666666666666666,0.3157894736842105,0.4166666666666667,0.38461538461538464,0.35714285714285715,0.4,0.2857142857142857,0.2222222222222222,0.7777777777777778,0.7,0.6363636363636364,0.5833333333333334,0.5384615384615384,0.4666666666666667,0.8888888888888888,0.2857142857142857,0.25,0.2222222222222222,0.2,0.18181818181818182,0.2857142857142857,0.2222222222222222,0.18181818181818182,0.5,0.25,0.2,0.16666666666666666,0.14285714285714285,0.125,0.0,0.0,0.0,0.0,0.0,0.35714285714285715,0.2727272727272727,0.25,0.15384615384615385,0.14285714285714285,0.13333333333333333,0.35294117647058826,0.08333333333333333,0.08333333333333333,0.7142857142857143,0.625,0.5555555555555556,0.45454545454545453,0.4166666666666667,0.38461538461538464,0.8571428571428571,0.5454545454545454,0.46153846153846156,0.875,0.4444444444444444,0.4,0.36363636363636365,0.3333333333333333,0.3076923076923077,0.36363636363636365,0.3076923076923077,0.3333333333333333,0.3125,0.6,0.42857142857142855,0.375,0.3,0.2727272727272727,0.8,0.5714285714285714,0.4444444444444444,0.36363636363636365,0.8333333333333334,0.4,0.3333333333333333,0.42857142857142855,0.4,0.16666666666666666,0.14285714285714285,0.125,0.1111111111111111,0.1,0.09090909090909091,0.5454545454545454,0.3333333333333333,0.2857142857142857,0.26666666666666666,0.0,1.0,0.2727272727272727,0.25,0.3,0.4444444444444444,0.07142857142857142,0.0625,0.3888888888888889,0.5714285714285714,0.0,0.5,0.3333333333333333,0.25,0.6666666666666666,0.4,0.11764705882352941,0.46153846153846156,0.4,0.07142857142857142,0.7272727272727273,0.6153846153846154,0.5333333333333333,0.5,0.1875,0.25,0.1111111111111111,0.42857142857142855,0.375,0.3333333333333333,0.3],\"b\":[0.3333333333333333,0.3,0.2727272727272727,0.25,0.2727272727272727,0.25,0.4,0.06666666666666667,0.11764705882352941,0.07692307692307693,0.0625,0.2857142857142857,0.13333333333333333,0.4,0.23076923076923078,0.36363636363636365,0.3076923076923077,0.375,0.3333333333333333,0.3,0.1,0.25,0.6666666666666666,0.5,0.75,0.8,0.8333333333333334,0.8571428571428571,0.875,0.8888888888888888,0.3333333333333333,0.2631578947368421,0.08333333333333333,0.07692307692307693,0.07142857142857142,0.6,0.7142857142857143,0.7777777777777778,0.2222222222222222,0.3,0.36363636363636365,0.4166666666666667,0.46153846153846156,0.5333333333333333,0.1111111111111111,0.14285714285714285,0.125,0.1111111111111111,0.1,0.09090909090909091,0.2857142857142857,0.2222222222222222,0.18181818181818182,0.125,0.25,0.2,0.16666666666666666,0.14285714285714285,0.125,0.5,0.3333333333333333,0.25,0.2,0.4,0.14285714285714285,0.18181818181818182,0.16666666666666666,0.38461538461538464,0.35714285714285715,0.3333333333333333,0.23529411764705882,0.3333333333333333,0.4166666666666667,0.2857142857142857,0.375,0.4444444444444444,0.5454545454545454,0.5833333333333334,0.6153846153846154,0.14285714285714285,0.45454545454545453,0.5384615384615384,0.125,0.1111111111111111,0.1,0.09090909090909091,0.08333333333333333,0.07692307692307693,0.18181818181818182,0.15384615384615385,0.2,0.1875,0.4,0.5714285714285714,0.625,0.7,0.7272727272727273,0.2,0.42857142857142855,0.5555555555555556,0.6363636363636364,0.16666666666666666,0.2,0.16666666666666666,0.07142857142857142,0.06666666666666667,0.3333333333333333,0.2857142857142857,0.25,0.2222222222222222,0.2,0.18181818181818182,0.09090909090909091,0.25,0.21428571428571427,0.2,0.0,0.0,0.09090909090909091,0.08333333333333333,0.2,0.16666666666666666,0.35714285714285715,0.4375,0.16666666666666666,0.07142857142857142,1.0,0.0,0.0,0.0,0.0,0.0,0.4117647058823529,0.15384615384615385,0.13333333333333333,0.42857142857142855,0.2727272727272727,0.38461538461538464,0.4666666666666667,0.08333333333333333,0.3125,0.3125,0.1111111111111111,0.14285714285714285,0.125,0.1111111111111111,0.1],\"c\":[0.4444444444444444,0.5,0.5454545454545454,0.5833333333333334,0.6363636363636364,0.6666666666666666,0.5,0.4,0.4117647058823529,0.38461538461538464,0.5,0.5,0.5333333333333333,0.4666666666666667,0.6153846153846154,0.45454545454545453,0.5384615384615384,0.5,0.5555555555555556,0.6,0.4,0.0,0.0,0.0,0.0,0.0,0.0,0.0,0.0,0.0,0.0,0.42105263157894735,0.5,0.5384615384615384,0.5714285714285714,0.0,0.0,0.0,0.0,0.0,0.0,0.0,0.0,0.0,0.0,0.5714285714285714,0.625,0.6666666666666666,0.7,0.7272727272727273,0.42857142857142855,0.5555555555555556,0.6363636363636364,0.375,0.5,0.6,0.6666666666666666,0.7142857142857143,0.75,0.5,0.6666666666666666,0.75,0.8,0.6,0.5,0.5454545454545454,0.5833333333333334,0.46153846153846156,0.5,0.5333333333333333,0.4117647058823529,0.5833333333333334,0.5,0.0,0.0,0.0,0.0,0.0,0.0,0.0,0.0,0.0,0.0,0.4444444444444444,0.5,0.5454545454545454,0.5833333333333334,0.6153846153846154,0.45454545454545453,0.5384615384615384,0.4666666666666667,0.5,0.0,0.0,0.0,0.0,0.0,0.0,0.0,0.0,0.0,0.0,0.4,0.5,0.5,0.5333333333333333,0.5,0.5714285714285714,0.625,0.6666666666666666,0.7,0.7272727272727273,0.36363636363636365,0.4166666666666667,0.5,0.5333333333333333,1.0,0.0,0.6363636363636364,0.6666666666666666,0.5,0.3888888888888889,0.5714285714285714,0.5,0.4444444444444444,0.35714285714285715,0.0,0.5,0.6666666666666666,0.75,0.3333333333333333,0.6,0.47058823529411764,0.38461538461538464,0.4666666666666667,0.5,0.0,0.0,0.0,0.4166666666666667,0.5,0.4375,0.7777777777777778,0.42857142857142855,0.5,0.5555555555555556,0.6],\"hovertemplate\":\"\\u003cb\\u003eSMACT Valid Composition\\u003c\\u002fb\\u003e\\u003cbr\\u003eCu: %{a:.3f}\\u003cbr\\u003eTi: %{b:.3f}\\u003cbr\\u003eO: %{c:.3f}\\u003cextra\\u003e\\u003c\\u002fextra\\u003e\",\"marker\":{\"color\":\"lightblue\",\"line\":{\"color\":\"blue\",\"width\":0.5},\"opacity\":0.5,\"size\":5,\"symbol\":\"circle\"},\"mode\":\"markers\",\"name\":\"SMACT Predictions (147)\",\"type\":\"scatterternary\"},{\"a\":[1.0,1.0,1.0,1.0,1.0,1.0,1.0,1.0,0.0,0.0,0.0,0.0,0.0,0.0,0.0,0.0,0.0,0.0,0.0,0.0,0.0,0.0,0.0,0.0,0.0,0.0,0.0,0.0,0.0,0.0,0.0,0.0,0.0,0.0,0.0,0.0,0.3333333333333333,0.3333333333333333,0.6,0.6,0.25,0.5714285714285714,0.2857142857142857,0.5,0.5,0.6666666666666666,0.75,0.8,0.0,0.0,0.0,0.0,0.0,0.0,0.0,0.0,0.0,0.0,0.6666666666666666,0.4,0.4,0.4,0.4,0.4,0.6,0.42857142857142855,0.42857142857142855,0.5714285714285714,0.5714285714285714,0.4166666666666667,0.9846153846153847,0.8571428571428571,0.8888888888888888,0.8888888888888888,0.5333333333333333,0.5333333333333333,0.5333333333333333,0.4090909090909091,0.5,0.5,0.5,0.5,0.5,0.5,0.5,0.5,0.5,0.3333333333333333,0.3333333333333333,0.3333333333333333,0.3333333333333333,0.3333333333333333,0.3333333333333333,0.3333333333333333,0.3333333333333333,0.3333333333333333,0.42857142857142855,0.08333333333333333,0.15789473684210525,0.2857142857142857,0.2857142857142857,0.3333333333333333,0.375,0.375,0.375,0.375,0.375,0.2,0.2,0.0,0.0,0.0,0.0,0.0,0.0,0.0,0.0,0.0,0.0,0.0,0.0,0.0,0.0,0.0,0.0,0.0,0.0,0.0,0.0,0.0,0.0,0.0,0.0,0.0,0.0,0.0,0.0,0.0,0.0,0.0,0.0,0.0,0.0,0.0,0.0,0.0,0.0,0.0,0.0,0.0,0.0,0.0,0.0,0.0,0.0,0.0,0.0,0.0,0.0,0.0,0.0,0.0,0.0,0.0,0.0,0.0,0.0,0.0,0.0,0.0,0.0,0.0,0.0,0.0,0.0,0.0,0.0,0.0,0.0,0.0,0.0,0.0,0.0,0.0,0.0,0.0,0.0,0.0,0.0,0.0,0.0,0.0,0.0,0.0,0.0,0.0,0.0,0.0,0.0,0.0,0.0,0.0,0.0,0.0,0.0,0.0,0.0,0.0,0.0,0.0,0.0,0.0,0.0,0.0,0.0,0.0,0.0,0.0,0.0,0.0,0.0,0.0,0.0,0.0,0.0,0.0,0.0,0.0,0.0,0.0,0.0,0.0,0.0],\"b\":[0.0,0.0,0.0,0.0,0.0,0.0,0.0,0.0,0.0,0.0,0.0,0.0,0.0,0.0,0.0,0.0,0.0,0.0,0.0,0.0,0.0,0.0,0.0,0.0,0.0,0.0,0.0,0.0,0.0,0.0,0.0,0.0,0.0,0.0,0.0,0.0,0.6666666666666666,0.6666666666666666,0.4,0.4,0.75,0.42857142857142855,0.7142857142857143,0.5,0.5,0.3333333333333333,0.25,0.2,1.0,1.0,1.0,1.0,1.0,1.0,1.0,1.0,1.0,1.0,0.0,0.0,0.0,0.0,0.0,0.0,0.0,0.0,0.0,0.0,0.0,0.0,0.0,0.0,0.0,0.0,0.0,0.0,0.0,0.0,0.0,0.0,0.0,0.0,0.0,0.0,0.0,0.0,0.0,0.0,0.0,0.0,0.0,0.0,0.0,0.0,0.0,0.0,0.42857142857142855,0.25,0.21052631578947367,0.5714285714285714,0.5714285714285714,0.16666666666666666,0.125,0.125,0.125,0.125,0.125,0.2,0.2,0.47619047619047616,0.43478260869565216,0.44,0.44,0.44,0.3793103448275862,0.37142857142857144,0.3877551020408163,0.6666666666666666,0.6666666666666666,0.6666666666666666,0.6666666666666666,0.6666666666666666,0.6666666666666666,0.6666666666666666,0.4,0.4,0.4,0.4,0.4,0.4,0.4,0.2222222222222222,0.75,0.75,0.75,0.75,0.75,0.75,0.6,0.42857142857142855,0.42857142857142855,0.375,0.375,0.375,0.375,0.375,0.375,0.375,0.375,0.375,0.3,0.3,0.3,0.2727272727272727,0.5714285714285714,0.4444444444444444,0.36363636363636365,0.36363636363636365,0.4166666666666667,0.38461538461538464,0.35714285714285715,0.8571428571428571,0.8571428571428571,0.35294117647058826,0.35294117647058826,0.35,0.4666666666666667,0.38095238095238093,0.34782608695652173,0.47368421052631576,0.47368421052631576,0.4090909090909091,0.34615384615384615,0.5294117647058824,0.5,0.5,0.5,0.5,0.5,0.5,0.5,0.5,0.5,0.5,0.5,0.5,0.5,0.3333333333333333,0.3333333333333333,0.3333333333333333,0.3333333333333333,0.3333333333333333,0.3333333333333333,0.3333333333333333,0.3333333333333333,0.3333333333333333,0.3333333333333333,0.3333333333333333,0.3333333333333333,0.3333333333333333,0.3333333333333333,0.3333333333333333,0.3333333333333333,0.3333333333333333,0.3333333333333333,0.3333333333333333,0.3333333333333333,0.3333333333333333,0.3333333333333333,0.3333333333333333,0.3333333333333333,0.3333333333333333,0.3333333333333333,0.3333333333333333,0.3333333333333333,0.3333333333333333,0.3333333333333333,0.3333333333333333,0.3333333333333333,0.3333333333333333,0.3333333333333333,0.3333333333333333,0.3333333333333333,0.3333333333333333,0.3333333333333333,0.3333333333333333,0.3333333333333333,0.3333333333333333,0.3333333333333333,0.3333333333333333,0.3333333333333333,0.3333333333333333,0.3333333333333333],\"c\":[0.0,0.0,0.0,0.0,0.0,0.0,0.0,0.0,1.0,1.0,1.0,1.0,1.0,1.0,1.0,1.0,1.0,1.0,1.0,1.0,1.0,1.0,1.0,1.0,1.0,1.0,1.0,1.0,1.0,1.0,1.0,1.0,1.0,1.0,1.0,1.0,0.0,0.0,0.0,0.0,0.0,0.0,0.0,0.0,0.0,0.0,0.0,0.0,0.0,0.0,0.0,0.0,0.0,0.0,0.0,0.0,0.0,0.0,0.3333333333333333,0.6,0.6,0.6,0.6,0.6,0.4,0.5714285714285714,0.5714285714285714,0.42857142857142855,0.42857142857142855,0.5833333333333334,0.015384615384615385,0.14285714285714285,0.1111111111111111,0.1111111111111111,0.4666666666666667,0.4666666666666667,0.4666666666666667,0.5909090909090909,0.5,0.5,0.5,0.5,0.5,0.5,0.5,0.5,0.5,0.6666666666666666,0.6666666666666666,0.6666666666666666,0.6666666666666666,0.6666666666666666,0.6666666666666666,0.6666666666666666,0.6666666666666666,0.6666666666666666,0.14285714285714285,0.6666666666666666,0.631578947368421,0.14285714285714285,0.14285714285714285,0.5,0.5,0.5,0.5,0.5,0.5,0.6,0.6,0.5238095238095238,0.5652173913043478,0.56,0.56,0.56,0.6206896551724138,0.6285714285714286,0.6122448979591837,0.3333333333333333,0.3333333333333333,0.3333333333333333,0.3333333333333333,0.3333333333333333,0.3333333333333333,0.3333333333333333,0.6,0.6,0.6,0.6,0.6,0.6,0.6,0.7777777777777778,0.25,0.25,0.25,0.25,0.25,0.25,0.4,0.5714285714285714,0.5714285714285714,0.625,0.625,0.625,0.625,0.625,0.625,0.625,0.625,0.625,0.7,0.7,0.7,0.7272727272727273,0.42857142857142855,0.5555555555555556,0.6363636363636364,0.6363636363636364,0.5833333333333334,0.6153846153846154,0.6428571428571429,0.14285714285714285,0.14285714285714285,0.6470588235294118,0.6470588235294118,0.65,0.5333333333333333,0.6190476190476191,0.6521739130434783,0.5263157894736842,0.5263157894736842,0.5909090909090909,0.6538461538461539,0.47058823529411764,0.5,0.5,0.5,0.5,0.5,0.5,0.5,0.5,0.5,0.5,0.5,0.5,0.5,0.6666666666666666,0.6666666666666666,0.6666666666666666,0.6666666666666666,0.6666666666666666,0.6666666666666666,0.6666666666666666,0.6666666666666666,0.6666666666666666,0.6666666666666666,0.6666666666666666,0.6666666666666666,0.6666666666666666,0.6666666666666666,0.6666666666666666,0.6666666666666666,0.6666666666666666,0.6666666666666666,0.6666666666666666,0.6666666666666666,0.6666666666666666,0.6666666666666666,0.6666666666666666,0.6666666666666666,0.6666666666666666,0.6666666666666666,0.6666666666666666,0.6666666666666666,0.6666666666666666,0.6666666666666666,0.6666666666666666,0.6666666666666666,0.6666666666666666,0.6666666666666666,0.6666666666666666,0.6666666666666666,0.6666666666666666,0.6666666666666666,0.6666666666666666,0.6666666666666666,0.6666666666666666,0.6666666666666666,0.6666666666666666,0.6666666666666666,0.6666666666666666,0.6666666666666666],\"hovertemplate\":\"\\u003cb\\u003eMaterials Project (Validated)\\u003c\\u002fb\\u003e\\u003cbr\\u003eCu: %{a:.3f}\\u003cbr\\u003eTi: %{b:.3f}\\u003cbr\\u003eO: %{c:.3f}\\u003cextra\\u003e\\u003c\\u002fextra\\u003e\",\"marker\":{\"color\":\"red\",\"line\":{\"color\":\"darkred\",\"width\":1.5},\"opacity\":0.9,\"size\":12,\"symbol\":\"star\"},\"mode\":\"markers\",\"name\":\"Known Compounds (233)\",\"type\":\"scatterternary\"}],                        {\"template\":{\"data\":{\"histogram2dcontour\":[{\"type\":\"histogram2dcontour\",\"colorbar\":{\"outlinewidth\":0,\"ticks\":\"\"},\"colorscale\":[[0.0,\"#0d0887\"],[0.1111111111111111,\"#46039f\"],[0.2222222222222222,\"#7201a8\"],[0.3333333333333333,\"#9c179e\"],[0.4444444444444444,\"#bd3786\"],[0.5555555555555556,\"#d8576b\"],[0.6666666666666666,\"#ed7953\"],[0.7777777777777778,\"#fb9f3a\"],[0.8888888888888888,\"#fdca26\"],[1.0,\"#f0f921\"]]}],\"choropleth\":[{\"type\":\"choropleth\",\"colorbar\":{\"outlinewidth\":0,\"ticks\":\"\"}}],\"histogram2d\":[{\"type\":\"histogram2d\",\"colorbar\":{\"outlinewidth\":0,\"ticks\":\"\"},\"colorscale\":[[0.0,\"#0d0887\"],[0.1111111111111111,\"#46039f\"],[0.2222222222222222,\"#7201a8\"],[0.3333333333333333,\"#9c179e\"],[0.4444444444444444,\"#bd3786\"],[0.5555555555555556,\"#d8576b\"],[0.6666666666666666,\"#ed7953\"],[0.7777777777777778,\"#fb9f3a\"],[0.8888888888888888,\"#fdca26\"],[1.0,\"#f0f921\"]]}],\"heatmap\":[{\"type\":\"heatmap\",\"colorbar\":{\"outlinewidth\":0,\"ticks\":\"\"},\"colorscale\":[[0.0,\"#0d0887\"],[0.1111111111111111,\"#46039f\"],[0.2222222222222222,\"#7201a8\"],[0.3333333333333333,\"#9c179e\"],[0.4444444444444444,\"#bd3786\"],[0.5555555555555556,\"#d8576b\"],[0.6666666666666666,\"#ed7953\"],[0.7777777777777778,\"#fb9f3a\"],[0.8888888888888888,\"#fdca26\"],[1.0,\"#f0f921\"]]}],\"heatmapgl\":[{\"type\":\"heatmapgl\",\"colorbar\":{\"outlinewidth\":0,\"ticks\":\"\"},\"colorscale\":[[0.0,\"#0d0887\"],[0.1111111111111111,\"#46039f\"],[0.2222222222222222,\"#7201a8\"],[0.3333333333333333,\"#9c179e\"],[0.4444444444444444,\"#bd3786\"],[0.5555555555555556,\"#d8576b\"],[0.6666666666666666,\"#ed7953\"],[0.7777777777777778,\"#fb9f3a\"],[0.8888888888888888,\"#fdca26\"],[1.0,\"#f0f921\"]]}],\"contourcarpet\":[{\"type\":\"contourcarpet\",\"colorbar\":{\"outlinewidth\":0,\"ticks\":\"\"}}],\"contour\":[{\"type\":\"contour\",\"colorbar\":{\"outlinewidth\":0,\"ticks\":\"\"},\"colorscale\":[[0.0,\"#0d0887\"],[0.1111111111111111,\"#46039f\"],[0.2222222222222222,\"#7201a8\"],[0.3333333333333333,\"#9c179e\"],[0.4444444444444444,\"#bd3786\"],[0.5555555555555556,\"#d8576b\"],[0.6666666666666666,\"#ed7953\"],[0.7777777777777778,\"#fb9f3a\"],[0.8888888888888888,\"#fdca26\"],[1.0,\"#f0f921\"]]}],\"surface\":[{\"type\":\"surface\",\"colorbar\":{\"outlinewidth\":0,\"ticks\":\"\"},\"colorscale\":[[0.0,\"#0d0887\"],[0.1111111111111111,\"#46039f\"],[0.2222222222222222,\"#7201a8\"],[0.3333333333333333,\"#9c179e\"],[0.4444444444444444,\"#bd3786\"],[0.5555555555555556,\"#d8576b\"],[0.6666666666666666,\"#ed7953\"],[0.7777777777777778,\"#fb9f3a\"],[0.8888888888888888,\"#fdca26\"],[1.0,\"#f0f921\"]]}],\"mesh3d\":[{\"type\":\"mesh3d\",\"colorbar\":{\"outlinewidth\":0,\"ticks\":\"\"}}],\"scatter\":[{\"fillpattern\":{\"fillmode\":\"overlay\",\"size\":10,\"solidity\":0.2},\"type\":\"scatter\"}],\"parcoords\":[{\"type\":\"parcoords\",\"line\":{\"colorbar\":{\"outlinewidth\":0,\"ticks\":\"\"}}}],\"scatterpolargl\":[{\"type\":\"scatterpolargl\",\"marker\":{\"colorbar\":{\"outlinewidth\":0,\"ticks\":\"\"}}}],\"bar\":[{\"error_x\":{\"color\":\"#2a3f5f\"},\"error_y\":{\"color\":\"#2a3f5f\"},\"marker\":{\"line\":{\"color\":\"#E5ECF6\",\"width\":0.5},\"pattern\":{\"fillmode\":\"overlay\",\"size\":10,\"solidity\":0.2}},\"type\":\"bar\"}],\"scattergeo\":[{\"type\":\"scattergeo\",\"marker\":{\"colorbar\":{\"outlinewidth\":0,\"ticks\":\"\"}}}],\"scatterpolar\":[{\"type\":\"scatterpolar\",\"marker\":{\"colorbar\":{\"outlinewidth\":0,\"ticks\":\"\"}}}],\"histogram\":[{\"marker\":{\"pattern\":{\"fillmode\":\"overlay\",\"size\":10,\"solidity\":0.2}},\"type\":\"histogram\"}],\"scattergl\":[{\"type\":\"scattergl\",\"marker\":{\"colorbar\":{\"outlinewidth\":0,\"ticks\":\"\"}}}],\"scatter3d\":[{\"type\":\"scatter3d\",\"line\":{\"colorbar\":{\"outlinewidth\":0,\"ticks\":\"\"}},\"marker\":{\"colorbar\":{\"outlinewidth\":0,\"ticks\":\"\"}}}],\"scattermapbox\":[{\"type\":\"scattermapbox\",\"marker\":{\"colorbar\":{\"outlinewidth\":0,\"ticks\":\"\"}}}],\"scatterternary\":[{\"type\":\"scatterternary\",\"marker\":{\"colorbar\":{\"outlinewidth\":0,\"ticks\":\"\"}}}],\"scattercarpet\":[{\"type\":\"scattercarpet\",\"marker\":{\"colorbar\":{\"outlinewidth\":0,\"ticks\":\"\"}}}],\"carpet\":[{\"aaxis\":{\"endlinecolor\":\"#2a3f5f\",\"gridcolor\":\"white\",\"linecolor\":\"white\",\"minorgridcolor\":\"white\",\"startlinecolor\":\"#2a3f5f\"},\"baxis\":{\"endlinecolor\":\"#2a3f5f\",\"gridcolor\":\"white\",\"linecolor\":\"white\",\"minorgridcolor\":\"white\",\"startlinecolor\":\"#2a3f5f\"},\"type\":\"carpet\"}],\"table\":[{\"cells\":{\"fill\":{\"color\":\"#EBF0F8\"},\"line\":{\"color\":\"white\"}},\"header\":{\"fill\":{\"color\":\"#C8D4E3\"},\"line\":{\"color\":\"white\"}},\"type\":\"table\"}],\"barpolar\":[{\"marker\":{\"line\":{\"color\":\"#E5ECF6\",\"width\":0.5},\"pattern\":{\"fillmode\":\"overlay\",\"size\":10,\"solidity\":0.2}},\"type\":\"barpolar\"}],\"pie\":[{\"automargin\":true,\"type\":\"pie\"}]},\"layout\":{\"autotypenumbers\":\"strict\",\"colorway\":[\"#636efa\",\"#EF553B\",\"#00cc96\",\"#ab63fa\",\"#FFA15A\",\"#19d3f3\",\"#FF6692\",\"#B6E880\",\"#FF97FF\",\"#FECB52\"],\"font\":{\"color\":\"#2a3f5f\"},\"hovermode\":\"closest\",\"hoverlabel\":{\"align\":\"left\"},\"paper_bgcolor\":\"white\",\"plot_bgcolor\":\"#E5ECF6\",\"polar\":{\"bgcolor\":\"#E5ECF6\",\"angularaxis\":{\"gridcolor\":\"white\",\"linecolor\":\"white\",\"ticks\":\"\"},\"radialaxis\":{\"gridcolor\":\"white\",\"linecolor\":\"white\",\"ticks\":\"\"}},\"ternary\":{\"bgcolor\":\"#E5ECF6\",\"aaxis\":{\"gridcolor\":\"white\",\"linecolor\":\"white\",\"ticks\":\"\"},\"baxis\":{\"gridcolor\":\"white\",\"linecolor\":\"white\",\"ticks\":\"\"},\"caxis\":{\"gridcolor\":\"white\",\"linecolor\":\"white\",\"ticks\":\"\"}},\"coloraxis\":{\"colorbar\":{\"outlinewidth\":0,\"ticks\":\"\"}},\"colorscale\":{\"sequential\":[[0.0,\"#0d0887\"],[0.1111111111111111,\"#46039f\"],[0.2222222222222222,\"#7201a8\"],[0.3333333333333333,\"#9c179e\"],[0.4444444444444444,\"#bd3786\"],[0.5555555555555556,\"#d8576b\"],[0.6666666666666666,\"#ed7953\"],[0.7777777777777778,\"#fb9f3a\"],[0.8888888888888888,\"#fdca26\"],[1.0,\"#f0f921\"]],\"sequentialminus\":[[0.0,\"#0d0887\"],[0.1111111111111111,\"#46039f\"],[0.2222222222222222,\"#7201a8\"],[0.3333333333333333,\"#9c179e\"],[0.4444444444444444,\"#bd3786\"],[0.5555555555555556,\"#d8576b\"],[0.6666666666666666,\"#ed7953\"],[0.7777777777777778,\"#fb9f3a\"],[0.8888888888888888,\"#fdca26\"],[1.0,\"#f0f921\"]],\"diverging\":[[0,\"#8e0152\"],[0.1,\"#c51b7d\"],[0.2,\"#de77ae\"],[0.3,\"#f1b6da\"],[0.4,\"#fde0ef\"],[0.5,\"#f7f7f7\"],[0.6,\"#e6f5d0\"],[0.7,\"#b8e186\"],[0.8,\"#7fbc41\"],[0.9,\"#4d9221\"],[1,\"#276419\"]]},\"xaxis\":{\"gridcolor\":\"white\",\"linecolor\":\"white\",\"ticks\":\"\",\"title\":{\"standoff\":15},\"zerolinecolor\":\"white\",\"automargin\":true,\"zerolinewidth\":2},\"yaxis\":{\"gridcolor\":\"white\",\"linecolor\":\"white\",\"ticks\":\"\",\"title\":{\"standoff\":15},\"zerolinecolor\":\"white\",\"automargin\":true,\"zerolinewidth\":2},\"scene\":{\"xaxis\":{\"backgroundcolor\":\"#E5ECF6\",\"gridcolor\":\"white\",\"linecolor\":\"white\",\"showbackground\":true,\"ticks\":\"\",\"zerolinecolor\":\"white\",\"gridwidth\":2},\"yaxis\":{\"backgroundcolor\":\"#E5ECF6\",\"gridcolor\":\"white\",\"linecolor\":\"white\",\"showbackground\":true,\"ticks\":\"\",\"zerolinecolor\":\"white\",\"gridwidth\":2},\"zaxis\":{\"backgroundcolor\":\"#E5ECF6\",\"gridcolor\":\"white\",\"linecolor\":\"white\",\"showbackground\":true,\"ticks\":\"\",\"zerolinecolor\":\"white\",\"gridwidth\":2}},\"shapedefaults\":{\"line\":{\"color\":\"#2a3f5f\"}},\"annotationdefaults\":{\"arrowcolor\":\"#2a3f5f\",\"arrowhead\":0,\"arrowwidth\":1},\"geo\":{\"bgcolor\":\"white\",\"landcolor\":\"#E5ECF6\",\"subunitcolor\":\"white\",\"showland\":true,\"showlakes\":true,\"lakecolor\":\"white\"},\"title\":{\"x\":0.05},\"mapbox\":{\"style\":\"light\"}}},\"title\":{\"font\":{\"size\":18,\"color\":\"black\"},\"text\":\"Cu-Ti-O Chemical Space: Theory vs Experiment\",\"x\":0.5},\"font\":{\"size\":12,\"family\":\"Arial\"},\"ternary\":{\"aaxis\":{\"tickfont\":{\"size\":12},\"title\":{\"text\":\"Copper (Cu)\"},\"linewidth\":2,\"linecolor\":\"black\",\"gridcolor\":\"rgba(128, 128, 128, 0.4)\",\"showticklabels\":true,\"tickvals\":[0.1,0.2,0.3,0.4,0.5,0.6,0.7,0.8,0.9]},\"baxis\":{\"tickfont\":{\"size\":12},\"title\":{\"text\":\"Titanium (Ti)\"},\"linewidth\":2,\"linecolor\":\"black\",\"gridcolor\":\"rgba(128, 128, 128, 0.4)\",\"showticklabels\":true,\"tickvals\":[0.1,0.2,0.3,0.4,0.5,0.6,0.7,0.8,0.9]},\"caxis\":{\"tickfont\":{\"size\":12},\"title\":{\"text\":\"Oxygen (O)\"},\"linewidth\":2,\"linecolor\":\"black\",\"gridcolor\":\"rgba(128, 128, 128, 0.4)\",\"showticklabels\":true,\"tickvals\":[0.1,0.2,0.3,0.4,0.5,0.6,0.7,0.8,0.9]},\"bgcolor\":\"rgba(250, 250, 250, 0.8)\"},\"legend\":{\"x\":0.02,\"y\":0.98,\"bgcolor\":\"rgba(255,255,255,0.9)\",\"bordercolor\":\"gray\",\"borderwidth\":1},\"width\":700,\"height\":700,\"showlegend\":true,\"paper_bgcolor\":\"white\"},                        {\"responsive\": true}                    ).then(function(){\n",
       "                            \n",
       "var gd = document.getElementById('3665219a-6b2a-4daa-8d50-5dd9993e9148');\n",
       "var x = new MutationObserver(function (mutations, observer) {{\n",
       "        var display = window.getComputedStyle(gd).display;\n",
       "        if (!display || display === 'none') {{\n",
       "            console.log([gd, 'removed!']);\n",
       "            Plotly.purge(gd);\n",
       "            observer.disconnect();\n",
       "        }}\n",
       "}});\n",
       "\n",
       "// Listen for the removal of the full notebook cells\n",
       "var notebookContainer = gd.closest('#notebook-container');\n",
       "if (notebookContainer) {{\n",
       "    x.observe(notebookContainer, {childList: true});\n",
       "}}\n",
       "\n",
       "// Listen for the clearing of the current output cell\n",
       "var outputEl = gd.closest('.output');\n",
       "if (outputEl) {{\n",
       "    x.observe(outputEl, {childList: true});\n",
       "}}\n",
       "\n",
       "                        })                };                });            </script>        </div>"
      ]
     },
     "metadata": {},
     "output_type": "display_data"
    },
    {
     "name": "stdout",
     "output_type": "stream",
     "text": [
      "✓ Ternary plot created successfully!\n",
      "\n",
      "🔍 What the plot shows:\n",
      "   • Blue circles: Compositions predicted by SMACT as chemically feasible\n",
      "   • Red stars: Compounds that have actually been synthesised (Materials Project)\n",
      "   • Empty regions: Chemical space where no stable compounds exist\n",
      "   • Blue circles without red stars: Potential targets for new materials!\n"
     ]
    }
   ],
   "source": [
    "\n",
    "print(\"Creating ternary plot to visualise Cu-Ti-O chemical space...\")\n",
    "\n",
    "def composition_to_fractions(comp, element_list):\n",
    "    \"\"\"Convert composition to fractional coordinates for ternary plotting.\"\"\"\n",
    "    amounts = [comp[el.symbol] for el in element_list]\n",
    "    total = sum(amounts)\n",
    "    return [amt/total for amt in amounts] if total > 0 else [0, 0, 0]\n",
    "\n",
    "# Convert compositions to ternary coordinates\n",
    "smact_fractions = np.array([composition_to_fractions(c, elements) for c in valid_compositions])\n",
    "cu_s, ti_s, o_s = smact_fractions[:,0], smact_fractions[:,1], smact_fractions[:,2]\n",
    "\n",
    "# Convert MP compositions if available\n",
    "if mp_compositions:\n",
    "    mp_fractions = np.array([composition_to_fractions(c, elements) for c in mp_compositions])\n",
    "    cu_m, ti_m, o_m = mp_fractions[:,0], mp_fractions[:,1], mp_fractions[:,2]\n",
    "    print(f\"Plotting {len(smact_fractions)} SMACT predictions and {len(mp_fractions)} validated MP compounds\")\n",
    "else:\n",
    "    cu_m, ti_m, o_m = [], [], []\n",
    "    print(f\"Plotting {len(smact_fractions)} SMACT predictions only\")\n",
    "\n",
    "# Create ternary plot\n",
    "fig = go.Figure()\n",
    "\n",
    "# Plot SMACT predictions\n",
    "fig.add_trace(go.Scatterternary(\n",
    "    a=cu_s, b=ti_s, c=o_s,\n",
    "    mode=\"markers\",\n",
    "    marker=dict(\n",
    "        size=5,\n",
    "        color=\"lightblue\",\n",
    "        symbol=\"circle\",\n",
    "        opacity=0.5,\n",
    "        line=dict(width=0.5, color=\"blue\")\n",
    "    ),\n",
    "    name=f\"SMACT Predictions ({len(valid_compositions)})\",\n",
    "    hovertemplate=\"<b>SMACT Valid Composition</b><br>\" +\n",
    "                  \"Cu: %{a:.3f}<br>\" +\n",
    "                  \"Ti: %{b:.3f}<br>\" +\n",
    "                  \"O: %{c:.3f}<extra></extra>\"\n",
    "))\n",
    "\n",
    "# Plot known compounds if available\n",
    "if len(cu_m) > 0:\n",
    "    fig.add_trace(go.Scatterternary(\n",
    "        a=cu_m, b=ti_m, c=o_m,\n",
    "        mode=\"markers\",\n",
    "        marker=dict(\n",
    "            size=12,\n",
    "            color=\"red\",\n",
    "            symbol=\"star\",\n",
    "            opacity=0.9,\n",
    "            line=dict(width=1.5, color=\"darkred\")\n",
    "        ),\n",
    "        name=f\"Known Compounds ({len(mp_compositions)})\",\n",
    "        hovertemplate=\"<b>Materials Project (Validated)</b><br>\" +\n",
    "                      \"Cu: %{a:.3f}<br>\" +\n",
    "                      \"Ti: %{b:.3f}<br>\" +\n",
    "                      \"O: %{c:.3f}<extra></extra>\"\n",
    "    ))\n",
    "\n",
    "# Enhanced styling\n",
    "axis_style = dict(\n",
    "    title=dict(font=dict(size=16, color=\"black\")),\n",
    "    linewidth=2,\n",
    "    linecolor=\"black\",\n",
    "    gridcolor=\"rgba(128, 128, 128, 0.4)\",\n",
    "    showticklabels=True,\n",
    "    tickvals=[0.1, 0.2, 0.3, 0.4, 0.5, 0.6, 0.7, 0.8, 0.9],\n",
    "    tickfont=dict(size=12)\n",
    ")\n",
    "\n",
    "# Style the plot\n",
    "fig.update_layout(\n",
    "    title=dict(\n",
    "        text=\"Cu-Ti-O Chemical Space: Theory vs Experiment\",\n",
    "        font=dict(size=18, color=\"black\"),\n",
    "        x=0.5\n",
    "    ),\n",
    "    font=dict(size=12, family=\"Arial\"),\n",
    "    width=700,\n",
    "    height=700,\n",
    "    ternary=dict(\n",
    "        bgcolor=\"rgba(250, 250, 250, 0.8)\",\n",
    "        aaxis=dict(axis_style, title=\"Copper (Cu)\"),\n",
    "        baxis=dict(axis_style, title=\"Titanium (Ti)\"),\n",
    "        caxis=dict(axis_style, title=\"Oxygen (O)\")\n",
    "    ),\n",
    "    showlegend=True,\n",
    "    legend=dict(\n",
    "        x=0.02, y=0.98, \n",
    "        bgcolor=\"rgba(255,255,255,0.9)\",\n",
    "        bordercolor=\"gray\",\n",
    "        borderwidth=1\n",
    "    ),\n",
    "    paper_bgcolor=\"white\"\n",
    ")\n",
    "\n",
    "fig.show()\n",
    "\n",
    "print(\"✓ Ternary plot created successfully!\")\n",
    "print(\"\\n🔍 What the plot shows:\")\n",
    "print(\"   • Blue circles: Compositions predicted by SMACT as chemically feasible\")\n",
    "print(\"   • Red stars: Compounds that have actually been synthesised (Materials Project)\")\n",
    "print(\"   • Empty regions: Chemical space where no stable compounds exist\")\n",
    "print(\"   • Blue circles without red stars: Potential targets for new materials!\")"
   ]
  },
  {
   "cell_type": "markdown",
   "metadata": {},
   "source": [
    "## Step 7: Identify Priority Targets for Synthesis"
   ]
  },
  {
   "cell_type": "code",
   "execution_count": 30,
   "metadata": {},
   "outputs": [
    {
     "name": "stdout",
     "output_type": "stream",
     "text": [
      "Identifying the most promising compositions for experimental synthesis...\n",
      "\n",
      "TOP SYNTHESIS TARGETS (ordered by complexity):\n",
      "Rank  Formula         Atoms    Elements   Complexity  \n",
      "-------------------------------------------------------\n",
      "1     Cu1 Ti1         2.0      2          4.0         \n",
      "2     Cu1 Ti2         3.0      2          5.0         \n",
      "3     Cu2 Ti1         3.0      2          5.0         \n",
      "4     Cu3 Ti1         4.0      2          6.0         \n",
      "5     Cu1 O3          4.0      2          6.0         \n",
      "6     Ti1 O3          4.0      2          6.0         \n",
      "7     Cu1 Ti3         4.0      2          6.0         \n",
      "8     Cu4 Ti1         5.0      2          7.0         \n",
      "9     Ti1 O4          5.0      2          7.0         \n",
      "10    Cu1 Ti1 O2      4.0      3          7.0         \n",
      "     ... and 127 more potential targets\n",
      "\n",
      "Target Summary:\n",
      "   Binary compositions (2 elements):   46\n",
      "   Ternary compositions (3 elements):  91\n",
      "   Total synthesis targets:            137\n",
      "\n",
      "Simplest binary targets:\n",
      "   1. Cu1 Ti1\n",
      "   2. Cu1 Ti2\n",
      "   3. Cu2 Ti1\n",
      "\n",
      "Simplest ternary targets:\n",
      "   1. Cu1 Ti1 O2\n",
      "   2. Cu2 Ti1 O2\n",
      "   3. Cu1 Ti1 O3\n",
      "\n",
      "Recommendation: Start experimental synthesis with the simplest\n",
      "   compositions first, as they're often easier to make successfully.\n"
     ]
    }
   ],
   "source": [
    "\n",
    "print(\"Identifying the most promising compositions for experimental synthesis...\\n\")\n",
    "\n",
    "if mp_compositions:\n",
    "    # Find compositions predicted by SMACT but not yet synthesised\n",
    "    smact_formulas = set(str(comp) for comp in valid_compositions)\n",
    "    mp_formulas = set(str(comp) for comp in mp_compositions)\n",
    "    unexplored_formulas = smact_formulas.difference(mp_formulas)\n",
    "    \n",
    "    if unexplored_formulas:\n",
    "        # Convert back to Composition objects for analysis\n",
    "        unexplored_compositions = [Composition(formula) for formula in unexplored_formulas]\n",
    "        \n",
    "        # Prioritise by complexity (simpler compositions often easier to synthesise)\n",
    "        def composition_complexity(comp):\n",
    "            \"\"\"Simple complexity metric: number of atoms + number of elements\"\"\"\n",
    "            return comp.num_atoms + len(comp.elements)\n",
    "        \n",
    "        # Sort by complexity (simpler first)\n",
    "        prioritised_targets = sorted(unexplored_compositions, key=composition_complexity)\n",
    "        \n",
    "        print(f\"TOP SYNTHESIS TARGETS (ordered by complexity):\")\n",
    "        print(f\"{'Rank':<5} {'Formula':<15} {'Atoms':<8} {'Elements':<10} {'Complexity':<12}\")\n",
    "        print(\"-\" * 55)\n",
    "        \n",
    "        for i, comp in enumerate(prioritised_targets[:10], 1):\n",
    "            complexity = composition_complexity(comp)\n",
    "            print(f\"{i:<5} {str(comp):<15} {comp.num_atoms:<8} {len(comp.elements):<10} {complexity:<12}\")\n",
    "        \n",
    "        if len(prioritised_targets) > 10:\n",
    "            print(f\"     ... and {len(prioritised_targets)-10} more potential targets\")\n",
    "        \n",
    "        # Analyse by composition type\n",
    "        binary_targets = [c for c in prioritised_targets if len(c.elements) == 2]\n",
    "        ternary_targets = [c for c in prioritised_targets if len(c.elements) == 3]\n",
    "        \n",
    "        print(f\"\\nTarget Summary:\")\n",
    "        print(f\"   Binary compositions (2 elements):  {len(binary_targets):>3}\")\n",
    "        print(f\"   Ternary compositions (3 elements): {len(ternary_targets):>3}\")\n",
    "        print(f\"   Total synthesis targets:            {len(prioritised_targets):>3}\")\n",
    "        \n",
    "        # Show some specific examples\n",
    "        if binary_targets:\n",
    "            print(f\"\\nSimplest binary targets:\")\n",
    "            for i, comp in enumerate(binary_targets[:3], 1):\n",
    "                print(f\"   {i}. {comp}\")\n",
    "        \n",
    "        if ternary_targets:\n",
    "            print(f\"\\nSimplest ternary targets:\")\n",
    "            for i, comp in enumerate(ternary_targets[:3], 1):\n",
    "                print(f\"   {i}. {comp}\")\n",
    "                \n",
    "        print(f\"\\nRecommendation: Start experimental synthesis with the simplest\")\n",
    "        print(f\"   compositions first, as they're often easier to make successfully.\")\n",
    "        \n",
    "    else:\n",
    "        print(\"All SMACT-predicted compositions have already been synthesised!\")\n",
    "        print(\"This chemical system appears to be well-explored experimentally.\")\n",
    "        \n",
    "else:\n",
    "    print(\"Cannot identify synthesis targets without Materials Project data.\")\n",
    "    print(\"All SMACT-valid compositions could potentially be synthesis targets:\")\n",
    "    \n",
    "    # Show the simplest valid compositions as potential targets\n",
    "    def composition_complexity(comp):\n",
    "        return comp.num_atoms + len(comp.elements)\n",
    "    \n",
    "    simple_targets = sorted(valid_compositions, key=composition_complexity)[:10]\n",
    "    \n",
    "    print(f\"\\nSimplest SMACT-valid compositions to try:\")\n",
    "    for i, comp in enumerate(simple_targets, 1):\n",
    "        complexity = composition_complexity(comp)\n",
    "        print(f\"   {i:2d}. {comp} (complexity: {complexity})\")"
   ]
  },
  {
   "cell_type": "markdown",
   "metadata": {},
   "source": [
    "## Summary: What We've Learned About Compositional Screening"
   ]
  },
  {
   "cell_type": "code",
   "execution_count": 31,
   "metadata": {},
   "outputs": [
    {
     "name": "stdout",
     "output_type": "stream",
     "text": [
      "🎊 Congratulations! You've completed a full compositional screening analysis.\n",
      "======================================================================\n",
      "\n",
      "KEY CONCEPTS MASTERED:\n",
      "✓ Generating comprehensive compositional spaces\n",
      "✓ Applying chemical filters to eliminate impossible compositions\n",
      "✓ Comparing theoretical predictions with experimental reality\n",
      "✓ Visualising chemical space using ternary plots\n",
      "✓ Identifying promising targets for materials synthesis\n",
      "\n",
      "YOUR ANALYSIS RESULTS:\n",
      "✓ Generated 571 total compositions\n",
      "✓ Found 147 chemically valid compositions\n",
      "✓ Compared with 233 known compounds\n",
      "✓ Identified 137 potential synthesis targets\n",
      "\n",
      "THE COMPOSITIONAL SCREENING WORKFLOW:\n",
      "1. Define chemical system → Cu-Ti-O\n",
      "2. Generate all compositions → Combinatorial approach\n",
      "3. Apply chemical filters → SMACT validity screening\n",
      "4. Compare with databases → Materials Project\n",
      "5. Visualise results → Ternary phase diagrams\n",
      "6. Prioritise targets → Complexity-based ranking\n",
      "\n",
      "🚀 NEXT STEPS:\n",
      "• Apply this workflow to other chemical systems of interest\n",
      "• Combine with additional filters (stability, synthesisability)\n",
      "• Use machine learning to predict properties of promising compositions\n",
      "• Design experiments to synthesise priority targets\n",
      "\n",
      "💡 REMEMBER:\n",
      "The goal of compositional screening isn't just to predict what's possible,\n",
      "but to guide experimental efforts towards the most promising unexplored\n",
      "regions of chemical space. You now have the computational tools to do this!\n",
      "\n",
      "======================================================================\n",
      "END OF COMPOSITIONAL SCREENING TUTORIAL\n"
     ]
    }
   ],
   "source": [
    "print(f\"YOUR ANALYSIS RESULTS:\")\n",
    "if 'unique_compositions' in locals():\n",
    "    print(f\"✓ Generated {len(unique_compositions)} total compositions\")\n",
    "if 'valid_compositions' in locals():\n",
    "    print(f\"✓ Found {len(valid_compositions)} chemically valid compositions\")\n",
    "if 'mp_compositions' in locals() and mp_compositions:\n",
    "    print(f\"✓ Compared with {len(mp_compositions)} known compounds\")\n",
    "    if 'predicted_but_unknown' in locals():\n",
    "        print(f\"✓ Identified {len(predicted_but_unknown)} potential synthesis targets\")"
   ]
  },
  {
   "cell_type": "markdown",
   "metadata": {},
   "source": [
    "### 💡 Key Concepts:\n",
    "\n",
    "✓ Generating comprehensive compositional spaces\n",
    "\n",
    "✓ Applying chemical filters to eliminate impossible compositions\n",
    "\n",
    "✓ Comparing theoretical predictions with experimental reality\n",
    "\n",
    "✓ Visualising chemical space using ternary plots\n",
    "\n",
    "✓ Identifying promising targets for materials synthesis\n",
    "\n",
    "### 🐎 The Compositional screening workflow:\n",
    "\n",
    "1. Define chemical system → Cu-Ti-O\n",
    "\n",
    "2. Generate all compositions → Combinatorial approach\n",
    "\n",
    "3. Apply chemical filters → SMACT validity screening\n",
    "\n",
    "4. Compare with databases → Materials Project\n",
    "\n",
    "5. Visualise results → Ternary phase diagrams\n",
    "\n",
    "6. Prioritise targets → Complexity-based ranking\n",
    "\n",
    "### 🚀 Next Steps:\n",
    "\n",
    "• Apply this workflow to other chemical systems of interest\n",
    "\n",
    "• Combine with additional filters (stability, synthesisability)\n",
    "\n",
    "• Use machine learning to predict properties of promising compositions\n",
    "\n",
    "• Design experiments to synthesise priority targets\n",
    "\n",
    "```{tip}\n",
    "Remember: The goal of compositional screening isn't just to predict what's possible,\n",
    "but to guide experimental efforts towards the most promising unexplored\n",
    "regions of chemical space. You now have the computational tools to do this! \n",
    "```\n",
    "\n"
   ]
  }
 ],
 "metadata": {
  "kernelspec": {
   "display_name": "materialsinformatics",
   "language": "python",
   "name": "python3"
  },
  "language_info": {
   "codemirror_mode": {
    "name": "ipython",
    "version": 3
   },
   "file_extension": ".py",
   "mimetype": "text/x-python",
   "name": "python",
   "nbconvert_exporter": "python",
   "pygments_lexer": "ipython3",
   "version": "3.13.0"
  }
 },
 "nbformat": 4,
 "nbformat_minor": 4
}
