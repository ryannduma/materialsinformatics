{
 "cells": [
  {
   "cell_type": "markdown",
   "metadata": {},
   "source": [
    "# Chemical Filters: From Theory to Practice with SMACT\n",
    "\n",
    "Welcome to the exploration of chemical filters! In the previous section, we saw how combinatorial explosion creates a large number of possible materials. Now we'll dive deep into the chemistry that helps us filter out the impossible combinations.\n",
    "\n",
    "## What You'll Learn\n",
    "\n",
    "In this notebook, we'll explore:\n",
    "\n",
    "1. **How each chemical filter works** - Understanding the science behind the screening\n",
    "2. **Implementing filters step by step** - From simple to sophisticated\n",
    "3. **Comparing filter effectiveness** - Which filters eliminate the most impossible combinations\n",
    "4. **Real-world applications** - Targeted screening for specific material types\n",
    "5. **Advanced filtering strategies** - Combining multiple criteria for maximum efficiency\n",
    "\n",
    "Think of this as your workshop for building intelligent chemical screening systems!"
   ]
  },
  {
   "cell_type": "markdown",
   "metadata": {},
   "source": [
    "## Setup: Loading Our Toolkit\n",
    "\n",
    "Before we start filtering, let's set up our environment with SMACT and related tools."
   ]
  },
  {
   "cell_type": "code",
   "execution_count": 40,
   "metadata": {},
   "outputs": [
    {
     "name": "stdout",
     "output_type": "stream",
     "text": [
      "SMACT loaded successfully (version attribute not available)\n",
      "Chemical filtering toolkit ready!\n",
      "✓ Materials Project API key found\n"
     ]
    }
   ],
   "source": [
    "# Core imports for chemical filtering\n",
    "import multiprocessing\n",
    "from itertools import combinations, product\n",
    "import numpy as np\n",
    "import pandas as pd\n",
    "import matplotlib.pyplot as plt\n",
    "import seaborn as sns\n",
    "from collections import defaultdict\n",
    "import os\n",
    "import csv\n",
    "from itertools import combinations\n",
    "from smact import element_dictionary\n",
    "from smact import Element\n",
    "from smact.screening import smact_filter\n",
    "\n",
    "# SMACT - our main chemical filtering toolkit\n",
    "import smact\n",
    "from smact import Element, element_dictionary\n",
    "from smact.screening import (\n",
    "    smact_filter, pauling_test, eneg_states_test, \n",
    "    smact_validity, neutral_ratios\n",
    ")\n",
    "\n",
    "# For chemical composition handling\n",
    "from pymatgen.core import Composition\n",
    "\n",
    "# For accessing real materials data (optional)\n",
    "try:\n",
    "    from mp_api.client import MPRester\n",
    "    mp_available = True\n",
    "except ImportError:\n",
    "    print(\"Materials Project API not available - install with: pip install mp-api\")\n",
    "    mp_available = False\n",
    "\n",
    "# Set plotting style\n",
    "plt.style.use('default')\n",
    "sns.set_palette(\"husl\")\n",
    "\n",
    "# Check SMACT version if available\n",
    "try:\n",
    "    print(f\"SMACT version: {smact.__version__}\")\n",
    "except AttributeError:\n",
    "    print(\"SMACT loaded successfully (version attribute not available)\")\n",
    "\n",
    "print(\"Chemical filtering toolkit ready!\")\n",
    "\n",
    "# Set up Materials Project API using environment variable\n",
    "myapikey = os.getenv('MP_API_KEY')\n",
    "if myapikey:\n",
    "    print(\"✓ Materials Project API key found\")\n",
    "else:\n",
    "    print(\"⚠ No MP_API_KEY environment variable found - Materials Project examples will be skipped\")\n",
    "    myapikey = \"replace_with_your_mp_api_key\""
   ]
  },
  {
   "cell_type": "markdown",
   "metadata": {},
   "source": [
    "## Pre-liminaries\n",
    "\n",
    "### Understanding SMACT\n",
    "In this section of the tutorial you will begin to get a feel for how SMACT works. SMACT is a Python library designed to facilitate the exploration of chemical spaces for materials discovery. It provides tools to:\n",
    "\n",
    "- Generate possible compositions based on element combinations.\n",
    "- Apply chemical rules such as charge neutrality and electronegativity balance.\n",
    "- Filter out compositions that are unlikely to form stable compounds.\n",
    "\n",
    "### Key Features of SMACT\n",
    "- **Element Class**: Represents elements with properties like oxidation states and electronegativities.\n",
    "- **Screening Functions**: Functions like **smact_filter** help apply chemical rules to filter compositions.\n",
    "- **Integration with Other Libraries**: SMACT works well with **pymatgen** and **matminer** for further analysis."
   ]
  },
  {
   "cell_type": "markdown",
   "metadata": {},
   "source": [
    "## Part A: Generating Chemical Spaces\n",
    "There are two primary ways to generate chemical spaces:\n",
    "- Combinatorial Generation: As shown in the previous tutorial, this is a method by which we systematically combinine elements to create potential compositions. \n",
    "- Fetching Data from Materials Project: Using the Materials Project database to obtain existing materials.\n",
    "\n",
    "### Combinatorial Generation\n",
    "We can generate all possible combinations of elements within a set to explore potential compounds.\n",
    "\n",
    "Example 1: Generate all ternary combinations from a list of elements."
   ]
  },
  {
   "cell_type": "code",
   "execution_count": 41,
   "metadata": {},
   "outputs": [
    {
     "name": "stdout",
     "output_type": "stream",
     "text": [
      "Combination 1: Li, Na, K\n",
      "Combination 2: Li, Na, Mg\n",
      "Combination 3: Li, Na, Ca\n",
      "Combination 4: Li, Na, Sr\n",
      "Combination 5: Li, Na, Ba\n"
     ]
    }
   ],
   "source": [
    "# Define elements of interest\n",
    "symbol_list = ['Li', 'Na', 'K', 'Mg', 'Ca', 'Sr', 'Ba', 'Al', 'Ga', 'In', 'Sn', 'Pb', 'Zn', 'Cd', 'Hg']\n",
    "all_elements = element_dictionary(symbol_list)\n",
    "\n",
    "# Generate all ternary combinations\n",
    "ternary_combinations = combinations(all_elements.values(), 3)\n",
    "\n",
    "# Print the first 5 combinations\n",
    "for i, combo in enumerate(list(ternary_combinations)[:5]):\n",
    "    print(f\"Combination {i+1}: {', '.join([el.symbol for el in combo])}\")"
   ]
  },
  {
   "cell_type": "markdown",
   "metadata": {},
   "source": [
    "Example 2: Fetching Data from Materials Project - \n",
    "The **Materials Project** is a database of computed materials properties. We can use their API to fetch materials data.\n",
    "\n"
   ]
  },
  {
   "cell_type": "code",
   "execution_count": null,
   "metadata": {},
   "outputs": [
    {
     "data": {
      "application/vnd.jupyter.widget-view+json": {
       "model_id": "cdf3ff0dea614adfa3c61c881ef6e215",
       "version_major": 2,
       "version_minor": 0
      },
      "text/plain": [
       "Retrieving SummaryDoc documents: 0it [00:00, ?it/s]"
      ]
     },
     "metadata": {},
     "output_type": "display_data"
    },
    {
     "data": {
      "application/vnd.jupyter.widget-view+json": {
       "model_id": "dd2c638b91444e7289db1ffe872a6a96",
       "version_major": 2,
       "version_minor": 0
      },
      "text/plain": [
       "Retrieving SummaryDoc documents:   0%|          | 0/2 [00:00<?, ?it/s]"
      ]
     },
     "metadata": {},
     "output_type": "display_data"
    },
    {
     "data": {
      "application/vnd.jupyter.widget-view+json": {
       "model_id": "809c1b2c77f94601bd56f41914004238",
       "version_major": 2,
       "version_minor": 0
      },
      "text/plain": [
       "Retrieving SummaryDoc documents:   0%|          | 0/76 [00:00<?, ?it/s]"
      ]
     },
     "metadata": {},
     "output_type": "display_data"
    },
    {
     "data": {
      "application/vnd.jupyter.widget-view+json": {
       "model_id": "3735ce7f2d5e41e7bf0fef8c5590f96a",
       "version_major": 2,
       "version_minor": 0
      },
      "text/plain": [
       "Retrieving SummaryDoc documents:   0%|          | 0/8 [00:00<?, ?it/s]"
      ]
     },
     "metadata": {},
     "output_type": "display_data"
    },
    {
     "data": {
      "application/vnd.jupyter.widget-view+json": {
       "model_id": "84ae9350b1b34640b192168ce1fbced9",
       "version_major": 2,
       "version_minor": 0
      },
      "text/plain": [
       "Retrieving SummaryDoc documents: 0it [00:00, ?it/s]"
      ]
     },
     "metadata": {},
     "output_type": "display_data"
    },
    {
     "name": "stdout",
     "output_type": "stream",
     "text": [
      "\n",
      "First 5 compounds found:\n",
      "  material_id formula elements  energy_above_hull crystal_system  band_gap  \\\n",
      "0  mp-1186151   NaLi3   Li, Na           0.043195     Tetragonal       0.0   \n",
      "1   mp-973316   NaLi3   Li, Na           0.040660      Hexagonal       0.0   \n",
      "2  mp-1094568    LiMg   Li, Mg           0.020893     Monoclinic       0.0   \n",
      "3  mp-1094601   Li2Mg   Li, Mg           0.011002     Monoclinic       0.0   \n",
      "4   mp-976843   Li2Mg   Li, Mg           0.003055     Monoclinic       0.0   \n",
      "\n",
      "   theoretical  \n",
      "0         True  \n",
      "1         True  \n",
      "2         True  \n",
      "3         True  \n",
      "4         True  \n",
      "\n",
      "Total compounds found: 86\n"
     ]
    }
   ],
   "source": [
    "def get_binary_compounds(api_key: str, metallic_elements: list) -> pd.DataFrame:\n",
    "    \"\"\"\n",
    "    Query Materials Project for stable binary metallic compounds.\n",
    "    \n",
    "    Args:\n",
    "        api_key: Materials Project API key\n",
    "        metallic_elements: List of metallic element symbols to search\n",
    "        \n",
    "    Returns:\n",
    "        DataFrame containing compound properties\n",
    "    \"\"\"\n",
    "    if not mp_available:\n",
    "        print(\"Materials Project API not available\")\n",
    "        return pd.DataFrame()\n",
    "        \n",
    "    if not api_key or api_key == \"replace_with_your_mp_api_key\":\n",
    "        print(\"No valid Materials Project API key - skipping query\")\n",
    "        return pd.DataFrame()\n",
    "        \n",
    "    from mp_api.client import MPRester\n",
    "    \n",
    "    compounds_info = []\n",
    "    excluded_elements = [\"O\", \"S\", \"Se\", \"Te\", \"F\", \"Cl\", \"Br\", \"I\", \"N\", \"P\", \"As\"]\n",
    "    fields = [\"material_id\", \"formula_pretty\", \"elements\", \"energy_above_hull\", \n",
    "             \"symmetry\", \"band_gap\", \"theoretical\"]\n",
    "    \n",
    "    with MPRester(api_key) as mpr:\n",
    "        # Search each binary combination (limiting to first 5 for demo)\n",
    "        for pair in list(combinations(metallic_elements, 2))[:5]:\n",
    "            docs = mpr.materials.summary.search(\n",
    "                elements=list(pair),\n",
    "                num_elements=(2, 2), \n",
    "                energy_above_hull=(0, 0.1),\n",
    "                fields=fields\n",
    "            )\n",
    "            \n",
    "            # Filter and store results\n",
    "            for doc in docs:\n",
    "                if not any(elem.symbol in excluded_elements for elem in doc.elements):\n",
    "                    compounds_info.append({\n",
    "                        \"material_id\": doc.material_id,\n",
    "                        \"formula\": doc.formula_pretty,\n",
    "                        \"elements\": \", \".join(elem.symbol for elem in doc.elements),\n",
    "                        \"energy_above_hull\": doc.energy_above_hull,\n",
    "                        \"crystal_system\": doc.symmetry.crystal_system,\n",
    "                        \"band_gap\": doc.band_gap,\n",
    "                        \"theoretical\": doc.theoretical\n",
    "                    })\n",
    "                    \n",
    "    return pd.DataFrame(compounds_info)\n",
    "\n",
    "# Define metallic elements to search (reduced list for demo)\n",
    "metallic_elements = [\"Li\", \"Be\", \"Na\", \"Mg\", \"Al\", \"K\", \"Ca\", \"Ti\", \"V\", \"Cr\", \"Mn\", \n",
    "                    \"Fe\", \"Co\", \"Ni\", \"Cu\", \"Zn\"]\n",
    "\n",
    "# Query compounds and display results\n",
    "if myapikey and myapikey != \"replace_with_your_mp_api_key\":\n",
    "    df = get_binary_compounds(myapikey, metallic_elements)\n",
    "    if not df.empty:\n",
    "        print(\"\\nFirst 5 compounds found:\")\n",
    "        print(df.head())\n",
    "        print(f\"\\nTotal compounds found: {len(df)}\")\n",
    "    else:\n",
    "        print(\"No compounds retrieved\")\n",
    "else:\n",
    "    print(\"Skipping Materials Project query - no API key available\")\n",
    "    print(\"To enable this section, set the MP_API_KEY environment variable\")"
   ]
  },
  {
   "cell_type": "markdown",
   "metadata": {},
   "source": [
    "## Part B: Applying Chemical Filters\n",
    "\n",
    "After generating a chemical space, we need to apply chemical filters to narrow down potential candidates.\n",
    "\n",
    "### Charge Neutrality and Electronegativity Tests\n",
    "SMACT Screening provides a variety of functions that come in handy when it comes to screening chemical spaces for desired workflows, it is equipped with:\n",
    "\n",
    "1. Charge Neutrality: Ensuring the total charge in a compound is zero.\n",
    "2. Pauling Test: Verifying that a combination of ions makes chemical sense,(i.e. positive ions should be of lower electronegativity).\n",
    "3. Eneg States Test/Threshold/Alternate: checking electronegativity criterions between anions and cations.\n",
    "4. no repeats: Check if any anion or cation appears twice.\n",
    "5. ml_rep_generator: Function to take a composition of Elements and return a list of values between 0 and 1 that describes the composition, useful for machine learning.\n",
    "6. smact_filter: combines both the charge neutrality and electronegativity tests in one go for simple application in external scripts that wish to apply the general 'smact test'.\n",
    "7. smact_validity: Check if a composition is valid according to the SMACT rules. Composition is considered valid if it passes the charge neutrality test and the Pauling electronegativity test.\n",
    "\n",
    "\n",
    "### Using ```smact_filter```\n",
    "The ```smact_filter``` function combines both the charge neutrality and electronegativity\n",
    "    tests in one go for simple application in external scripts that\n",
    "    wish to apply the general 'smact test'.\n",
    "\n",
    "\n",
    "The function takes the following arguments:\n",
    "```python\n",
    "def smact_filter(\n",
    "    els: Union[Tuple[Element], List[Element]],\n",
    "    threshold: Optional[int] = 8,\n",
    "    stoichs: Optional[List[List[int]]] = None,\n",
    "    species_unique: bool = True,\n",
    "    oxidation_states_set: str = \"icsd24\",\n",
    "    comp_tuple: bool = False,\n",
    ") -> Union[List[Tuple[str, int, int]], List[Tuple[str, int]]]:\n",
    "    ...\n",
    "```\n",
    "Parameters:\n",
    "\n",
    "```els```: A tuple or list of Element objects.\n",
    "\n",
    "```threshold```: Maximum allowed stoichiometry (default is 8).\n",
    "\n",
    "```stoichs```: Specific stoichiometric ratios to consider.\n",
    "\n",
    "```species_unique```: If True, considers different oxidation states as unique species.\n",
    "\n",
    "```oxidation_states_set```: Set of oxidation states to use ('icsd24', 'smact14','pymatgen', 'wiki', or a custom file path). **WARNING:** For backwards compatibility in SMACT >=2.7, expllicitly set oxidation_states_set to 'smact14' if you wish to use the 2014 SMACT default oxidation states. In SMACT 3.0, the smact_filter function will be set to use a new default oxidation states set.\n",
    "\n",
    "```comp_tuple```: If True, returns results as named tuples.\n"
   ]
  },
  {
   "cell_type": "markdown",
   "metadata": {},
   "source": [
    "### Simple Example: Using smact_filter\n",
    "\n",
    "Let's start with a simple example to see how `smact_filter` works:"
   ]
  },
  {
   "cell_type": "code",
   "execution_count": 43,
   "metadata": {},
   "outputs": [
    {
     "name": "stdout",
     "output_type": "stream",
     "text": [
      "(('Na', 'Cl'), (1, -1), (1, 1))\n"
     ]
    }
   ],
   "source": [
    "# Define elements\n",
    "elements = (Element('Na'), Element('Cl'))\n",
    "\n",
    "# Apply SMACT filter\n",
    "compositions = smact_filter(elements)\n",
    "\n",
    "# Display valid compositions\n",
    "for comp in compositions:\n",
    "    print(comp)\n"
   ]
  },
  {
   "cell_type": "markdown",
   "metadata": {},
   "source": [
    "## Part C: Identifying potential materials for specific engineering applications"
   ]
  },
  {
   "cell_type": "markdown",
   "metadata": {},
   "source": [
    "### 1: Binary Oxides for Photocatalysis\n",
    "First, let's explore binary oxide semiconductors that might be suitable for water splitting:"
   ]
  },
  {
   "cell_type": "code",
   "execution_count": 44,
   "metadata": {},
   "outputs": [
    {
     "name": "stdout",
     "output_type": "stream",
     "text": [
      "Viable binary oxide candidates:\n",
      "TiO\n",
      "Ti2O3\n",
      "TiO2\n",
      "V2O\n",
      "VO\n",
      "V2O3\n",
      "VO2\n",
      "V2O5\n",
      "Cr2O\n",
      "CrO\n",
      "Cr2O3\n",
      "CrO2\n",
      "Cr2O5\n",
      "CrO3\n",
      "Mn2O\n",
      "MnO\n",
      "Mn2O3\n",
      "MnO2\n",
      "Mn2O5\n",
      "MnO3\n",
      "Mn2O7\n",
      "Fe2O\n",
      "FeO\n",
      "Fe2O3\n",
      "FeO2\n",
      "Fe2O5\n",
      "FeO3\n",
      "Co2O\n",
      "CoO\n",
      "Co2O3\n",
      "CoO2\n",
      "Ni2O\n",
      "NiO\n",
      "Ni2O3\n",
      "NiO2\n",
      "Cu2O\n",
      "CuO\n",
      "Cu2O3\n",
      "ZnO\n",
      "Zn2O3\n"
     ]
    }
   ],
   "source": [
    "def setup_binary_oxide_space():\n",
    "    \"\"\"Setup chemical space for binary oxides\"\"\"\n",
    "    # Define transition metals of interest\n",
    "    transition_metals = [\"Ti\", \"V\", \"Cr\", \"Mn\", \"Fe\", \"Co\", \"Ni\", \"Cu\", \"Zn\"]\n",
    "    \n",
    "    # Convert to SMACT elements\n",
    "    tm_elements = [smact.Element(symbol) for symbol in transition_metals]\n",
    "    oxygen = smact.Element(\"O\")\n",
    "    \n",
    "    return tm_elements, oxygen\n",
    "\n",
    "def binary_oxide_filter(metal):\n",
    "    \"\"\"Filter binary oxides based on chemical rules\"\"\"\n",
    "    compounds = []\n",
    "    \n",
    "    # Oxidation states for oxygen\n",
    "    o_state = -2\n",
    "    \n",
    "    for ox_state in metal.oxidation_states:\n",
    "        # Check charge neutrality\n",
    "        cn_e, cn_r = smact.neutral_ratios([ox_state, o_state], threshold=8)\n",
    "        \n",
    "        if cn_e:\n",
    "            # Check electronegativity\n",
    "            eneg_ok = pauling_test(\n",
    "                [ox_state, o_state],\n",
    "                [metal.pauling_eneg, 3.44]  # 3.44 is O electronegativity\n",
    "            )\n",
    "            \n",
    "            if eneg_ok:\n",
    "                formula = [metal.symbol, \"O\"]\n",
    "                compounds.append((formula, cn_r[0]))\n",
    "    \n",
    "    return compounds\n",
    "\n",
    "# Generate candidates\n",
    "metals, oxygen = setup_binary_oxide_space()\n",
    "with multiprocessing.Pool() as pool:\n",
    "    binary_results = pool.map(binary_oxide_filter, metals)\n",
    "\n",
    "# Format results\n",
    "binary_formulas = []\n",
    "for result in binary_results:\n",
    "    for comp in result:\n",
    "        formula = \"\".join(f\"{el}{amt}\" for el, amt in zip(comp[0], comp[1]))\n",
    "        binary_formulas.append(Composition(formula).reduced_formula)\n",
    "\n",
    "print(\"Viable binary oxide candidates:\")\n",
    "print(\"\\n\".join(binary_formulas))"
   ]
  },
  {
   "cell_type": "markdown",
   "metadata": {},
   "source": [
    "### 2: Ternary Chalcogenides for Solar Cells\n",
    "Now let's explore ternary chalcogenides that might be suitable for solar cells:"
   ]
  },
  {
   "cell_type": "code",
   "execution_count": 45,
   "metadata": {},
   "outputs": [],
   "source": [
    "def setup_chalcogenide_space():\n",
    "    \"\"\"Setup chemical space for ternary chalcogenides\"\"\"\n",
    "    # Group 11 metals (Cu, Ag)\n",
    "    group_11 = [\"Cu\", \"Ag\"]\n",
    "    # Group 13 metals (In, Ga)\n",
    "    group_13 = [\"Ga\", \"In\"]\n",
    "    # Chalcogens\n",
    "    chalcogens = [\"S\", \"Se\"]\n",
    "    \n",
    "    metal_1 = [smact.Element(m) for m in group_11]\n",
    "    metal_2 = [smact.Element(m) for m in group_13]\n",
    "    chalc = [smact.Element(c) for c in chalcogens]\n",
    "    \n",
    "    return metal_1, metal_2, chalc\n",
    "\n",
    "def ternary_chalcogenide_filter(elements):\n",
    "    \"\"\"Filter ternary chalcogenides with specific criteria\"\"\"\n",
    "    compounds = []\n",
    "    m1, m2, ch = elements\n",
    "    \n",
    "    # Additional criteria for solar cells\n",
    "    bandgap_range = (1.0, 2.5)  # eV\n",
    "    \n",
    "    for ox_1 in m1.oxidation_states:\n",
    "        for ox_2 in m2.oxidation_states:\n",
    "            for ox_ch in ch.oxidation_states:\n",
    "                ox_states = [ox_1, ox_2, ox_ch]\n",
    "                \n",
    "                # Charge neutrality check\n",
    "                cn_e, cn_r = smact.neutral_ratios(ox_states, threshold=8)\n",
    "                \n",
    "                if cn_e:\n",
    "                    # Electronegativity check\n",
    "                    eneg_ok = pauling_test(\n",
    "                        ox_states,\n",
    "                        [m1.pauling_eneg, m2.pauling_eneg, ch.pauling_eneg]\n",
    "                    )\n",
    "                    \n",
    "                    if eneg_ok:\n",
    "                        formula = [m1.symbol, m2.symbol, ch.symbol]\n",
    "                        compounds.append((formula, cn_r[0]))\n",
    "    \n",
    "    return compounds\n",
    "\n",
    "# Generate candidates\n",
    "m1_els, m2_els, ch_els = setup_chalcogenide_space()\n",
    "ternary_combinations = [(m1, m2, ch) \n",
    "                       for m1 in m1_els \n",
    "                       for m2 in m2_els \n",
    "                       for ch in ch_els]\n",
    "\n",
    "with multiprocessing.Pool() as pool:\n",
    "    ternary_results = pool.map(ternary_chalcogenide_filter, ternary_combinations)"
   ]
  },
  {
   "cell_type": "markdown",
   "metadata": {},
   "source": [
    "### 3: Double Perovskites for Ferroelectrics\n",
    "Finally, let's explore double perovskites (A2BB'O6):"
   ]
  },
  {
   "cell_type": "code",
   "execution_count": 46,
   "metadata": {},
   "outputs": [
    {
     "name": "stdout",
     "output_type": "stream",
     "text": [
      "\n",
      "First 5 double perovskite candidates:\n",
      "           Formula Stoichiometry\n",
      "0  [Ba, Fe, Mo, O]  [2, 1, 1, 6]\n",
      "1  [Ba, Fe, Mo, O]  [2, 1, 1, 6]\n",
      "2  [Ba, Fe, Mo, O]  [2, 1, 1, 6]\n",
      "3  [Ba, Fe, Mo, O]  [2, 1, 1, 6]\n",
      "4  [Ba, Fe, Mo, O]  [2, 1, 1, 6]\n"
     ]
    }
   ],
   "source": [
    "def setup_double_perovskite_space():\n",
    "    \"\"\"Setup chemical space for double perovskites\"\"\"\n",
    "    # A-site cations (large ionic radius)\n",
    "    a_site = [\"Ba\", \"Sr\", \"Ca\"]\n",
    "    # B-site cations (smaller transition metals)\n",
    "    b_site = [\"Fe\", \"Mn\", \"Ni\"]\n",
    "    b_prime_site = [\"Mo\", \"W\", \"Re\"]\n",
    "    \n",
    "    a_els = [smact.Element(a) for a in a_site]\n",
    "    b_els = [smact.Element(b) for b in b_site]\n",
    "    b_prime_els = [smact.Element(bp) for bp in b_prime_site]\n",
    "    oxygen = smact.Element(\"O\")\n",
    "    \n",
    "    return a_els, b_els, b_prime_els, oxygen\n",
    "\n",
    "def double_perovskite_filter(elements):\n",
    "    \"\"\"Filter double perovskites with specific criteria\"\"\"\n",
    "    compounds = []\n",
    "    a, b, b_prime, o = elements\n",
    "    \n",
    "    # Goldschmidt tolerance factor limits\n",
    "    tol_factor_range = (0.8, 1.0)\n",
    "    \n",
    "    for a_ox in a.oxidation_states:\n",
    "        for b_ox in b.oxidation_states:\n",
    "            for bp_ox in b_prime.oxidation_states:\n",
    "                ox_states = [a_ox, b_ox, bp_ox, -2]  # O is -2\n",
    "                \n",
    "                # Check charge balance\n",
    "                if sum([2*a_ox, b_ox, bp_ox, 6*(-2)]) == 0:\n",
    "                    # Check electronegativity ordering\n",
    "                    eneg_ok = pauling_test(\n",
    "                        ox_states,\n",
    "                        [a.pauling_eneg, b.pauling_eneg, \n",
    "                         b_prime.pauling_eneg, 3.44]\n",
    "                    )\n",
    "                    \n",
    "                    if eneg_ok:\n",
    "                        formula = [a.symbol, b.symbol, b_prime.symbol, \"O\"]\n",
    "                        compounds.append((formula, [2, 1, 1, 6]))\n",
    "    \n",
    "    return compounds\n",
    "\n",
    "# Generate candidates\n",
    "a_els, b_els, bp_els, oxygen = setup_double_perovskite_space()\n",
    "perovskite_combinations = [(a, b, bp, oxygen) \n",
    "                          for a in a_els \n",
    "                          for b in b_els \n",
    "                          for bp in bp_els]\n",
    "\n",
    "with multiprocessing.Pool() as pool:\n",
    "    perovskite_results = pool.map(double_perovskite_filter, \n",
    "                                 perovskite_combinations)\n",
    "\n",
    "# Flatten results and create dataframe\n",
    "flattened_results = [comp for result in perovskite_results if result for comp in result]\n",
    "df = pd.DataFrame(flattened_results, columns=['Formula', 'Stoichiometry'])\n",
    "\n",
    "# Print first 5 candidates\n",
    "print(\"\\nFirst 5 double perovskite candidates:\")\n",
    "print(df.head())"
   ]
  },
  {
   "cell_type": "markdown",
   "metadata": {},
   "source": [
    "### 4: Identifying Potential Battery Materials\n",
    "\n",
    "**Goal:** Find binary compounds suitable for battery applications.\n",
    "\n",
    "This is a simple example workflow. For a more comprehensive guide, see the [Materials Project tutorial](https://next-gen.materialsproject.org/batteries) or the [Materials Project Batteries Explorer documentation](https://github.com/materialsproject/docs/blob/master/docs/user-guide/batteries-explorer.md).\n",
    "\n",
    "**Workflow Steps:**\n",
    "\n",
    "1. **Fetch Data:** Use the Materials Project API to retrieve binary compounds.\n",
    "2. **Filter Compounds:** Select compounds with low energy above hull (i.e., stable) and desired properties.\n",
    "3. **Apply SMACT Validity Check:** Ensure the compounds pass SMACT's chemical rules."
   ]
  },
  {
   "cell_type": "code",
   "execution_count": 47,
   "metadata": {},
   "outputs": [
    {
     "data": {
      "application/vnd.jupyter.widget-view+json": {
       "model_id": "b8f1b98b919c40d6b96eaa1ce92afbf2",
       "version_major": 2,
       "version_minor": 0
      },
      "text/plain": [
       "Retrieving SummaryDoc documents:   0%|          | 0/2756 [00:00<?, ?it/s]"
      ]
     },
     "metadata": {},
     "output_type": "display_data"
    },
    {
     "name": "stdout",
     "output_type": "stream",
     "text": [
      "Number of valid battery material candidates: 93\n",
      "Results saved to 'battery_material_candidates.csv'\n"
     ]
    }
   ],
   "source": [
    "if myapikey and myapikey != \"replace_with_your_mp_api_key\" and mp_available:\n",
    "    from mp_api.client import MPRester\n",
    "    from smact.screening import smact_validity\n",
    "    from pymatgen.core import Composition\n",
    "\n",
    "    with MPRester(myapikey) as mpr:\n",
    "        # Search for binary compounds (limited for demo)\n",
    "        docs = mpr.materials.summary.search(\n",
    "            num_elements=2,  # Fixed: use single integer instead of tuple\n",
    "            energy_above_hull=(0, 0.05),\n",
    "            is_metal=False,\n",
    "            fields=[\"material_id\", \"formula_pretty\", \"band_gap\", \n",
    "                   \"energy_above_hull\", \"formation_energy_per_atom\"]\n",
    "        )\n",
    "\n",
    "    # Filter and validate compounds\n",
    "    valid_compounds = []\n",
    "    for doc in list(docs)[:100]:  # Limit to first 100 for demo\n",
    "        formula = doc.formula_pretty\n",
    "        if smact_validity(formula):\n",
    "            valid_compounds.append({\n",
    "                'material_id': doc.material_id,\n",
    "                'formula': formula,\n",
    "                'band_gap': doc.band_gap,\n",
    "                'energy_above_hull': doc.energy_above_hull,\n",
    "                'formation_energy_per_atom': doc.formation_energy_per_atom,\n",
    "            })\n",
    "\n",
    "    print(f\"Number of valid battery material candidates: {len(valid_compounds)}\")\n",
    "\n",
    "    # Save to CSV\n",
    "    df = pd.DataFrame(valid_compounds)\n",
    "    df.to_csv('battery_material_candidates.csv', index=False)\n",
    "    print(\"Results saved to 'battery_material_candidates.csv'\")\n",
    "\n",
    "else:\n",
    "    print(\"Skipping battery materials query - Materials Project API not available\")\n",
    "    print(\"To enable this section:\")\n",
    "    print(\"1. Set MP_API_KEY environment variable\")\n",
    "    print(\"2. Install mp-api: pip install mp-api\")"
   ]
  },
  {
   "cell_type": "markdown",
   "metadata": {},
   "source": [
    "## Part D: Advanced Oxidation States Filtering\n",
    "\n",
    "SMACT now includes advanced filtering capabilities based on ICSD oxidation states data. This allows you to tune filtering workflows using consensus and commonality thresholds to improve the quality of your chemical filtering."
   ]
  },
  {
   "cell_type": "markdown",
   "metadata": {},
   "source": [
    "### Understanding ICSD24 Oxidation States Filter\n",
    "\n",
    "The `ICSD24OxStatesFilter` allows you to create custom oxidation state files based on:\n",
    "\n",
    "- **Consensus**: How many different sources agree on an oxidation state\n",
    "- **Commonality**: How frequently an oxidation state appears in the ICSD database  \n",
    "- **Include zero**: Whether to include zero oxidation states (metals)\n",
    "\n",
    "This gives you much finer control over chemical filtering than using default oxidation state sets."
   ]
  },
  {
   "cell_type": "code",
   "execution_count": 48,
   "metadata": {},
   "outputs": [
    {
     "name": "stdout",
     "output_type": "stream",
     "text": [
      "Wrote filtered oxidation states to 'oxidation_states_icsd24_commonality_2.txt'\n",
      "\n",
      "Filter settings:\n",
      "- Consensus threshold: 1 (at least 1 source agrees)\n",
      "- Commonality threshold: 2 (appears at least 2 times in ICSD)\n",
      "- Include zero oxidation states: False\n"
     ]
    }
   ],
   "source": [
    "# Import the advanced oxidation states filter\n",
    "import numpy as np\n",
    "try:\n",
    "    import plotly.graph_objects as go\n",
    "    plotly_available = True\n",
    "except ImportError:\n",
    "    plotly_available = False\n",
    "    print(\"Plotly not available - install with: pip install plotly\")\n",
    "\n",
    "from smact import Element\n",
    "from smact.screening import smact_filter\n",
    "from pymatgen.core import Composition\n",
    "from itertools import combinations\n",
    "from smact.utils.oxidation import ICSD24OxStatesFilter\n",
    "\n",
    "# First generate our custom oxidation states file\n",
    "ox_filter = ICSD24OxStatesFilter()\n",
    "commonality = 2\n",
    "custom_filename = f\"oxidation_states_icsd24_commonality_{commonality}.txt\"\n",
    "\n",
    "# Write out the filtered oxidation states\n",
    "ox_filter.write(\n",
    "    custom_filename,\n",
    "    consensus=1,\n",
    "    include_zero=False,\n",
    "    commonality=commonality,\n",
    "    comment=f\"Oxidation states with commonality ≥ {commonality}\"\n",
    ")\n",
    "\n",
    "print(f\"Wrote filtered oxidation states to '{custom_filename}'\")\n",
    "print(f\"\\nFilter settings:\")\n",
    "print(f\"- Consensus threshold: 1 (at least 1 source agrees)\")\n",
    "print(f\"- Commonality threshold: {commonality} (appears at least {commonality} times in ICSD)\")\n",
    "print(f\"- Include zero oxidation states: False\")"
   ]
  },
  {
   "cell_type": "markdown",
   "metadata": {},
   "source": [
    "### Comparing Filtering with Different Oxidation State Sets\n",
    "\n",
    "Let's demonstrate the power of this approach by comparing filtering results using different oxidation state sets. We'll use Bi-Te-In system as an example (relevant for thermoelectric materials):"
   ]
  },
  {
   "cell_type": "code",
   "execution_count": 49,
   "metadata": {},
   "outputs": [
    {
     "name": "stdout",
     "output_type": "stream",
     "text": [
      "Generating filtered compositions (ternary + binaries)...\n",
      "\n",
      "Filtered ICSD24 results:\n",
      "  Ternary compositions: 81\n",
      "  Binary compositions:  12\n",
      "  Total compositions:   93\n"
     ]
    }
   ],
   "source": [
    "# Elements of interest for thermoelectric materials\n",
    "element_symbols = [\"Bi\", \"Te\", \"In\"]\n",
    "elements = [Element(sym) for sym in element_symbols]\n",
    "\n",
    "def generate_valid_compositions(el_list, oxidation_states_set=\"icsd24\", maxstoichiometrythreshold=8):\n",
    "    \"\"\"Return unique reduced Composition objects from smact_filter.\"\"\"\n",
    "    combos = smact_filter(\n",
    "        el_list,\n",
    "        threshold=maxstoichiometrythreshold,\n",
    "        oxidation_states_set=oxidation_states_set,\n",
    "        species_unique=True\n",
    "    )\n",
    "    comps = set()\n",
    "    for symbols, ox_states, ratios in combos:\n",
    "        comp = Composition({sym: amt for sym, amt in zip(symbols, ratios)}).reduced_composition\n",
    "        comps.add(comp)\n",
    "    return comps\n",
    "\n",
    "def generate_filtered_compositions(path=None, maxstoichiometrythreshold=8):\n",
    "    \"\"\"\n",
    "    Generate ternary and binary compositions using a custom or default oxidation state set.\n",
    "    Returns (all_comps, ternary_comps, binary_comps).\n",
    "    \"\"\"\n",
    "    ox_set = path or \"icsd24\"\n",
    "    # ternary\n",
    "    ternary = generate_valid_compositions(elements, ox_set, maxstoichiometrythreshold)\n",
    "    # binaries\n",
    "    binary = set()\n",
    "    for pair in combinations(elements, 2):\n",
    "        binary |= generate_valid_compositions(list(pair), ox_set, maxstoichiometrythreshold)\n",
    "    all_comps = ternary | binary\n",
    "    return all_comps, ternary, binary\n",
    "\n",
    "# Generate filtered compositions using our custom file\n",
    "print(\"Generating filtered compositions (ternary + binaries)...\")\n",
    "try:\n",
    "    all_comps, ternary_comps, binary_comps = generate_filtered_compositions(custom_filename)\n",
    "except Exception as e:\n",
    "    print(f\"Warning: {e}\\nFalling back to default ICSD24 oxidation states.\")\n",
    "    all_comps, ternary_comps, binary_comps = generate_filtered_compositions()\n",
    "\n",
    "# Analysis\n",
    "count_ternary = len(ternary_comps)\n",
    "count_binary = len(binary_comps)\n",
    "count_total = len(all_comps)\n",
    "print(f\"\\nFiltered ICSD24 results:\")\n",
    "print(f\"  Ternary compositions: {count_ternary}\")\n",
    "print(f\"  Binary compositions:  {count_binary}\")\n",
    "print(f\"  Total compositions:   {count_total}\")"
   ]
  },
  {
   "cell_type": "markdown",
   "metadata": {},
   "source": [
    "### Comparing with Different Commonality Thresholds\n",
    "\n",
    "Let's see how changing the commonality threshold affects our results:"
   ]
  },
  {
   "cell_type": "code",
   "execution_count": 50,
   "metadata": {},
   "outputs": [
    {
     "name": "stdout",
     "output_type": "stream",
     "text": [
      "\n",
      "Comparison of different commonality thresholds:\n",
      " Threshold |    Total |  Ternary |   Binary\n",
      "--------------------------------------------------\n",
      "         1 |       93 |       81 |       12\n",
      "         2 |       93 |       81 |       12\n",
      "         5 |       93 |       81 |       12\n",
      "        10 |       93 |       81 |       12\n",
      "\n",
      " Higher commonality thresholds = more restrictive filtering = fewer compositions\n"
     ]
    }
   ],
   "source": [
    "# Compare different commonality thresholds\n",
    "commonality_thresholds = [1, 2, 5, 10]\n",
    "results_comparison = {}\n",
    "\n",
    "for threshold in commonality_thresholds:\n",
    "    # Create custom oxidation states file\n",
    "    custom_file = f\"oxidation_states_icsd24_commonality_{threshold}.txt\"\n",
    "    ox_filter.write(\n",
    "        custom_file,\n",
    "        consensus=1,\n",
    "        include_zero=False,\n",
    "        commonality=threshold,\n",
    "        comment=f\"Oxidation states with commonality ≥ {threshold}\"\n",
    "    )\n",
    "    \n",
    "    # Generate compositions with this threshold\n",
    "    try:\n",
    "        all_comps, ternary_comps, binary_comps = generate_filtered_compositions(custom_file)\n",
    "        results_comparison[threshold] = {\n",
    "            'total': len(all_comps),\n",
    "            'ternary': len(ternary_comps),\n",
    "            'binary': len(binary_comps)\n",
    "        }\n",
    "    except Exception as e:\n",
    "        print(f\"Error with threshold {threshold}: {e}\")\n",
    "        results_comparison[threshold] = {'total': 0, 'ternary': 0, 'binary': 0}\n",
    "\n",
    "# Display comparison\n",
    "print(\"\\nComparison of different commonality thresholds:\")\n",
    "print(f\"{'Threshold':>10} | {'Total':>8} | {'Ternary':>8} | {'Binary':>8}\")\n",
    "print(\"-\" * 50)\n",
    "for threshold, counts in results_comparison.items():\n",
    "    print(f\"{threshold:>10} | {counts['total']:>8} | {counts['ternary']:>8} | {counts['binary']:>8}\")\n",
    "\n",
    "print(\"\\n Higher commonality thresholds = more restrictive filtering = fewer compositions\")"
   ]
  },
  {
   "cell_type": "markdown",
   "metadata": {},
   "source": [
    "### Visualising the Results\n",
    "\n",
    "Let's create a ternary plot to visualise our filtered compositions in chemical space:"
   ]
  },
  {
   "cell_type": "code",
   "execution_count": 51,
   "metadata": {},
   "outputs": [
    {
     "data": {
      "application/vnd.plotly.v1+json": {
       "config": {
        "plotlyServerURL": "https://plot.ly"
       },
       "data": [
        {
         "a": [
          0.25,
          0.16666666666666666,
          0.2857142857142857,
          0.4,
          0.18181818181818182,
          0.125,
          0.3333333333333333,
          0.2,
          0.09090909090909091,
          0.07142857142857142,
          0.3,
          0.16666666666666666,
          0.3076923076923077,
          0.35714285714285715,
          0.16666666666666666,
          0.125,
          0.3076923076923077,
          0.3333333333333333,
          0.35294117647058826,
          0.14285714285714285,
          0.2222222222222222,
          0.1,
          0.18181818181818182,
          0.18181818181818182,
          0.2,
          0.11764705882352941,
          0.3333333333333333,
          0.2,
          0.16666666666666666,
          0.125,
          0.08333333333333333,
          0.07142857142857142,
          0.2,
          0.14285714285714285,
          0.1,
          0.15384615384615385,
          0,
          0,
          0.25,
          0.4,
          0.5,
          0.25,
          0.3,
          0.21428571428571427,
          0.3333333333333333,
          0.35714285714285715,
          0.16666666666666666,
          0.09090909090909091,
          0.08333333333333333,
          0.1111111111111111,
          0.1,
          0,
          0,
          0,
          0.25,
          0.2222222222222222,
          0.18181818181818182,
          0.08333333333333333,
          0.07142857142857142,
          0.2,
          0.25,
          0.1,
          0.07692307692307693,
          0.18181818181818182,
          0.1,
          0.13333333333333333,
          0.3333333333333333,
          0.14285714285714285,
          0.08333333333333333,
          0.2222222222222222,
          0.2727272727272727,
          0.1875,
          0.125,
          0.2857142857142857,
          0.1,
          0.3076923076923077,
          0.35714285714285715,
          0.2857142857142857,
          0.2222222222222222,
          0.18181818181818182,
          0.15384615384615385,
          0.13333333333333333,
          0.3333333333333333,
          0.16666666666666666,
          0.11764705882352941,
          0.15384615384615385,
          0.2777777777777778,
          0.375,
          0.3888888888888889,
          0.25,
          0.1,
          0.07692307692307693,
          0.18181818181818182
         ],
         "b": [
          0.75,
          0.8333333333333334,
          0.7142857142857143,
          0.6,
          0.7272727272727273,
          0.75,
          0.1111111111111111,
          0.3333333333333333,
          0.45454545454545453,
          0.42857142857142855,
          0.6,
          0.3888888888888889,
          0.15384615384615385,
          0.07142857142857142,
          0.5,
          0.5,
          0.23076923076923078,
          0.2,
          0.17647058823529413,
          0.14285714285714285,
          0.2222222222222222,
          0.2,
          0.09090909090909091,
          0.2727272727272727,
          0.6,
          0.4117647058823529,
          0.5555555555555556,
          0.4666666666666667,
          0.6666666666666666,
          0.625,
          0.5833333333333334,
          0.5714285714285714,
          0.7,
          0.7142857142857143,
          0.7,
          0.3076923076923077,
          0.5,
          0.3333333333333333,
          0,
          0,
          0,
          0.375,
          0.3,
          0.42857142857142855,
          0.25,
          0.21428571428571427,
          0.4444444444444444,
          0.6363636363636364,
          0.6666666666666666,
          0.7777777777777778,
          0.8,
          0.6666666666666666,
          0.75,
          0.6,
          0.6666666666666666,
          0.6666666666666666,
          0.6363636363636364,
          0.3333333333333333,
          0.35714285714285715,
          0.1,
          0.25,
          0.5,
          0.5384615384615384,
          0.36363636363636365,
          0.6,
          0.3333333333333333,
          0.08333333333333333,
          0.42857142857142855,
          0.5,
          0.3333333333333333,
          0.2727272727272727,
          0.375,
          0.25,
          0.14285714285714285,
          0.3,
          0.5384615384615384,
          0.5714285714285714,
          0.5714285714285714,
          0.5555555555555556,
          0.5454545454545454,
          0.5384615384615384,
          0.5333333333333333,
          0.5833333333333334,
          0.16666666666666666,
          0.47058823529411764,
          0.6153846153846154,
          0.3333333333333333,
          0.1875,
          0.16666666666666666,
          0.5,
          0.4,
          0.38461538461538464,
          0.45454545454545453
         ],
         "c": [
          0,
          0,
          0,
          0,
          0.09090909090909091,
          0.125,
          0.5555555555555556,
          0.4666666666666667,
          0.45454545454545453,
          0.5,
          0.1,
          0.4444444444444444,
          0.5384615384615384,
          0.5714285714285714,
          0.3333333333333333,
          0.375,
          0.46153846153846156,
          0.4666666666666667,
          0.47058823529411764,
          0.7142857142857143,
          0.5555555555555556,
          0.7,
          0.7272727272727273,
          0.5454545454545454,
          0.2,
          0.47058823529411764,
          0.1111111111111111,
          0.3333333333333333,
          0.16666666666666666,
          0.25,
          0.3333333333333333,
          0.35714285714285715,
          0.1,
          0.14285714285714285,
          0.2,
          0.5384615384615384,
          0.5,
          0.6666666666666666,
          0.75,
          0.6,
          0.5,
          0.375,
          0.4,
          0.35714285714285715,
          0.4166666666666667,
          0.42857142857142855,
          0.3888888888888889,
          0.2727272727272727,
          0.25,
          0.1111111111111111,
          0.1,
          0.3333333333333333,
          0.25,
          0.4,
          0.08333333333333333,
          0.1111111111111111,
          0.18181818181818182,
          0.5833333333333334,
          0.5714285714285714,
          0.7,
          0.5,
          0.4,
          0.38461538461538464,
          0.45454545454545453,
          0.3,
          0.5333333333333333,
          0.5833333333333334,
          0.42857142857142855,
          0.4166666666666667,
          0.4444444444444444,
          0.45454545454545453,
          0.4375,
          0.625,
          0.5714285714285714,
          0.6,
          0.15384615384615385,
          0.07142857142857142,
          0.14285714285714285,
          0.2222222222222222,
          0.2727272727272727,
          0.3076923076923077,
          0.3333333333333333,
          0.08333333333333333,
          0.6666666666666666,
          0.4117647058823529,
          0.23076923076923078,
          0.3888888888888889,
          0.4375,
          0.4444444444444444,
          0.25,
          0.5,
          0.5384615384615384,
          0.36363636363636365
         ],
         "cliponaxis": false,
         "marker": {
          "color": "green",
          "opacity": 0.7,
          "size": 8,
          "symbol": "circle"
         },
         "mode": "markers",
         "name": "SMACT Valid",
         "type": "scatterternary"
        }
       ],
       "layout": {
        "font": {
         "family": "Arial",
         "size": 12
        },
        "height": 500,
        "margin": {
         "b": 40,
         "l": 40,
         "r": 40,
         "t": 40
        },
        "showlegend": false,
        "template": {
         "data": {
          "bar": [
           {
            "error_x": {
             "color": "#2a3f5f"
            },
            "error_y": {
             "color": "#2a3f5f"
            },
            "marker": {
             "line": {
              "color": "#E5ECF6",
              "width": 0.5
             },
             "pattern": {
              "fillmode": "overlay",
              "size": 10,
              "solidity": 0.2
             }
            },
            "type": "bar"
           }
          ],
          "barpolar": [
           {
            "marker": {
             "line": {
              "color": "#E5ECF6",
              "width": 0.5
             },
             "pattern": {
              "fillmode": "overlay",
              "size": 10,
              "solidity": 0.2
             }
            },
            "type": "barpolar"
           }
          ],
          "carpet": [
           {
            "aaxis": {
             "endlinecolor": "#2a3f5f",
             "gridcolor": "white",
             "linecolor": "white",
             "minorgridcolor": "white",
             "startlinecolor": "#2a3f5f"
            },
            "baxis": {
             "endlinecolor": "#2a3f5f",
             "gridcolor": "white",
             "linecolor": "white",
             "minorgridcolor": "white",
             "startlinecolor": "#2a3f5f"
            },
            "type": "carpet"
           }
          ],
          "choropleth": [
           {
            "colorbar": {
             "outlinewidth": 0,
             "ticks": ""
            },
            "type": "choropleth"
           }
          ],
          "contour": [
           {
            "colorbar": {
             "outlinewidth": 0,
             "ticks": ""
            },
            "colorscale": [
             [
              0,
              "#0d0887"
             ],
             [
              0.1111111111111111,
              "#46039f"
             ],
             [
              0.2222222222222222,
              "#7201a8"
             ],
             [
              0.3333333333333333,
              "#9c179e"
             ],
             [
              0.4444444444444444,
              "#bd3786"
             ],
             [
              0.5555555555555556,
              "#d8576b"
             ],
             [
              0.6666666666666666,
              "#ed7953"
             ],
             [
              0.7777777777777778,
              "#fb9f3a"
             ],
             [
              0.8888888888888888,
              "#fdca26"
             ],
             [
              1,
              "#f0f921"
             ]
            ],
            "type": "contour"
           }
          ],
          "contourcarpet": [
           {
            "colorbar": {
             "outlinewidth": 0,
             "ticks": ""
            },
            "type": "contourcarpet"
           }
          ],
          "heatmap": [
           {
            "colorbar": {
             "outlinewidth": 0,
             "ticks": ""
            },
            "colorscale": [
             [
              0,
              "#0d0887"
             ],
             [
              0.1111111111111111,
              "#46039f"
             ],
             [
              0.2222222222222222,
              "#7201a8"
             ],
             [
              0.3333333333333333,
              "#9c179e"
             ],
             [
              0.4444444444444444,
              "#bd3786"
             ],
             [
              0.5555555555555556,
              "#d8576b"
             ],
             [
              0.6666666666666666,
              "#ed7953"
             ],
             [
              0.7777777777777778,
              "#fb9f3a"
             ],
             [
              0.8888888888888888,
              "#fdca26"
             ],
             [
              1,
              "#f0f921"
             ]
            ],
            "type": "heatmap"
           }
          ],
          "heatmapgl": [
           {
            "colorbar": {
             "outlinewidth": 0,
             "ticks": ""
            },
            "colorscale": [
             [
              0,
              "#0d0887"
             ],
             [
              0.1111111111111111,
              "#46039f"
             ],
             [
              0.2222222222222222,
              "#7201a8"
             ],
             [
              0.3333333333333333,
              "#9c179e"
             ],
             [
              0.4444444444444444,
              "#bd3786"
             ],
             [
              0.5555555555555556,
              "#d8576b"
             ],
             [
              0.6666666666666666,
              "#ed7953"
             ],
             [
              0.7777777777777778,
              "#fb9f3a"
             ],
             [
              0.8888888888888888,
              "#fdca26"
             ],
             [
              1,
              "#f0f921"
             ]
            ],
            "type": "heatmapgl"
           }
          ],
          "histogram": [
           {
            "marker": {
             "pattern": {
              "fillmode": "overlay",
              "size": 10,
              "solidity": 0.2
             }
            },
            "type": "histogram"
           }
          ],
          "histogram2d": [
           {
            "colorbar": {
             "outlinewidth": 0,
             "ticks": ""
            },
            "colorscale": [
             [
              0,
              "#0d0887"
             ],
             [
              0.1111111111111111,
              "#46039f"
             ],
             [
              0.2222222222222222,
              "#7201a8"
             ],
             [
              0.3333333333333333,
              "#9c179e"
             ],
             [
              0.4444444444444444,
              "#bd3786"
             ],
             [
              0.5555555555555556,
              "#d8576b"
             ],
             [
              0.6666666666666666,
              "#ed7953"
             ],
             [
              0.7777777777777778,
              "#fb9f3a"
             ],
             [
              0.8888888888888888,
              "#fdca26"
             ],
             [
              1,
              "#f0f921"
             ]
            ],
            "type": "histogram2d"
           }
          ],
          "histogram2dcontour": [
           {
            "colorbar": {
             "outlinewidth": 0,
             "ticks": ""
            },
            "colorscale": [
             [
              0,
              "#0d0887"
             ],
             [
              0.1111111111111111,
              "#46039f"
             ],
             [
              0.2222222222222222,
              "#7201a8"
             ],
             [
              0.3333333333333333,
              "#9c179e"
             ],
             [
              0.4444444444444444,
              "#bd3786"
             ],
             [
              0.5555555555555556,
              "#d8576b"
             ],
             [
              0.6666666666666666,
              "#ed7953"
             ],
             [
              0.7777777777777778,
              "#fb9f3a"
             ],
             [
              0.8888888888888888,
              "#fdca26"
             ],
             [
              1,
              "#f0f921"
             ]
            ],
            "type": "histogram2dcontour"
           }
          ],
          "mesh3d": [
           {
            "colorbar": {
             "outlinewidth": 0,
             "ticks": ""
            },
            "type": "mesh3d"
           }
          ],
          "parcoords": [
           {
            "line": {
             "colorbar": {
              "outlinewidth": 0,
              "ticks": ""
             }
            },
            "type": "parcoords"
           }
          ],
          "pie": [
           {
            "automargin": true,
            "type": "pie"
           }
          ],
          "scatter": [
           {
            "fillpattern": {
             "fillmode": "overlay",
             "size": 10,
             "solidity": 0.2
            },
            "type": "scatter"
           }
          ],
          "scatter3d": [
           {
            "line": {
             "colorbar": {
              "outlinewidth": 0,
              "ticks": ""
             }
            },
            "marker": {
             "colorbar": {
              "outlinewidth": 0,
              "ticks": ""
             }
            },
            "type": "scatter3d"
           }
          ],
          "scattercarpet": [
           {
            "marker": {
             "colorbar": {
              "outlinewidth": 0,
              "ticks": ""
             }
            },
            "type": "scattercarpet"
           }
          ],
          "scattergeo": [
           {
            "marker": {
             "colorbar": {
              "outlinewidth": 0,
              "ticks": ""
             }
            },
            "type": "scattergeo"
           }
          ],
          "scattergl": [
           {
            "marker": {
             "colorbar": {
              "outlinewidth": 0,
              "ticks": ""
             }
            },
            "type": "scattergl"
           }
          ],
          "scattermapbox": [
           {
            "marker": {
             "colorbar": {
              "outlinewidth": 0,
              "ticks": ""
             }
            },
            "type": "scattermapbox"
           }
          ],
          "scatterpolar": [
           {
            "marker": {
             "colorbar": {
              "outlinewidth": 0,
              "ticks": ""
             }
            },
            "type": "scatterpolar"
           }
          ],
          "scatterpolargl": [
           {
            "marker": {
             "colorbar": {
              "outlinewidth": 0,
              "ticks": ""
             }
            },
            "type": "scatterpolargl"
           }
          ],
          "scatterternary": [
           {
            "marker": {
             "colorbar": {
              "outlinewidth": 0,
              "ticks": ""
             }
            },
            "type": "scatterternary"
           }
          ],
          "surface": [
           {
            "colorbar": {
             "outlinewidth": 0,
             "ticks": ""
            },
            "colorscale": [
             [
              0,
              "#0d0887"
             ],
             [
              0.1111111111111111,
              "#46039f"
             ],
             [
              0.2222222222222222,
              "#7201a8"
             ],
             [
              0.3333333333333333,
              "#9c179e"
             ],
             [
              0.4444444444444444,
              "#bd3786"
             ],
             [
              0.5555555555555556,
              "#d8576b"
             ],
             [
              0.6666666666666666,
              "#ed7953"
             ],
             [
              0.7777777777777778,
              "#fb9f3a"
             ],
             [
              0.8888888888888888,
              "#fdca26"
             ],
             [
              1,
              "#f0f921"
             ]
            ],
            "type": "surface"
           }
          ],
          "table": [
           {
            "cells": {
             "fill": {
              "color": "#EBF0F8"
             },
             "line": {
              "color": "white"
             }
            },
            "header": {
             "fill": {
              "color": "#C8D4E3"
             },
             "line": {
              "color": "white"
             }
            },
            "type": "table"
           }
          ]
         },
         "layout": {
          "annotationdefaults": {
           "arrowcolor": "#2a3f5f",
           "arrowhead": 0,
           "arrowwidth": 1
          },
          "autotypenumbers": "strict",
          "coloraxis": {
           "colorbar": {
            "outlinewidth": 0,
            "ticks": ""
           }
          },
          "colorscale": {
           "diverging": [
            [
             0,
             "#8e0152"
            ],
            [
             0.1,
             "#c51b7d"
            ],
            [
             0.2,
             "#de77ae"
            ],
            [
             0.3,
             "#f1b6da"
            ],
            [
             0.4,
             "#fde0ef"
            ],
            [
             0.5,
             "#f7f7f7"
            ],
            [
             0.6,
             "#e6f5d0"
            ],
            [
             0.7,
             "#b8e186"
            ],
            [
             0.8,
             "#7fbc41"
            ],
            [
             0.9,
             "#4d9221"
            ],
            [
             1,
             "#276419"
            ]
           ],
           "sequential": [
            [
             0,
             "#0d0887"
            ],
            [
             0.1111111111111111,
             "#46039f"
            ],
            [
             0.2222222222222222,
             "#7201a8"
            ],
            [
             0.3333333333333333,
             "#9c179e"
            ],
            [
             0.4444444444444444,
             "#bd3786"
            ],
            [
             0.5555555555555556,
             "#d8576b"
            ],
            [
             0.6666666666666666,
             "#ed7953"
            ],
            [
             0.7777777777777778,
             "#fb9f3a"
            ],
            [
             0.8888888888888888,
             "#fdca26"
            ],
            [
             1,
             "#f0f921"
            ]
           ],
           "sequentialminus": [
            [
             0,
             "#0d0887"
            ],
            [
             0.1111111111111111,
             "#46039f"
            ],
            [
             0.2222222222222222,
             "#7201a8"
            ],
            [
             0.3333333333333333,
             "#9c179e"
            ],
            [
             0.4444444444444444,
             "#bd3786"
            ],
            [
             0.5555555555555556,
             "#d8576b"
            ],
            [
             0.6666666666666666,
             "#ed7953"
            ],
            [
             0.7777777777777778,
             "#fb9f3a"
            ],
            [
             0.8888888888888888,
             "#fdca26"
            ],
            [
             1,
             "#f0f921"
            ]
           ]
          },
          "colorway": [
           "#636efa",
           "#EF553B",
           "#00cc96",
           "#ab63fa",
           "#FFA15A",
           "#19d3f3",
           "#FF6692",
           "#B6E880",
           "#FF97FF",
           "#FECB52"
          ],
          "font": {
           "color": "#2a3f5f"
          },
          "geo": {
           "bgcolor": "white",
           "lakecolor": "white",
           "landcolor": "#E5ECF6",
           "showlakes": true,
           "showland": true,
           "subunitcolor": "white"
          },
          "hoverlabel": {
           "align": "left"
          },
          "hovermode": "closest",
          "mapbox": {
           "style": "light"
          },
          "paper_bgcolor": "white",
          "plot_bgcolor": "#E5ECF6",
          "polar": {
           "angularaxis": {
            "gridcolor": "white",
            "linecolor": "white",
            "ticks": ""
           },
           "bgcolor": "#E5ECF6",
           "radialaxis": {
            "gridcolor": "white",
            "linecolor": "white",
            "ticks": ""
           }
          },
          "scene": {
           "xaxis": {
            "backgroundcolor": "#E5ECF6",
            "gridcolor": "white",
            "gridwidth": 2,
            "linecolor": "white",
            "showbackground": true,
            "ticks": "",
            "zerolinecolor": "white"
           },
           "yaxis": {
            "backgroundcolor": "#E5ECF6",
            "gridcolor": "white",
            "gridwidth": 2,
            "linecolor": "white",
            "showbackground": true,
            "ticks": "",
            "zerolinecolor": "white"
           },
           "zaxis": {
            "backgroundcolor": "#E5ECF6",
            "gridcolor": "white",
            "gridwidth": 2,
            "linecolor": "white",
            "showbackground": true,
            "ticks": "",
            "zerolinecolor": "white"
           }
          },
          "shapedefaults": {
           "line": {
            "color": "#2a3f5f"
           }
          },
          "ternary": {
           "aaxis": {
            "gridcolor": "white",
            "linecolor": "white",
            "ticks": ""
           },
           "baxis": {
            "gridcolor": "white",
            "linecolor": "white",
            "ticks": ""
           },
           "bgcolor": "#E5ECF6",
           "caxis": {
            "gridcolor": "white",
            "linecolor": "white",
            "ticks": ""
           }
          },
          "title": {
           "x": 0.05
          },
          "xaxis": {
           "automargin": true,
           "gridcolor": "white",
           "linecolor": "white",
           "ticks": "",
           "title": {
            "standoff": 15
           },
           "zerolinecolor": "white",
           "zerolinewidth": 2
          },
          "yaxis": {
           "automargin": true,
           "gridcolor": "white",
           "linecolor": "white",
           "ticks": "",
           "title": {
            "standoff": 15
           },
           "zerolinecolor": "white",
           "zerolinewidth": 2
          }
         }
        },
        "ternary": {
         "aaxis": {
          "gridcolor": "rgba(128, 128, 128, 0.2)",
          "linecolor": "black",
          "linewidth": 1,
          "showticklabels": true,
          "tickvals": [
           0.2,
           0.4,
           0.6,
           0.8
          ],
          "title": {
           "text": "Bi"
          }
         },
         "baxis": {
          "gridcolor": "rgba(128, 128, 128, 0.2)",
          "linecolor": "black",
          "linewidth": 1,
          "showticklabels": true,
          "tickvals": [
           0.2,
           0.4,
           0.6,
           0.8
          ],
          "title": {
           "text": "Te"
          }
         },
         "bgcolor": "rgba(0, 0, 0, 0)",
         "caxis": {
          "gridcolor": "rgba(128, 128, 128, 0.2)",
          "linecolor": "black",
          "linewidth": 1,
          "showticklabels": true,
          "tickvals": [
           0.2,
           0.4,
           0.6,
           0.8
          ],
          "title": {
           "text": "In"
          }
         }
        },
        "title": {
         "text": "SMACT-Valid Compositions in Bi-Te-In System"
        },
        "width": 500
       }
      },
      "text/html": [
       "<div>                            <div id=\"be5709a1-6ef6-4daa-adb0-8979329ea654\" class=\"plotly-graph-div\" style=\"height:500px; width:500px;\"></div>            <script type=\"text/javascript\">                require([\"plotly\"], function(Plotly) {                    window.PLOTLYENV=window.PLOTLYENV || {};                                    if (document.getElementById(\"be5709a1-6ef6-4daa-adb0-8979329ea654\")) {                    Plotly.newPlot(                        \"be5709a1-6ef6-4daa-adb0-8979329ea654\",                        [{\"a\":[0.25,0.16666666666666666,0.2857142857142857,0.4,0.18181818181818182,0.125,0.3333333333333333,0.2,0.09090909090909091,0.07142857142857142,0.3,0.16666666666666666,0.3076923076923077,0.35714285714285715,0.16666666666666666,0.125,0.3076923076923077,0.3333333333333333,0.35294117647058826,0.14285714285714285,0.2222222222222222,0.1,0.18181818181818182,0.18181818181818182,0.2,0.11764705882352941,0.3333333333333333,0.2,0.16666666666666666,0.125,0.08333333333333333,0.07142857142857142,0.2,0.14285714285714285,0.1,0.15384615384615385,0.0,0.0,0.25,0.4,0.5,0.25,0.3,0.21428571428571427,0.3333333333333333,0.35714285714285715,0.16666666666666666,0.09090909090909091,0.08333333333333333,0.1111111111111111,0.1,0.0,0.0,0.0,0.25,0.2222222222222222,0.18181818181818182,0.08333333333333333,0.07142857142857142,0.2,0.25,0.1,0.07692307692307693,0.18181818181818182,0.1,0.13333333333333333,0.3333333333333333,0.14285714285714285,0.08333333333333333,0.2222222222222222,0.2727272727272727,0.1875,0.125,0.2857142857142857,0.1,0.3076923076923077,0.35714285714285715,0.2857142857142857,0.2222222222222222,0.18181818181818182,0.15384615384615385,0.13333333333333333,0.3333333333333333,0.16666666666666666,0.11764705882352941,0.15384615384615385,0.2777777777777778,0.375,0.3888888888888889,0.25,0.1,0.07692307692307693,0.18181818181818182],\"b\":[0.75,0.8333333333333334,0.7142857142857143,0.6,0.7272727272727273,0.75,0.1111111111111111,0.3333333333333333,0.45454545454545453,0.42857142857142855,0.6,0.3888888888888889,0.15384615384615385,0.07142857142857142,0.5,0.5,0.23076923076923078,0.2,0.17647058823529413,0.14285714285714285,0.2222222222222222,0.2,0.09090909090909091,0.2727272727272727,0.6,0.4117647058823529,0.5555555555555556,0.4666666666666667,0.6666666666666666,0.625,0.5833333333333334,0.5714285714285714,0.7,0.7142857142857143,0.7,0.3076923076923077,0.5,0.3333333333333333,0.0,0.0,0.0,0.375,0.3,0.42857142857142855,0.25,0.21428571428571427,0.4444444444444444,0.6363636363636364,0.6666666666666666,0.7777777777777778,0.8,0.6666666666666666,0.75,0.6,0.6666666666666666,0.6666666666666666,0.6363636363636364,0.3333333333333333,0.35714285714285715,0.1,0.25,0.5,0.5384615384615384,0.36363636363636365,0.6,0.3333333333333333,0.08333333333333333,0.42857142857142855,0.5,0.3333333333333333,0.2727272727272727,0.375,0.25,0.14285714285714285,0.3,0.5384615384615384,0.5714285714285714,0.5714285714285714,0.5555555555555556,0.5454545454545454,0.5384615384615384,0.5333333333333333,0.5833333333333334,0.16666666666666666,0.47058823529411764,0.6153846153846154,0.3333333333333333,0.1875,0.16666666666666666,0.5,0.4,0.38461538461538464,0.45454545454545453],\"c\":[0.0,0.0,0.0,0.0,0.09090909090909091,0.125,0.5555555555555556,0.4666666666666667,0.45454545454545453,0.5,0.1,0.4444444444444444,0.5384615384615384,0.5714285714285714,0.3333333333333333,0.375,0.46153846153846156,0.4666666666666667,0.47058823529411764,0.7142857142857143,0.5555555555555556,0.7,0.7272727272727273,0.5454545454545454,0.2,0.47058823529411764,0.1111111111111111,0.3333333333333333,0.16666666666666666,0.25,0.3333333333333333,0.35714285714285715,0.1,0.14285714285714285,0.2,0.5384615384615384,0.5,0.6666666666666666,0.75,0.6,0.5,0.375,0.4,0.35714285714285715,0.4166666666666667,0.42857142857142855,0.3888888888888889,0.2727272727272727,0.25,0.1111111111111111,0.1,0.3333333333333333,0.25,0.4,0.08333333333333333,0.1111111111111111,0.18181818181818182,0.5833333333333334,0.5714285714285714,0.7,0.5,0.4,0.38461538461538464,0.45454545454545453,0.3,0.5333333333333333,0.5833333333333334,0.42857142857142855,0.4166666666666667,0.4444444444444444,0.45454545454545453,0.4375,0.625,0.5714285714285714,0.6,0.15384615384615385,0.07142857142857142,0.14285714285714285,0.2222222222222222,0.2727272727272727,0.3076923076923077,0.3333333333333333,0.08333333333333333,0.6666666666666666,0.4117647058823529,0.23076923076923078,0.3888888888888889,0.4375,0.4444444444444444,0.25,0.5,0.5384615384615384,0.36363636363636365],\"cliponaxis\":false,\"marker\":{\"color\":\"green\",\"opacity\":0.7,\"size\":8,\"symbol\":\"circle\"},\"mode\":\"markers\",\"name\":\"SMACT Valid\",\"type\":\"scatterternary\"}],                        {\"template\":{\"data\":{\"histogram2dcontour\":[{\"type\":\"histogram2dcontour\",\"colorbar\":{\"outlinewidth\":0,\"ticks\":\"\"},\"colorscale\":[[0.0,\"#0d0887\"],[0.1111111111111111,\"#46039f\"],[0.2222222222222222,\"#7201a8\"],[0.3333333333333333,\"#9c179e\"],[0.4444444444444444,\"#bd3786\"],[0.5555555555555556,\"#d8576b\"],[0.6666666666666666,\"#ed7953\"],[0.7777777777777778,\"#fb9f3a\"],[0.8888888888888888,\"#fdca26\"],[1.0,\"#f0f921\"]]}],\"choropleth\":[{\"type\":\"choropleth\",\"colorbar\":{\"outlinewidth\":0,\"ticks\":\"\"}}],\"histogram2d\":[{\"type\":\"histogram2d\",\"colorbar\":{\"outlinewidth\":0,\"ticks\":\"\"},\"colorscale\":[[0.0,\"#0d0887\"],[0.1111111111111111,\"#46039f\"],[0.2222222222222222,\"#7201a8\"],[0.3333333333333333,\"#9c179e\"],[0.4444444444444444,\"#bd3786\"],[0.5555555555555556,\"#d8576b\"],[0.6666666666666666,\"#ed7953\"],[0.7777777777777778,\"#fb9f3a\"],[0.8888888888888888,\"#fdca26\"],[1.0,\"#f0f921\"]]}],\"heatmap\":[{\"type\":\"heatmap\",\"colorbar\":{\"outlinewidth\":0,\"ticks\":\"\"},\"colorscale\":[[0.0,\"#0d0887\"],[0.1111111111111111,\"#46039f\"],[0.2222222222222222,\"#7201a8\"],[0.3333333333333333,\"#9c179e\"],[0.4444444444444444,\"#bd3786\"],[0.5555555555555556,\"#d8576b\"],[0.6666666666666666,\"#ed7953\"],[0.7777777777777778,\"#fb9f3a\"],[0.8888888888888888,\"#fdca26\"],[1.0,\"#f0f921\"]]}],\"heatmapgl\":[{\"type\":\"heatmapgl\",\"colorbar\":{\"outlinewidth\":0,\"ticks\":\"\"},\"colorscale\":[[0.0,\"#0d0887\"],[0.1111111111111111,\"#46039f\"],[0.2222222222222222,\"#7201a8\"],[0.3333333333333333,\"#9c179e\"],[0.4444444444444444,\"#bd3786\"],[0.5555555555555556,\"#d8576b\"],[0.6666666666666666,\"#ed7953\"],[0.7777777777777778,\"#fb9f3a\"],[0.8888888888888888,\"#fdca26\"],[1.0,\"#f0f921\"]]}],\"contourcarpet\":[{\"type\":\"contourcarpet\",\"colorbar\":{\"outlinewidth\":0,\"ticks\":\"\"}}],\"contour\":[{\"type\":\"contour\",\"colorbar\":{\"outlinewidth\":0,\"ticks\":\"\"},\"colorscale\":[[0.0,\"#0d0887\"],[0.1111111111111111,\"#46039f\"],[0.2222222222222222,\"#7201a8\"],[0.3333333333333333,\"#9c179e\"],[0.4444444444444444,\"#bd3786\"],[0.5555555555555556,\"#d8576b\"],[0.6666666666666666,\"#ed7953\"],[0.7777777777777778,\"#fb9f3a\"],[0.8888888888888888,\"#fdca26\"],[1.0,\"#f0f921\"]]}],\"surface\":[{\"type\":\"surface\",\"colorbar\":{\"outlinewidth\":0,\"ticks\":\"\"},\"colorscale\":[[0.0,\"#0d0887\"],[0.1111111111111111,\"#46039f\"],[0.2222222222222222,\"#7201a8\"],[0.3333333333333333,\"#9c179e\"],[0.4444444444444444,\"#bd3786\"],[0.5555555555555556,\"#d8576b\"],[0.6666666666666666,\"#ed7953\"],[0.7777777777777778,\"#fb9f3a\"],[0.8888888888888888,\"#fdca26\"],[1.0,\"#f0f921\"]]}],\"mesh3d\":[{\"type\":\"mesh3d\",\"colorbar\":{\"outlinewidth\":0,\"ticks\":\"\"}}],\"scatter\":[{\"fillpattern\":{\"fillmode\":\"overlay\",\"size\":10,\"solidity\":0.2},\"type\":\"scatter\"}],\"parcoords\":[{\"type\":\"parcoords\",\"line\":{\"colorbar\":{\"outlinewidth\":0,\"ticks\":\"\"}}}],\"scatterpolargl\":[{\"type\":\"scatterpolargl\",\"marker\":{\"colorbar\":{\"outlinewidth\":0,\"ticks\":\"\"}}}],\"bar\":[{\"error_x\":{\"color\":\"#2a3f5f\"},\"error_y\":{\"color\":\"#2a3f5f\"},\"marker\":{\"line\":{\"color\":\"#E5ECF6\",\"width\":0.5},\"pattern\":{\"fillmode\":\"overlay\",\"size\":10,\"solidity\":0.2}},\"type\":\"bar\"}],\"scattergeo\":[{\"type\":\"scattergeo\",\"marker\":{\"colorbar\":{\"outlinewidth\":0,\"ticks\":\"\"}}}],\"scatterpolar\":[{\"type\":\"scatterpolar\",\"marker\":{\"colorbar\":{\"outlinewidth\":0,\"ticks\":\"\"}}}],\"histogram\":[{\"marker\":{\"pattern\":{\"fillmode\":\"overlay\",\"size\":10,\"solidity\":0.2}},\"type\":\"histogram\"}],\"scattergl\":[{\"type\":\"scattergl\",\"marker\":{\"colorbar\":{\"outlinewidth\":0,\"ticks\":\"\"}}}],\"scatter3d\":[{\"type\":\"scatter3d\",\"line\":{\"colorbar\":{\"outlinewidth\":0,\"ticks\":\"\"}},\"marker\":{\"colorbar\":{\"outlinewidth\":0,\"ticks\":\"\"}}}],\"scattermapbox\":[{\"type\":\"scattermapbox\",\"marker\":{\"colorbar\":{\"outlinewidth\":0,\"ticks\":\"\"}}}],\"scatterternary\":[{\"type\":\"scatterternary\",\"marker\":{\"colorbar\":{\"outlinewidth\":0,\"ticks\":\"\"}}}],\"scattercarpet\":[{\"type\":\"scattercarpet\",\"marker\":{\"colorbar\":{\"outlinewidth\":0,\"ticks\":\"\"}}}],\"carpet\":[{\"aaxis\":{\"endlinecolor\":\"#2a3f5f\",\"gridcolor\":\"white\",\"linecolor\":\"white\",\"minorgridcolor\":\"white\",\"startlinecolor\":\"#2a3f5f\"},\"baxis\":{\"endlinecolor\":\"#2a3f5f\",\"gridcolor\":\"white\",\"linecolor\":\"white\",\"minorgridcolor\":\"white\",\"startlinecolor\":\"#2a3f5f\"},\"type\":\"carpet\"}],\"table\":[{\"cells\":{\"fill\":{\"color\":\"#EBF0F8\"},\"line\":{\"color\":\"white\"}},\"header\":{\"fill\":{\"color\":\"#C8D4E3\"},\"line\":{\"color\":\"white\"}},\"type\":\"table\"}],\"barpolar\":[{\"marker\":{\"line\":{\"color\":\"#E5ECF6\",\"width\":0.5},\"pattern\":{\"fillmode\":\"overlay\",\"size\":10,\"solidity\":0.2}},\"type\":\"barpolar\"}],\"pie\":[{\"automargin\":true,\"type\":\"pie\"}]},\"layout\":{\"autotypenumbers\":\"strict\",\"colorway\":[\"#636efa\",\"#EF553B\",\"#00cc96\",\"#ab63fa\",\"#FFA15A\",\"#19d3f3\",\"#FF6692\",\"#B6E880\",\"#FF97FF\",\"#FECB52\"],\"font\":{\"color\":\"#2a3f5f\"},\"hovermode\":\"closest\",\"hoverlabel\":{\"align\":\"left\"},\"paper_bgcolor\":\"white\",\"plot_bgcolor\":\"#E5ECF6\",\"polar\":{\"bgcolor\":\"#E5ECF6\",\"angularaxis\":{\"gridcolor\":\"white\",\"linecolor\":\"white\",\"ticks\":\"\"},\"radialaxis\":{\"gridcolor\":\"white\",\"linecolor\":\"white\",\"ticks\":\"\"}},\"ternary\":{\"bgcolor\":\"#E5ECF6\",\"aaxis\":{\"gridcolor\":\"white\",\"linecolor\":\"white\",\"ticks\":\"\"},\"baxis\":{\"gridcolor\":\"white\",\"linecolor\":\"white\",\"ticks\":\"\"},\"caxis\":{\"gridcolor\":\"white\",\"linecolor\":\"white\",\"ticks\":\"\"}},\"coloraxis\":{\"colorbar\":{\"outlinewidth\":0,\"ticks\":\"\"}},\"colorscale\":{\"sequential\":[[0.0,\"#0d0887\"],[0.1111111111111111,\"#46039f\"],[0.2222222222222222,\"#7201a8\"],[0.3333333333333333,\"#9c179e\"],[0.4444444444444444,\"#bd3786\"],[0.5555555555555556,\"#d8576b\"],[0.6666666666666666,\"#ed7953\"],[0.7777777777777778,\"#fb9f3a\"],[0.8888888888888888,\"#fdca26\"],[1.0,\"#f0f921\"]],\"sequentialminus\":[[0.0,\"#0d0887\"],[0.1111111111111111,\"#46039f\"],[0.2222222222222222,\"#7201a8\"],[0.3333333333333333,\"#9c179e\"],[0.4444444444444444,\"#bd3786\"],[0.5555555555555556,\"#d8576b\"],[0.6666666666666666,\"#ed7953\"],[0.7777777777777778,\"#fb9f3a\"],[0.8888888888888888,\"#fdca26\"],[1.0,\"#f0f921\"]],\"diverging\":[[0,\"#8e0152\"],[0.1,\"#c51b7d\"],[0.2,\"#de77ae\"],[0.3,\"#f1b6da\"],[0.4,\"#fde0ef\"],[0.5,\"#f7f7f7\"],[0.6,\"#e6f5d0\"],[0.7,\"#b8e186\"],[0.8,\"#7fbc41\"],[0.9,\"#4d9221\"],[1,\"#276419\"]]},\"xaxis\":{\"gridcolor\":\"white\",\"linecolor\":\"white\",\"ticks\":\"\",\"title\":{\"standoff\":15},\"zerolinecolor\":\"white\",\"automargin\":true,\"zerolinewidth\":2},\"yaxis\":{\"gridcolor\":\"white\",\"linecolor\":\"white\",\"ticks\":\"\",\"title\":{\"standoff\":15},\"zerolinecolor\":\"white\",\"automargin\":true,\"zerolinewidth\":2},\"scene\":{\"xaxis\":{\"backgroundcolor\":\"#E5ECF6\",\"gridcolor\":\"white\",\"linecolor\":\"white\",\"showbackground\":true,\"ticks\":\"\",\"zerolinecolor\":\"white\",\"gridwidth\":2},\"yaxis\":{\"backgroundcolor\":\"#E5ECF6\",\"gridcolor\":\"white\",\"linecolor\":\"white\",\"showbackground\":true,\"ticks\":\"\",\"zerolinecolor\":\"white\",\"gridwidth\":2},\"zaxis\":{\"backgroundcolor\":\"#E5ECF6\",\"gridcolor\":\"white\",\"linecolor\":\"white\",\"showbackground\":true,\"ticks\":\"\",\"zerolinecolor\":\"white\",\"gridwidth\":2}},\"shapedefaults\":{\"line\":{\"color\":\"#2a3f5f\"}},\"annotationdefaults\":{\"arrowcolor\":\"#2a3f5f\",\"arrowhead\":0,\"arrowwidth\":1},\"geo\":{\"bgcolor\":\"white\",\"landcolor\":\"#E5ECF6\",\"subunitcolor\":\"white\",\"showland\":true,\"showlakes\":true,\"lakecolor\":\"white\"},\"title\":{\"x\":0.05},\"mapbox\":{\"style\":\"light\"}}},\"font\":{\"size\":12,\"family\":\"Arial\"},\"ternary\":{\"aaxis\":{\"title\":{\"text\":\"Bi\"},\"linewidth\":1,\"linecolor\":\"black\",\"gridcolor\":\"rgba(128, 128, 128, 0.2)\",\"showticklabels\":true,\"tickvals\":[0.2,0.4,0.6,0.8]},\"baxis\":{\"title\":{\"text\":\"Te\"},\"linewidth\":1,\"linecolor\":\"black\",\"gridcolor\":\"rgba(128, 128, 128, 0.2)\",\"showticklabels\":true,\"tickvals\":[0.2,0.4,0.6,0.8]},\"caxis\":{\"title\":{\"text\":\"In\"},\"linewidth\":1,\"linecolor\":\"black\",\"gridcolor\":\"rgba(128, 128, 128, 0.2)\",\"showticklabels\":true,\"tickvals\":[0.2,0.4,0.6,0.8]},\"bgcolor\":\"rgba(0, 0, 0, 0)\"},\"margin\":{\"l\":40,\"r\":40,\"b\":40,\"t\":40},\"width\":500,\"height\":500,\"title\":{\"text\":\"SMACT-Valid Compositions in Bi-Te-In System\"},\"showlegend\":false},                        {\"responsive\": true}                    ).then(function(){\n",
       "                            \n",
       "var gd = document.getElementById('be5709a1-6ef6-4daa-adb0-8979329ea654');\n",
       "var x = new MutationObserver(function (mutations, observer) {{\n",
       "        var display = window.getComputedStyle(gd).display;\n",
       "        if (!display || display === 'none') {{\n",
       "            console.log([gd, 'removed!']);\n",
       "            Plotly.purge(gd);\n",
       "            observer.disconnect();\n",
       "        }}\n",
       "}});\n",
       "\n",
       "// Listen for the removal of the full notebook cells\n",
       "var notebookContainer = gd.closest('#notebook-container');\n",
       "if (notebookContainer) {{\n",
       "    x.observe(notebookContainer, {childList: true});\n",
       "}}\n",
       "\n",
       "// Listen for the clearing of the current output cell\n",
       "var outputEl = gd.closest('.output');\n",
       "if (outputEl) {{\n",
       "    x.observe(outputEl, {childList: true});\n",
       "}}\n",
       "\n",
       "                        })                };                });            </script>        </div>"
      ]
     },
     "metadata": {},
     "output_type": "display_data"
    }
   ],
   "source": [
    "# Create ternary plot for our compositions\n",
    "try:\n",
    "    import plotly.graph_objects as go\n",
    "    \n",
    "    # Use compositions from commonality threshold = 2\n",
    "    all_comps, ternary_comps, binary_comps = generate_filtered_compositions(\n",
    "        f\"oxidation_states_icsd24_commonality_2.txt\"\n",
    "    )\n",
    "    \n",
    "    # Extract element fractions for ternary plot\n",
    "    e1 = np.array([c[element_symbols[0]] for c in all_comps])\n",
    "    e2 = np.array([c[element_symbols[1]] for c in all_comps])\n",
    "    e3 = np.array([c[element_symbols[2]] for c in all_comps])\n",
    "    total = e1 + e2 + e3\n",
    "    \n",
    "    # Create ternary scatter plot\n",
    "    trace = go.Scatterternary(\n",
    "        a=e1/total,\n",
    "        b=e2/total,\n",
    "        c=e3/total,\n",
    "        mode=\"markers\",\n",
    "        marker=dict(\n",
    "            size=8,\n",
    "            color=\"green\",\n",
    "            symbol=\"circle\",\n",
    "            opacity=0.7,\n",
    "        ),\n",
    "        name=\"SMACT Valid\",\n",
    "        cliponaxis=False,\n",
    "    )\n",
    "    \n",
    "    axis_style = dict(\n",
    "        title=dict(font=dict(size=12)),\n",
    "        linewidth=1,\n",
    "        linecolor=\"black\",\n",
    "        gridcolor=\"rgba(128, 128, 128, 0.2)\",\n",
    "        showticklabels=True,\n",
    "        tickvals=[0.2, 0.4, 0.6, 0.8],\n",
    "    )\n",
    "    \n",
    "    fig = go.Figure(trace)\n",
    "    fig.update_layout(\n",
    "        font=dict(size=12, family=\"Arial\"),\n",
    "        width=500,\n",
    "        height=500,\n",
    "        ternary=dict(\n",
    "            bgcolor=\"rgba(0, 0, 0, 0)\",\n",
    "            aaxis=dict(axis_style, title=element_symbols[0]),\n",
    "            baxis=dict(axis_style, title=element_symbols[1]),\n",
    "            caxis=dict(axis_style, title=element_symbols[2]),\n",
    "        ),\n",
    "        margin=dict(l=40, r=40, b=40, t=40),\n",
    "        title=f\"SMACT-Valid Compositions in {'-'.join(element_symbols)} System\",\n",
    "        showlegend=False,\n",
    "    )\n",
    "    \n",
    "    # Show the plot\n",
    "    fig.show()\n",
    "    \n",
    "except ImportError:\n",
    "    print(\"Plotly not available for ternary plotting. Install with: pip install plotly\")\n",
    "    print(f\"Found {len(all_comps)} total compositions in the {'-'.join(element_symbols)} system\")\n",
    "    \n",
    "    # Show some example compositions instead\n",
    "    print(\"\\nSample compositions:\")\n",
    "    for i, comp in enumerate(list(all_comps)[:10]):\n",
    "        print(f\"  {i+1:2d}. {comp}\")\n",
    "    if len(all_comps) > 10:\n",
    "        print(f\"  ... and {len(all_comps) - 10} more!\")"
   ]
  },
  {
   "cell_type": "markdown",
   "metadata": {},
   "source": [
    "### Understanding the Impact of Different Oxidation State Sets\n",
    "\n",
    "Let's compare the traditional SMACT approach with the new ICSD24 approach:"
   ]
  },
  {
   "cell_type": "code",
   "execution_count": 52,
   "metadata": {},
   "outputs": [
    {
     "name": "stdout",
     "output_type": "stream",
     "text": [
      "Comparison of different oxidation state sets:\n",
      "                 Oxidation Set |    Total |  Ternary |   Binary\n",
      "-----------------------------------------------------------------\n",
      "                    SMACT 2014 |      102 |       92 |       10\n",
      "                ICSD24 Default |      327 |      301 |       26\n",
      "ICSD24 Filtered (commonality≥5) |       93 |       81 |       12\n",
      "\n",
      "**Key Insights:**\n",
      "• ICSD24 sets are based on experimental crystal structure data\n",
      "• Higher commonality thresholds = more conservative filtering\n",
      "• Custom filtering allows you to balance coverage vs. reliability\n",
      "• Different sets may be optimal for different material types\n"
     ]
    }
   ],
   "source": [
    "# Compare different oxidation state sets\n",
    "ox_state_sets = {\n",
    "    \"SMACT 2014\": \"smact14\",\n",
    "    \"ICSD24 Default\": \"icsd24\", \n",
    "    \"ICSD24 Filtered (commonality≥5)\": \"oxidation_states_icsd24_commonality_5.txt\"\n",
    "}\n",
    "\n",
    "print(\"Comparison of different oxidation state sets:\")\n",
    "print(f\"{'Oxidation Set':>30} | {'Total':>8} | {'Ternary':>8} | {'Binary':>8}\")\n",
    "print(\"-\" * 65)\n",
    "\n",
    "for name, ox_set in ox_state_sets.items():\n",
    "    try:\n",
    "        all_comps, ternary_comps, binary_comps = generate_filtered_compositions(\n",
    "            ox_set if ox_set.endswith('.txt') else None,\n",
    "            maxstoichiometrythreshold=8\n",
    "        )\n",
    "        if ox_set in [\"smact14\", \"icsd24\"]:\n",
    "            # For built-in sets, need to specify the set name\n",
    "            all_comps, ternary_comps, binary_comps = generate_filtered_compositions()\n",
    "            # Re-generate with correct oxidation state set\n",
    "            ternary = generate_valid_compositions(elements, ox_set, 8)\n",
    "            binary = set()\n",
    "            for pair in combinations(elements, 2):\n",
    "                binary |= generate_valid_compositions(list(pair), ox_set, 8)\n",
    "            all_comps = ternary | binary\n",
    "            ternary_comps = ternary\n",
    "            binary_comps = binary\n",
    "            \n",
    "        print(f\"{name:>30} | {len(all_comps):>8} | {len(ternary_comps):>8} | {len(binary_comps):>8}\")\n",
    "        \n",
    "    except Exception as e:\n",
    "        print(f\"{name:>30} | {'Error':>8} | {'Error':>8} | {'Error':>8}\")\n",
    "        print(f\"  Error: {e}\")\n",
    "\n",
    "print(\"\\n**Key Insights:**\")\n",
    "print(\"• ICSD24 sets are based on experimental crystal structure data\")\n",
    "print(\"• Higher commonality thresholds = more conservative filtering\")\n",
    "print(\"• Custom filtering allows you to balance coverage vs. reliability\")\n",
    "print(\"• Different sets may be optimal for different material types\")"
   ]
  },
  {
   "cell_type": "markdown",
   "metadata": {},
   "source": [
    "## Part E: Advanced Methods"
   ]
  },
  {
   "cell_type": "markdown",
   "metadata": {},
   "source": [
    "### Parallel Processing for Large Datasets\n",
    "When dealing with large chemical spaces, computations can be time-consuming. Using multiprocessing can speed up the process.\n"
   ]
  },
  {
   "cell_type": "code",
   "execution_count": 53,
   "metadata": {},
   "outputs": [],
   "source": [
    "import multiprocessing\n",
    "\n",
    "def process_combinations(els):\n",
    "    # Your filtering code here\n",
    "    pass\n",
    "\n",
    "# with multiprocessing.Pool() as pool:\n",
    "#     results = pool.map(process_combinations, element_combinations)\n"
   ]
  },
  {
   "cell_type": "markdown",
   "metadata": {},
   "source": [
    "Parallel processing is particularly valuable when **featurising** large datasets, but needs to be handled carefully.\n",
    "\n",
    "For parallel featurisation using matminer, you can control the number of parallel processes:\n",
    "```python\n",
    "from matminer.featurizers import feature_calculators\n",
    "feature_calculators.set_n_jobs(n_jobs=X)  # X is number of parallel processes\n",
    "```\n",
    "\n",
    "While setting n_jobs=-1 uses all available cores, this can cause memory issues with large datasets.\n",
    "A safer approach is using 1-2 cores ie setting n_jobs to 1 or 2 or chunking the data:\n",
    "\n",
    "```python\n",
    "import pandas as pd\n",
    "from matminer.featurisers import composition as cf\n",
    "```\n",
    "### Example chunking approach\n",
    "```python\n",
    "def process_chunk(chunk_df):\n",
    "    featuriser = cf.ElementProperty.from_preset(\"magpie\")\n",
    "     return featuriser.featurise_dataframe(chunk_df, \"formula\")\n",
    "\n",
    " # Split dataframe into chunks\n",
    "chunk_size = 1000  # Adjust based on your memory constraints\n",
    "chunks = [df[i:i + chunk_size] for i in range(0, len(df), chunk_size)]\n",
    "\n",
    "# Process chunks sequentially\n",
    "results = []\n",
    "for chunk in chunks:\n",
    "    processed_chunk = process_chunk(chunk)\n",
    "    results.append(processed_chunk)\n",
    "\n",
    "# Combine results\n",
    "final_df = pd.concat(results, ignore_index=True)\n",
    "```\n",
    "\n",
    "Note: Always test your featurisation pipeline on a small subset first before processing the full dataset."
   ]
  },
  {
   "cell_type": "markdown",
   "metadata": {},
   "source": [
    "### Exercise: Your Turn to Filter!\n",
    "\n",
    "Try these advanced filtering challenges:\n",
    "\n",
    "1. **Explore a different chemical system**: Choose 3 elements relevant to your research\n",
    "2. **Test consensus thresholds**: Compare consensus=1 vs consensus=2 vs consensus=3\n",
    "3. **Include metals**: Set `include_zero=True` and see how it affects results\n",
    "4. **Combine with property filters**: Add criteria like electronegativity differences\n",
    "\n",
    "Use the cells below for your explorations:\""
   ]
  },
  {
   "cell_type": "code",
   "execution_count": 54,
   "metadata": {},
   "outputs": [
    {
     "name": "stdout",
     "output_type": "stream",
     "text": [
      "Found 64 viable compositions using ['Ti', 'Zn', 'O']\n",
      "First 10 compositions:\n",
      "   1. TiZnO2 (oxidation states: (2, 2, -2))\n",
      "   2. TiZn2O3 (oxidation states: (2, 2, -2))\n",
      "   3. TiZn3O4 (oxidation states: (2, 2, -2))\n",
      "   4. TiZn4O5 (oxidation states: (2, 2, -2))\n",
      "   5. TiZn5O6 (oxidation states: (2, 2, -2))\n",
      "   6. TiZn6O7 (oxidation states: (2, 2, -2))\n",
      "   7. TiZn7O8 (oxidation states: (2, 2, -2))\n",
      "   8. Ti2ZnO3 (oxidation states: (2, 2, -2))\n",
      "   9. Ti2Zn3O5 (oxidation states: (2, 2, -2))\n",
      "  10. Ti2Zn5O7 (oxidation states: (2, 2, -2))\n",
      "  ... and 54 more compositions!\n",
      "\n",
      "Try changing element_symbols to explore other chemical systems!\n",
      "Examples:\n",
      "- Solar cells: ['Cu', 'In', 'Se']\n",
      "- Batteries: ['Li', 'Co', 'O']\n",
      "- Thermoelectrics: ['Bi', 'Te', 'Se']\n"
     ]
    }
   ],
   "source": [
    "# Your exploration space - try different element combinations!\n",
    "\n",
    "# Example: Solar cell materials (Cu-In-Ga-Se system)\n",
    "# your_elements = [\"Cu\", \"In\", \"Ga\", \"Se\"]\n",
    "\n",
    "# Example: Battery materials (Li-Co-O system)  \n",
    "# your_elements = [\"Li\", \"Co\", \"O\"]\n",
    "\n",
    "# Define your elements and apply filters\n",
    "element_symbols = [\"Ti\", \"Zn\", \"O\"]  # Change these to elements of your interest\n",
    "elements = [Element(sym) for sym in element_symbols]\n",
    "\n",
    "# Apply the filters we learned\n",
    "from smact.screening import smact_filter\n",
    "\n",
    "# Get all possible combinations using correct smact_filter syntax\n",
    "filtered_compositions = smact_filter(elements, threshold=8)\n",
    "\n",
    "print(f\"Found {len(filtered_compositions)} viable compositions using {element_symbols}\")\n",
    "print(\"First 10 compositions:\")\n",
    "for i, comp in enumerate(filtered_compositions[:10]):\n",
    "    symbols, ox_states, ratios = comp\n",
    "    formula = \"\"\n",
    "    for j, (sym, ratio) in enumerate(zip(symbols, ratios)):\n",
    "        if ratio > 1:\n",
    "            formula += f\"{sym}{ratio}\"\n",
    "        else:\n",
    "            formula += sym\n",
    "    print(f\"  {i+1:2d}. {formula} (oxidation states: {ox_states})\")\n",
    "\n",
    "if len(filtered_compositions) > 10:\n",
    "    print(f\"  ... and {len(filtered_compositions) - 10} more compositions!\")\n",
    "\n",
    "print(f\"\\nTry changing element_symbols to explore other chemical systems!\")\n",
    "print(\"Examples:\")\n",
    "print(\"- Solar cells: ['Cu', 'In', 'Se']\")\n",
    "print(\"- Batteries: ['Li', 'Co', 'O']\")\n",
    "print(\"- Thermoelectrics: ['Bi', 'Te', 'Se']\")"
   ]
  },
  {
   "cell_type": "markdown",
   "metadata": {},
   "source": [
    "## Conclusion\n",
    "\n",
    "In this tutorial, we've explored how to use SMACT and related tools to:\n",
    "\n",
    " 1. Generate chemical spaces either combinatorially or by fetching data from databases\n",
    "\n",
    " 2. Apply basic chemical filters using charge neutrality and electronegativity rules  \n",
    "\n",
    " 3. Use advanced oxidation state filtering with consensus and commonality thresholds\n",
    "\n",
    " 4. Identify materials suitable for specific engineering applications\n",
    " \n",
    " 5. Compare different filtering approaches to optimise your screening workflows\n",
    "\n",
    "### Key Takeaways\n",
    "\n",
    "1. Chemical filtering dramatically reduces search spaces from millions to hundreds of candidates\n",
    "\n",
    "2. ICSD24 oxidation states provide experimentally-grounded filtering based on real crystal structures\n",
    "\n",
    "3. Consensus and commonality thresholds allow fine-tuning of filter strictness\n",
    "\n",
    "4. Different applications benefit from different filtering strategies - no one-size-fits-all approach\n",
    "\n",
    "5. Combining multiple filters (chemical + property-based) gives the most targeted results\n",
    "\n",
    "By leveraging SMACT's capabilities, you can efficiently navigate the vast landscape of possible compounds and focus on the most promising candidates for experimental validation."
   ]
  },
  {
   "cell_type": "markdown",
   "metadata": {},
   "source": [
    "\n",
    "## References: \n",
    "- SMACT Documentation: SMACT GitHub Repository\n",
    "- Materials Project API: Materials Project API Documentation\n",
    "- Pymatgen Library: Pymatgen Documentation\n",
    "- Matminer Library: Matminer Documentation\n"
   ]
  }
 ],
 "metadata": {
  "kernelspec": {
   "display_name": "materialsinformatics",
   "language": "python",
   "name": "python3"
  },
  "language_info": {
   "codemirror_mode": {
    "name": "ipython",
    "version": 3
   },
   "file_extension": ".py",
   "mimetype": "text/x-python",
   "name": "python",
   "nbconvert_exporter": "python",
   "pygments_lexer": "ipython3",
   "version": "3.13.0"
  }
 },
 "nbformat": 4,
 "nbformat_minor": 2
}
