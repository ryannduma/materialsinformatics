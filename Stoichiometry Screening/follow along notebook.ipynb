{
 "cells": [
  {
   "cell_type": "markdown",
   "metadata": {},
   "source": [
    "# Stoichiometry Screening: Getting the Ratios Right\n",
    "\n",
    "You've mastered chemical filters and compositional screening - now it's time to tackle a more focused challenge: **finding the right atomic ratios**. Once you know which elements to combine, how do you determine the optimal stoichiometry?\n",
    "\n",
    "This tutorial will teach you to systematically explore stoichiometric spaces and identify chemically viable atomic ratios using SMACT.\n",
    "\n",
    "## What You'll Learn\n",
    "\n",
    "1. **Distinguish compositional from stoichiometric screening**\n",
    "2. **Generate systematic stoichiometric spaces** for element combinations\n",
    "3. **Apply chemical validation rules** to atomic ratios\n",
    "4. **Screen specific structure types** (binary, perovskite, quaternary)\n",
    "5. **Use ICSD occurrence data** to guide predictions\n",
    "6. **Visualise stoichiometric validity** with interactive plots\n",
    "\n",
    "## The Foundation: Previous Learning\n",
    "\n",
    "This builds directly on your previous knowledge:\n",
    "- **Chemical Filters**: Provide the validation rules we'll apply\n",
    "- **Compositional Screening**: Identified promising element combinations\n",
    "- **Stoichiometry Screening**: Now finds optimal atomic ratios\n",
    "\n",
    "Let's begin exploring the systematic world of atomic ratios!"
   ]
  },
  {
   "cell_type": "code",
   "execution_count": 18,
   "metadata": {},
   "outputs": [
    {
     "name": "stdout",
     "output_type": "stream",
     "text": [
      "Libraries imported successfully!\n",
      "Ready to begin stoichiometry screening\n"
     ]
    }
   ],
   "source": [
    "# Import Libraries\n",
    "\n",
    "import os\n",
    "import itertools\n",
    "import numpy as np\n",
    "import pandas as pd\n",
    "import matplotlib.pyplot as plt\n",
    "import seaborn as sns\n",
    "import plotly.graph_objects as go\n",
    "\n",
    "# Materials science libraries\n",
    "from pymatgen.core import Composition\n",
    "\n",
    "# SMACT for stoichiometric screening\n",
    "import smact\n",
    "from smact import Element, Species\n",
    "from smact.screening import smact_validity\n",
    "from smact.utils.oxidation import ICSD24OxStatesFilter\n",
    "\n",
    "# Configure plotting\n",
    "plt.style.use('default')\n",
    "sns.set_palette(\"husl\")\n",
    "\n",
    "print(\"Libraries imported successfully!\")\n",
    "print(\"Ready to begin stoichiometry screening\")"
   ]
  },
  {
   "cell_type": "markdown",
   "metadata": {},
   "source": [
    "## Understanding the Difference: Compositional vs Stoichiometric Screening\n",
    "\n",
    "Let's clarify this important distinction with concrete examples:\n",
    "\n",
    "**Compositional Screening** asks: *\"Should I combine Cu, Ti, and O?\"*\n",
    "- Explores which elements to use together\n",
    "- Maps entire chemical systems like Cu-Ti-O\n",
    "- Answers: \"Yes, Cu-Ti-O is a viable system\"\n",
    "\n",
    "**Stoichiometry Screening** asks: *\"Given Cu, Ti, and O, should I make CuTiO₃, Cu₂TiO₄, or CuTi₂O₅?\"*\n",
    "- Explores different atomic ratios within known systems\n",
    "- Applies chemical rules to specific stoichiometries\n",
    "- Answers: \"CuTiO₃ is chemically valid, but Cu₅TiO₁₃ is not\"\n",
    "\n",
    "Both are essential for comprehensive materials discovery!"
   ]
  },
  {
   "cell_type": "markdown",
   "metadata": {},
   "source": [
    "## Step 1: Binary Stoichiometry Screening"
   ]
  },
  {
   "cell_type": "code",
   "execution_count": 19,
   "metadata": {},
   "outputs": [
    {
     "name": "stdout",
     "output_type": "stream",
     "text": [
      "Screening Na-Cl binary stoichiometries...\n",
      "\n",
      "Found 11 unique stoichiometries:\n",
      "  formula  valid\n",
      "0    NaCl   True\n",
      "1   NaCl2  False\n",
      "2   NaCl3  False\n",
      "3   NaCl4  False\n",
      "4   Na2Cl  False\n",
      "5  Na2Cl3  False\n",
      "6   Na3Cl  False\n",
      "7  Na3Cl2  False\n",
      "\n",
      "Valid stoichiometries: 1/11 (9.1%)\n"
     ]
    }
   ],
   "source": [
    "\n",
    "def screen_binary_stoichiometries(element_A, element_B, max_stoich=5):\n",
    "    \"\"\"\n",
    "    Screen all possible stoichiometries for a binary system A_x B_y.\n",
    "    \n",
    "    Args:\n",
    "        element_A, element_B (str): Element symbols\n",
    "        max_stoich (int): Maximum stoichiometric coefficient\n",
    "        \n",
    "    Returns:\n",
    "        pandas.DataFrame: Results with compositions and validity\n",
    "    \"\"\"\n",
    "    results = []\n",
    "    \n",
    "    # Test all combinations of stoichiometric coefficients\n",
    "    for x in range(1, max_stoich + 1):\n",
    "        for y in range(1, max_stoich + 1):\n",
    "            # Create composition\n",
    "            comp = Composition({element_A: x, element_B: y}).reduced_composition\n",
    "            \n",
    "            # Test chemical validity\n",
    "            is_valid = smact_validity(comp)\n",
    "            \n",
    "            results.append({\n",
    "                'stoichiometry': f\"{element_A}{x}{element_B}{y}\",\n",
    "                'composition': comp,\n",
    "                'formula': comp.reduced_formula,\n",
    "                'valid': is_valid,\n",
    "                'coeff_A': x,\n",
    "                'coeff_B': y\n",
    "            })\n",
    "    \n",
    "    # Create DataFrame and remove duplicates\n",
    "    df = pd.DataFrame(results)\n",
    "    df = df.drop_duplicates('formula').reset_index(drop=True)\n",
    "    \n",
    "    return df\n",
    "\n",
    "# Example: Screen sodium chloride stoichiometries\n",
    "print(\"Screening Na-Cl binary stoichiometries...\")\n",
    "nacl_results = screen_binary_stoichiometries(\"Na\", \"Cl\", max_stoich=4)\n",
    "\n",
    "print(f\"\\nFound {len(nacl_results)} unique stoichiometries:\")\n",
    "print(nacl_results[['formula', 'valid']].head(8))\n",
    "\n",
    "# Count valid vs invalid\n",
    "valid_count = nacl_results['valid'].sum()\n",
    "total_count = len(nacl_results)\n",
    "print(f\"\\nValid stoichiometries: {valid_count}/{total_count} ({valid_count/total_count*100:.1f}%)\")"
   ]
  },
  {
   "cell_type": "markdown",
   "metadata": {},
   "source": [
    "## Step 2: Visualise Binary Stoichiometric Space"
   ]
  },
  {
   "cell_type": "code",
   "execution_count": 20,
   "metadata": {},
   "outputs": [
    {
     "data": {
      "image/png": "[encoded data removed]",
      "text/plain": [
       "<Figure size 800x600 with 1 Axes>"
      ]
     },
     "metadata": {},
     "output_type": "display_data"
    },
    {
     "name": "stdout",
     "output_type": "stream",
     "text": [
      "\n",
      "Grid interpretation:\n",
      "- Green (Valid): Stoichiometry passes SMACT chemical rules\n",
      "- Red (Invalid): Stoichiometry violates charge neutrality or electronegativity rules\n",
      "- Only NaCl (1:1 ratio) is chemically valid for this system\n"
     ]
    }
   ],
   "source": [
    "\n",
    "def plot_stoichiometric_grid(df, element_A, element_B, max_display=5):\n",
    "    \"\"\"\n",
    "    Create a grid visualisation of binary stoichiometric validity.\n",
    "    \n",
    "    Args:\n",
    "        df (DataFrame): Results from binary screening\n",
    "        element_A, element_B (str): Element symbols\n",
    "        max_display (int): Maximum coefficient to display\n",
    "    \"\"\"\n",
    "    # Create grid matrix\n",
    "    grid = np.zeros((max_display, max_display))\n",
    "    \n",
    "    for _, row in df.iterrows():\n",
    "        if row['coeff_A'] <= max_display and row['coeff_B'] <= max_display:\n",
    "            x_idx = row['coeff_A'] - 1\n",
    "            y_idx = row['coeff_B'] - 1\n",
    "            grid[x_idx, y_idx] = 1 if row['valid'] else -1\n",
    "    \n",
    "    # Create plot\n",
    "    fig, ax = plt.subplots(figsize=(8, 6))\n",
    "    \n",
    "    # Plot grid with colour coding\n",
    "    im = ax.imshow(grid, cmap='RdYlGn', aspect='equal', origin='lower', \n",
    "                   extent=[0.5, max_display+0.5, 0.5, max_display+0.5])\n",
    "    \n",
    "    # Add text annotations\n",
    "    for i in range(max_display):\n",
    "        for j in range(max_display):\n",
    "            value = grid[i, j]\n",
    "            if value == 1:\n",
    "                text = \"Valid\"\n",
    "                colour = \"black\"\n",
    "            elif value == -1:\n",
    "                text = \"Invalid\"\n",
    "                colour = \"black\"\n",
    "            else:\n",
    "                text = \"\"\n",
    "                colour = \"grey\"\n",
    "            \n",
    "            ax.text(j+1, i+1, text, ha='center', va='center', \n",
    "                   color=colour, fontsize=10, weight='bold')\n",
    "    \n",
    "    # Formatting\n",
    "    ax.set_xlabel(f\"{element_B} stoichiometric coefficient\")\n",
    "    ax.set_ylabel(f\"{element_A} stoichiometric coefficient\")\n",
    "    ax.set_title(f\"Stoichiometric Validity: {element_A}-{element_B} System\")\n",
    "    \n",
    "    # Set ticks\n",
    "    ax.set_xticks(range(1, max_display+1))\n",
    "    ax.set_yticks(range(1, max_display+1))\n",
    "    \n",
    "    plt.tight_layout()\n",
    "    plt.show()\n",
    "\n",
    "# Plot the Na-Cl results\n",
    "plot_stoichiometric_grid(nacl_results, \"Na\", \"Cl\", max_display=4)\n",
    "\n",
    "print(\"\\nGrid interpretation:\")\n",
    "print(\"- Green (Valid): Stoichiometry passes SMACT chemical rules\")\n",
    "print(\"- Red (Invalid): Stoichiometry violates charge neutrality or electronegativity rules\")\n",
    "print(\"- Only NaCl (1:1 ratio) is chemically valid for this system\")"
   ]
  },
  {
   "cell_type": "markdown",
   "metadata": {},
   "source": [
    "## Step 3: Ternary Perovskite Screening (ABX₃)"
   ]
  },
  {
   "cell_type": "code",
   "execution_count": 21,
   "metadata": {},
   "outputs": [
    {
     "name": "stdout",
     "output_type": "stream",
     "text": [
      "Screening ABX₃ perovskite stoichiometries...\n",
      "\n",
      "Perovskite screening results:\n",
      "  formula  valid\n",
      "0  CaTiO3   True\n",
      "1  CaZrO3   True\n",
      "2  CaSnO3   True\n",
      "3  SrTiO3   True\n",
      "4  SrZrO3   True\n",
      "5  SrSnO3   True\n",
      "6  BaTiO3   True\n",
      "7  BaZrO3   True\n",
      "8  BaSnO3   True\n",
      "\n",
      "Valid perovskite compositions: 9/9\n",
      "\n",
      "Chemically valid perovskites found:\n",
      "  CaTiO3 (Ca-Ti-O)\n",
      "  CaZrO3 (Ca-Zr-O)\n",
      "  CaSnO3 (Ca-Sn-O)\n",
      "  SrTiO3 (Sr-Ti-O)\n",
      "  SrZrO3 (Sr-Zr-O)\n",
      "  SrSnO3 (Sr-Sn-O)\n",
      "  BaTiO3 (Ba-Ti-O)\n",
      "  BaZrO3 (Ba-Zr-O)\n",
      "  BaSnO3 (Ba-Sn-O)\n"
     ]
    }
   ],
   "source": [
    "\n",
    "def screen_perovskite_stoichiometries(A_elements, B_elements, X_elements):\n",
    "    \"\"\"\n",
    "    Screen ABX₃ perovskite stoichiometries systematically.\n",
    "    \n",
    "    Args:\n",
    "        A_elements, B_elements, X_elements (list): Element lists for each site\n",
    "        \n",
    "    Returns:\n",
    "        pandas.DataFrame: Perovskite screening results\n",
    "    \"\"\"\n",
    "    results = []\n",
    "    \n",
    "    # Test all combinations of A, B, X elements\n",
    "    for A in A_elements:\n",
    "        for B in B_elements:\n",
    "            for X in X_elements:\n",
    "                # Create ABX₃ composition\n",
    "                comp = Composition({A: 1, B: 1, X: 3})\n",
    "                \n",
    "                # Test validity\n",
    "                is_valid = smact_validity(comp)\n",
    "                \n",
    "                results.append({\n",
    "                    'A_element': A,\n",
    "                    'B_element': B, \n",
    "                    'X_element': X,\n",
    "                    'formula': comp.reduced_formula,\n",
    "                    'composition': comp,\n",
    "                    'valid': is_valid\n",
    "                })\n",
    "    \n",
    "    return pd.DataFrame(results)\n",
    "\n",
    "# Define element sets for perovskite screening\n",
    "A_site = [\"Ca\", \"Sr\", \"Ba\"]  # Large cations\n",
    "B_site = [\"Ti\", \"Zr\", \"Sn\"]  # Smaller cations\n",
    "X_site = [\"O\"]               # Anions\n",
    "\n",
    "print(\"Screening ABX₃ perovskite stoichiometries...\")\n",
    "perovskite_results = screen_perovskite_stoichiometries(A_site, B_site, X_site)\n",
    "\n",
    "print(f\"\\nPerovskite screening results:\")\n",
    "print(perovskite_results[['formula', 'valid']])\n",
    "\n",
    "# Analyse results\n",
    "valid_perovskites = perovskite_results[perovskite_results['valid']]\n",
    "print(f\"\\nValid perovskite compositions: {len(valid_perovskites)}/{len(perovskite_results)}\")\n",
    "\n",
    "if len(valid_perovskites) > 0:\n",
    "    print(\"\\nChemically valid perovskites found:\")\n",
    "    for _, row in valid_perovskites.iterrows():\n",
    "        print(f\"  {row['formula']} ({row['A_element']}-{row['B_element']}-{row['X_element']})\")"
   ]
  },
  {
   "cell_type": "markdown",
   "metadata": {},
   "source": [
    "## Step 4: Advanced Stoichiometric Analysis with ICSD Data"
   ]
  },
  {
   "cell_type": "code",
   "execution_count": 22,
   "metadata": {},
   "outputs": [
    {
     "name": "stdout",
     "output_type": "stream",
     "text": [
      "Exploring ICSD oxidation state occurrence data...\n",
      "\n",
      "Most common oxidation states in experimental structures:\n",
      "  species  results_count\n",
      "0     O2-         116910\n",
      "1      H+          34232\n",
      "2    Si4+          18248\n",
      "3     Na+          17539\n",
      "4    Ca2+          16605\n",
      "5    Al3+          15020\n",
      "6    Ba2+          14917\n",
      "7     N3-          13983\n",
      "8      K+          13748\n",
      "9     S2-          13417\n",
      "\n",
      "Oxidation state analysis for valid perovskites:\n",
      "  CaTiO3: Ca: [2]; Ti: [2, 3, 4]; O: [-2, -1]\n",
      "  CaZrO3: Ca: [2]; Zr: [1, 2, 3]; O: [-2, -1]\n",
      "  CaSnO3: Ca: [2]; Sn: [-4, -2, -1]; O: [-2, -1]\n",
      "  SrTiO3: Sr: [2, 4]; Ti: [2, 3, 4]; O: [-2, -1]\n",
      "  SrZrO3: Sr: [2, 4]; Zr: [1, 2, 3]; O: [-2, -1]\n",
      "  SrSnO3: Sr: [2, 4]; Sn: [-4, -2, -1]; O: [-2, -1]\n",
      "  BaTiO3: Ba: [2]; Ti: [2, 3, 4]; O: [-2, -1]\n",
      "  BaZrO3: Ba: [2]; Zr: [1, 2, 3]; O: [-2, -1]\n",
      "  BaSnO3: Ba: [2]; Sn: [-4, -2, -1]; O: [-2, -1]\n"
     ]
    },
    {
     "data": {
      "image/png": "[encoded data removed]",
      "text/plain": [
       "<Figure size 1000x600 with 1 Axes>"
      ]
     },
     "metadata": {},
     "output_type": "display_data"
    },
    {
     "name": "stdout",
     "output_type": "stream",
     "text": [
      "\n",
      "Key insight: O²⁻ is by far the most common oxidation state,\n",
      "appearing in over 116,000 structures. This validates our focus on oxides.\n"
     ]
    }
   ],
   "source": [
    "\n",
    "print(\"Exploring ICSD oxidation state occurrence data...\")\n",
    "\n",
    "# Load ICSD oxidation state filter\n",
    "icsd_filter = ICSD24OxStatesFilter()\n",
    "occurrence_data = icsd_filter.get_species_occurrences_df(sort_by_occurrences=True)\n",
    "\n",
    "print(\"\\nMost common oxidation states in experimental structures:\")\n",
    "print(occurrence_data.head(10)[['species', 'results_count']])\n",
    "\n",
    "# Analyse our perovskite results in context of ICSD data\n",
    "def analyse_oxidation_states(formula):\n",
    "    \"\"\"\n",
    "    Analyse the likely oxidation states for a given formula.\n",
    "    This is a simplified analysis - in practice, you'd want to\n",
    "    systematically test all valid oxidation state combinations.\n",
    "    \"\"\"\n",
    "    comp = Composition(formula)\n",
    "    \n",
    "    analysis = []\n",
    "    for element, amount in comp.items():\n",
    "        element_obj = Element(element.symbol)\n",
    "        common_states = element_obj.oxidation_states[:3]  # Most common states\n",
    "        analysis.append(f\"{element.symbol}: {common_states}\")\n",
    "    \n",
    "    return \"; \".join(analysis)\n",
    "\n",
    "print(\"\\nOxidation state analysis for valid perovskites:\")\n",
    "for _, row in valid_perovskites.iterrows():\n",
    "    ox_analysis = analyse_oxidation_states(row['formula'])\n",
    "    print(f\"  {row['formula']}: {ox_analysis}\")\n",
    "\n",
    "# Plot ICSD occurrence distribution\n",
    "plt.figure(figsize=(10, 6))\n",
    "top_20 = occurrence_data.head(20)\n",
    "plt.barh(range(len(top_20)), top_20['results_count'])\n",
    "plt.yticks(range(len(top_20)), top_20['species'])\n",
    "plt.xlabel('Number of occurrences in ICSD')\n",
    "plt.title('Most Common Oxidation States in Experimental Structures')\n",
    "plt.gca().invert_yaxis()\n",
    "plt.tight_layout()\n",
    "plt.show()\n",
    "\n",
    "print(\"\\nKey insight: O²⁻ is by far the most common oxidation state,\")\n",
    "print(\"appearing in over 116,000 structures. This validates our focus on oxides.\")"
   ]
  },
  {
   "cell_type": "markdown",
   "metadata": {},
   "source": [
    "## Step 5: Comprehensive Stoichiometric Survey"
   ]
  },
  {
   "cell_type": "code",
   "execution_count": 23,
   "metadata": {},
   "outputs": [
    {
     "name": "stdout",
     "output_type": "stream",
     "text": [
      "Performing comprehensive stoichiometric survey of Cu-Ti-O system...\n",
      "\n",
      "Survey results summary:\n",
      "Total unique compositions: 25\n",
      "Valid compositions: 7\n",
      "Success rate: 28.0%\n",
      "\n",
      "Valid Cu-Ti-O stoichiometries (ordered by complexity):\n",
      "   1. TiCuO2 (4.0 atoms)\n",
      "   2. TiCuO3 (5.0 atoms)\n",
      "   3. Ti(CuO)2 (5.0 atoms)\n",
      "   4. Ti2CuO3 (6.0 atoms)\n",
      "   5. TiCu2O3 (6.0 atoms)\n",
      "   6. Ti2Cu2O3 (7.0 atoms)\n",
      "   7. Ti(CuO)3 (7.0 atoms)\n"
     ]
    }
   ],
   "source": [
    "\n",
    "def comprehensive_stoichiometric_survey(elements, max_stoich=3):\n",
    "    \"\"\"\n",
    "    Perform a comprehensive survey of all possible stoichiometries\n",
    "    for a given set of elements.\n",
    "    \n",
    "    Args:\n",
    "        elements (list): Elements to survey\n",
    "        max_stoich (int): Maximum stoichiometric coefficient\n",
    "        \n",
    "    Returns:\n",
    "        pandas.DataFrame: Comprehensive results\n",
    "    \"\"\"\n",
    "    results = []\n",
    "    \n",
    "    # Generate all possible stoichiometric combinations\n",
    "    coefficients = range(1, max_stoich + 1)\n",
    "    \n",
    "    for stoich_combo in itertools.product(coefficients, repeat=len(elements)):\n",
    "        # Create composition\n",
    "        comp_dict = dict(zip(elements, stoich_combo))\n",
    "        comp = Composition(comp_dict).reduced_composition\n",
    "        \n",
    "        # Test validity\n",
    "        is_valid = smact_validity(comp)\n",
    "        \n",
    "        results.append({\n",
    "            'elements': '-'.join(elements),\n",
    "            'stoichiometry': ':'.join(map(str, stoich_combo)),\n",
    "            'composition': comp,\n",
    "            'formula': comp.reduced_formula,\n",
    "            'valid': is_valid,\n",
    "            'num_atoms': comp.num_atoms,\n",
    "            'num_elements': len(comp.elements)\n",
    "        })\n",
    "    \n",
    "    # Remove duplicates and sort\n",
    "    df = pd.DataFrame(results)\n",
    "    df = df.drop_duplicates('formula').reset_index(drop=True)\n",
    "    df = df.sort_values(['valid', 'num_atoms'], ascending=[False, True])\n",
    "    \n",
    "    return df\n",
    "\n",
    "# Example: Survey Cu-Ti-O system\n",
    "print(\"Performing comprehensive stoichiometric survey of Cu-Ti-O system...\")\n",
    "cto_survey = comprehensive_stoichiometric_survey([\"Cu\", \"Ti\", \"O\"], max_stoich=3)\n",
    "\n",
    "print(f\"\\nSurvey results summary:\")\n",
    "print(f\"Total unique compositions: {len(cto_survey)}\")\n",
    "print(f\"Valid compositions: {cto_survey['valid'].sum()}\")\n",
    "print(f\"Success rate: {cto_survey['valid'].mean()*100:.1f}%\")\n",
    "\n",
    "# Show valid compositions\n",
    "valid_cto = cto_survey[cto_survey['valid']]\n",
    "print(f\"\\nValid Cu-Ti-O stoichiometries (ordered by complexity):\")\n",
    "for i, (_, row) in enumerate(valid_cto.head(8).iterrows(), 1):\n",
    "    print(f\"  {i:2d}. {row['formula']} ({row['num_atoms']} atoms)\")\n",
    "\n",
    "if len(valid_cto) > 8:\n",
    "    print(f\"     ... and {len(valid_cto)-8} more valid compositions\")"
   ]
  },
  {
   "cell_type": "markdown",
   "metadata": {},
   "source": [
    "## Step 6: Interactive Ternary Visualisation\n"
   ]
  },
  {
   "cell_type": "code",
   "execution_count": 24,
   "metadata": {},
   "outputs": [
    {
     "data": {
      "application/vnd.plotly.v1+json": {
       "config": {
        "plotlyServerURL": "https://plot.ly"
       },
       "data": [
        {
         "a": [
          0.25,
          0.2,
          0.4,
          0.16666666666666666,
          0.3333333333333333,
          0.2857142857142857,
          0.42857142857142855
         ],
         "b": [
          0.25,
          0.2,
          0.2,
          0.3333333333333333,
          0.16666666666666666,
          0.2857142857142857,
          0.14285714285714285
         ],
         "c": [
          0.5,
          0.6,
          0.4,
          0.5,
          0.5,
          0.42857142857142855,
          0.42857142857142855
         ],
         "hovertemplate": "<b>%{text}</b><br>Cu: %{a:.3f}<br>Ti: %{b:.3f}<br>O: %{c:.3f}<extra></extra>",
         "marker": {
          "color": "green",
          "line": {
           "color": "darkgreen",
           "width": 1.5
          },
          "opacity": 0.9,
          "size": 10,
          "symbol": "circle"
         },
         "mode": "markers",
         "name": "Valid Stoichiometries",
         "text": [
          "TiCuO2",
          "TiCuO3",
          "Ti(CuO)2",
          "Ti2CuO3",
          "TiCu2O3",
          "Ti2Cu2O3",
          "Ti(CuO)3"
         ],
         "type": "scatterternary"
        },
        {
         "a": [
          0.3333333333333333,
          0.25,
          0.5,
          0.2,
          0.2,
          0.4,
          0.6,
          0.16666666666666666,
          0.3333333333333333,
          0.5,
          0.5,
          0.14285714285714285,
          0.2857142857142857,
          0.42857142857142855,
          0.42857142857142855,
          0.25,
          0.375,
          0.375
         ],
         "b": [
          0.3333333333333333,
          0.5,
          0.25,
          0.4,
          0.6,
          0.4,
          0.2,
          0.5,
          0.5,
          0.16666666666666666,
          0.3333333333333333,
          0.42857142857142855,
          0.42857142857142855,
          0.2857142857142857,
          0.42857142857142855,
          0.375,
          0.25,
          0.375
         ],
         "c": [
          0.3333333333333333,
          0.25,
          0.25,
          0.4,
          0.2,
          0.2,
          0.2,
          0.3333333333333333,
          0.16666666666666666,
          0.3333333333333333,
          0.16666666666666666,
          0.42857142857142855,
          0.2857142857142857,
          0.2857142857142857,
          0.14285714285714285,
          0.375,
          0.375,
          0.25
         ],
         "hovertemplate": "<b>%{text}</b><br>Cu: %{a:.3f}<br>Ti: %{b:.3f}<br>O: %{c:.3f}<extra></extra>",
         "marker": {
          "color": "red",
          "line": {
           "color": "darkred",
           "width": 1
          },
          "opacity": 0.7,
          "size": 8,
          "symbol": "x"
         },
         "mode": "markers",
         "name": "Invalid Stoichiometries",
         "text": [
          "TiCuO",
          "Ti2CuO",
          "TiCu2O",
          "Ti2CuO2",
          "Ti3CuO",
          "Ti2Cu2O",
          "TiCu3O",
          "Ti3CuO2",
          "Ti3Cu2O",
          "TiCu3O2",
          "Ti2Cu3O",
          "Ti3CuO3",
          "Ti3(CuO)2",
          "Ti2Cu3O2",
          "Ti3Cu3O",
          "Ti3Cu2O3",
          "Ti2(CuO)3",
          "Ti3Cu3O2"
         ],
         "type": "scatterternary"
        }
       ],
       "layout": {
        "font": {
         "family": "Arial",
         "size": 12
        },
        "height": 600,
        "legend": {
         "bgcolor": "rgba(255,255,255,0.9)",
         "bordercolor": "gray",
         "borderwidth": 1,
         "x": 0.02,
         "y": 0.98
        },
        "paper_bgcolor": "white",
        "showlegend": true,
        "template": {
         "data": {
          "bar": [
           {
            "error_x": {
             "color": "#2a3f5f"
            },
            "error_y": {
             "color": "#2a3f5f"
            },
            "marker": {
             "line": {
              "color": "#E5ECF6",
              "width": 0.5
             },
             "pattern": {
              "fillmode": "overlay",
              "size": 10,
              "solidity": 0.2
             }
            },
            "type": "bar"
           }
          ],
          "barpolar": [
           {
            "marker": {
             "line": {
              "color": "#E5ECF6",
              "width": 0.5
             },
             "pattern": {
              "fillmode": "overlay",
              "size": 10,
              "solidity": 0.2
             }
            },
            "type": "barpolar"
           }
          ],
          "carpet": [
           {
            "aaxis": {
             "endlinecolor": "#2a3f5f",
             "gridcolor": "white",
             "linecolor": "white",
             "minorgridcolor": "white",
             "startlinecolor": "#2a3f5f"
            },
            "baxis": {
             "endlinecolor": "#2a3f5f",
             "gridcolor": "white",
             "linecolor": "white",
             "minorgridcolor": "white",
             "startlinecolor": "#2a3f5f"
            },
            "type": "carpet"
           }
          ],
          "choropleth": [
           {
            "colorbar": {
             "outlinewidth": 0,
             "ticks": ""
            },
            "type": "choropleth"
           }
          ],
          "contour": [
           {
            "colorbar": {
             "outlinewidth": 0,
             "ticks": ""
            },
            "colorscale": [
             [
              0,
              "#0d0887"
             ],
             [
              0.1111111111111111,
              "#46039f"
             ],
             [
              0.2222222222222222,
              "#7201a8"
             ],
             [
              0.3333333333333333,
              "#9c179e"
             ],
             [
              0.4444444444444444,
              "#bd3786"
             ],
             [
              0.5555555555555556,
              "#d8576b"
             ],
             [
              0.6666666666666666,
              "#ed7953"
             ],
             [
              0.7777777777777778,
              "#fb9f3a"
             ],
             [
              0.8888888888888888,
              "#fdca26"
             ],
             [
              1,
              "#f0f921"
             ]
            ],
            "type": "contour"
           }
          ],
          "contourcarpet": [
           {
            "colorbar": {
             "outlinewidth": 0,
             "ticks": ""
            },
            "type": "contourcarpet"
           }
          ],
          "heatmap": [
           {
            "colorbar": {
             "outlinewidth": 0,
             "ticks": ""
            },
            "colorscale": [
             [
              0,
              "#0d0887"
             ],
             [
              0.1111111111111111,
              "#46039f"
             ],
             [
              0.2222222222222222,
              "#7201a8"
             ],
             [
              0.3333333333333333,
              "#9c179e"
             ],
             [
              0.4444444444444444,
              "#bd3786"
             ],
             [
              0.5555555555555556,
              "#d8576b"
             ],
             [
              0.6666666666666666,
              "#ed7953"
             ],
             [
              0.7777777777777778,
              "#fb9f3a"
             ],
             [
              0.8888888888888888,
              "#fdca26"
             ],
             [
              1,
              "#f0f921"
             ]
            ],
            "type": "heatmap"
           }
          ],
          "heatmapgl": [
           {
            "colorbar": {
             "outlinewidth": 0,
             "ticks": ""
            },
            "colorscale": [
             [
              0,
              "#0d0887"
             ],
             [
              0.1111111111111111,
              "#46039f"
             ],
             [
              0.2222222222222222,
              "#7201a8"
             ],
             [
              0.3333333333333333,
              "#9c179e"
             ],
             [
              0.4444444444444444,
              "#bd3786"
             ],
             [
              0.5555555555555556,
              "#d8576b"
             ],
             [
              0.6666666666666666,
              "#ed7953"
             ],
             [
              0.7777777777777778,
              "#fb9f3a"
             ],
             [
              0.8888888888888888,
              "#fdca26"
             ],
             [
              1,
              "#f0f921"
             ]
            ],
            "type": "heatmapgl"
           }
          ],
          "histogram": [
           {
            "marker": {
             "pattern": {
              "fillmode": "overlay",
              "size": 10,
              "solidity": 0.2
             }
            },
            "type": "histogram"
           }
          ],
          "histogram2d": [
           {
            "colorbar": {
             "outlinewidth": 0,
             "ticks": ""
            },
            "colorscale": [
             [
              0,
              "#0d0887"
             ],
             [
              0.1111111111111111,
              "#46039f"
             ],
             [
              0.2222222222222222,
              "#7201a8"
             ],
             [
              0.3333333333333333,
              "#9c179e"
             ],
             [
              0.4444444444444444,
              "#bd3786"
             ],
             [
              0.5555555555555556,
              "#d8576b"
             ],
             [
              0.6666666666666666,
              "#ed7953"
             ],
             [
              0.7777777777777778,
              "#fb9f3a"
             ],
             [
              0.8888888888888888,
              "#fdca26"
             ],
             [
              1,
              "#f0f921"
             ]
            ],
            "type": "histogram2d"
           }
          ],
          "histogram2dcontour": [
           {
            "colorbar": {
             "outlinewidth": 0,
             "ticks": ""
            },
            "colorscale": [
             [
              0,
              "#0d0887"
             ],
             [
              0.1111111111111111,
              "#46039f"
             ],
             [
              0.2222222222222222,
              "#7201a8"
             ],
             [
              0.3333333333333333,
              "#9c179e"
             ],
             [
              0.4444444444444444,
              "#bd3786"
             ],
             [
              0.5555555555555556,
              "#d8576b"
             ],
             [
              0.6666666666666666,
              "#ed7953"
             ],
             [
              0.7777777777777778,
              "#fb9f3a"
             ],
             [
              0.8888888888888888,
              "#fdca26"
             ],
             [
              1,
              "#f0f921"
             ]
            ],
            "type": "histogram2dcontour"
           }
          ],
          "mesh3d": [
           {
            "colorbar": {
             "outlinewidth": 0,
             "ticks": ""
            },
            "type": "mesh3d"
           }
          ],
          "parcoords": [
           {
            "line": {
             "colorbar": {
              "outlinewidth": 0,
              "ticks": ""
             }
            },
            "type": "parcoords"
           }
          ],
          "pie": [
           {
            "automargin": true,
            "type": "pie"
           }
          ],
          "scatter": [
           {
            "fillpattern": {
             "fillmode": "overlay",
             "size": 10,
             "solidity": 0.2
            },
            "type": "scatter"
           }
          ],
          "scatter3d": [
           {
            "line": {
             "colorbar": {
              "outlinewidth": 0,
              "ticks": ""
             }
            },
            "marker": {
             "colorbar": {
              "outlinewidth": 0,
              "ticks": ""
             }
            },
            "type": "scatter3d"
           }
          ],
          "scattercarpet": [
           {
            "marker": {
             "colorbar": {
              "outlinewidth": 0,
              "ticks": ""
             }
            },
            "type": "scattercarpet"
           }
          ],
          "scattergeo": [
           {
            "marker": {
             "colorbar": {
              "outlinewidth": 0,
              "ticks": ""
             }
            },
            "type": "scattergeo"
           }
          ],
          "scattergl": [
           {
            "marker": {
             "colorbar": {
              "outlinewidth": 0,
              "ticks": ""
             }
            },
            "type": "scattergl"
           }
          ],
          "scattermapbox": [
           {
            "marker": {
             "colorbar": {
              "outlinewidth": 0,
              "ticks": ""
             }
            },
            "type": "scattermapbox"
           }
          ],
          "scatterpolar": [
           {
            "marker": {
             "colorbar": {
              "outlinewidth": 0,
              "ticks": ""
             }
            },
            "type": "scatterpolar"
           }
          ],
          "scatterpolargl": [
           {
            "marker": {
             "colorbar": {
              "outlinewidth": 0,
              "ticks": ""
             }
            },
            "type": "scatterpolargl"
           }
          ],
          "scatterternary": [
           {
            "marker": {
             "colorbar": {
              "outlinewidth": 0,
              "ticks": ""
             }
            },
            "type": "scatterternary"
           }
          ],
          "surface": [
           {
            "colorbar": {
             "outlinewidth": 0,
             "ticks": ""
            },
            "colorscale": [
             [
              0,
              "#0d0887"
             ],
             [
              0.1111111111111111,
              "#46039f"
             ],
             [
              0.2222222222222222,
              "#7201a8"
             ],
             [
              0.3333333333333333,
              "#9c179e"
             ],
             [
              0.4444444444444444,
              "#bd3786"
             ],
             [
              0.5555555555555556,
              "#d8576b"
             ],
             [
              0.6666666666666666,
              "#ed7953"
             ],
             [
              0.7777777777777778,
              "#fb9f3a"
             ],
             [
              0.8888888888888888,
              "#fdca26"
             ],
             [
              1,
              "#f0f921"
             ]
            ],
            "type": "surface"
           }
          ],
          "table": [
           {
            "cells": {
             "fill": {
              "color": "#EBF0F8"
             },
             "line": {
              "color": "white"
             }
            },
            "header": {
             "fill": {
              "color": "#C8D4E3"
             },
             "line": {
              "color": "white"
             }
            },
            "type": "table"
           }
          ]
         },
         "layout": {
          "annotationdefaults": {
           "arrowcolor": "#2a3f5f",
           "arrowhead": 0,
           "arrowwidth": 1
          },
          "autotypenumbers": "strict",
          "coloraxis": {
           "colorbar": {
            "outlinewidth": 0,
            "ticks": ""
           }
          },
          "colorscale": {
           "diverging": [
            [
             0,
             "#8e0152"
            ],
            [
             0.1,
             "#c51b7d"
            ],
            [
             0.2,
             "#de77ae"
            ],
            [
             0.3,
             "#f1b6da"
            ],
            [
             0.4,
             "#fde0ef"
            ],
            [
             0.5,
             "#f7f7f7"
            ],
            [
             0.6,
             "#e6f5d0"
            ],
            [
             0.7,
             "#b8e186"
            ],
            [
             0.8,
             "#7fbc41"
            ],
            [
             0.9,
             "#4d9221"
            ],
            [
             1,
             "#276419"
            ]
           ],
           "sequential": [
            [
             0,
             "#0d0887"
            ],
            [
             0.1111111111111111,
             "#46039f"
            ],
            [
             0.2222222222222222,
             "#7201a8"
            ],
            [
             0.3333333333333333,
             "#9c179e"
            ],
            [
             0.4444444444444444,
             "#bd3786"
            ],
            [
             0.5555555555555556,
             "#d8576b"
            ],
            [
             0.6666666666666666,
             "#ed7953"
            ],
            [
             0.7777777777777778,
             "#fb9f3a"
            ],
            [
             0.8888888888888888,
             "#fdca26"
            ],
            [
             1,
             "#f0f921"
            ]
           ],
           "sequentialminus": [
            [
             0,
             "#0d0887"
            ],
            [
             0.1111111111111111,
             "#46039f"
            ],
            [
             0.2222222222222222,
             "#7201a8"
            ],
            [
             0.3333333333333333,
             "#9c179e"
            ],
            [
             0.4444444444444444,
             "#bd3786"
            ],
            [
             0.5555555555555556,
             "#d8576b"
            ],
            [
             0.6666666666666666,
             "#ed7953"
            ],
            [
             0.7777777777777778,
             "#fb9f3a"
            ],
            [
             0.8888888888888888,
             "#fdca26"
            ],
            [
             1,
             "#f0f921"
            ]
           ]
          },
          "colorway": [
           "#636efa",
           "#EF553B",
           "#00cc96",
           "#ab63fa",
           "#FFA15A",
           "#19d3f3",
           "#FF6692",
           "#B6E880",
           "#FF97FF",
           "#FECB52"
          ],
          "font": {
           "color": "#2a3f5f"
          },
          "geo": {
           "bgcolor": "white",
           "lakecolor": "white",
           "landcolor": "#E5ECF6",
           "showlakes": true,
           "showland": true,
           "subunitcolor": "white"
          },
          "hoverlabel": {
           "align": "left"
          },
          "hovermode": "closest",
          "mapbox": {
           "style": "light"
          },
          "paper_bgcolor": "white",
          "plot_bgcolor": "#E5ECF6",
          "polar": {
           "angularaxis": {
            "gridcolor": "white",
            "linecolor": "white",
            "ticks": ""
           },
           "bgcolor": "#E5ECF6",
           "radialaxis": {
            "gridcolor": "white",
            "linecolor": "white",
            "ticks": ""
           }
          },
          "scene": {
           "xaxis": {
            "backgroundcolor": "#E5ECF6",
            "gridcolor": "white",
            "gridwidth": 2,
            "linecolor": "white",
            "showbackground": true,
            "ticks": "",
            "zerolinecolor": "white"
           },
           "yaxis": {
            "backgroundcolor": "#E5ECF6",
            "gridcolor": "white",
            "gridwidth": 2,
            "linecolor": "white",
            "showbackground": true,
            "ticks": "",
            "zerolinecolor": "white"
           },
           "zaxis": {
            "backgroundcolor": "#E5ECF6",
            "gridcolor": "white",
            "gridwidth": 2,
            "linecolor": "white",
            "showbackground": true,
            "ticks": "",
            "zerolinecolor": "white"
           }
          },
          "shapedefaults": {
           "line": {
            "color": "#2a3f5f"
           }
          },
          "ternary": {
           "aaxis": {
            "gridcolor": "white",
            "linecolor": "white",
            "ticks": ""
           },
           "baxis": {
            "gridcolor": "white",
            "linecolor": "white",
            "ticks": ""
           },
           "bgcolor": "#E5ECF6",
           "caxis": {
            "gridcolor": "white",
            "linecolor": "white",
            "ticks": ""
           }
          },
          "title": {
           "x": 0.05
          },
          "xaxis": {
           "automargin": true,
           "gridcolor": "white",
           "linecolor": "white",
           "ticks": "",
           "title": {
            "standoff": 15
           },
           "zerolinecolor": "white",
           "zerolinewidth": 2
          },
          "yaxis": {
           "automargin": true,
           "gridcolor": "white",
           "linecolor": "white",
           "ticks": "",
           "title": {
            "standoff": 15
           },
           "zerolinecolor": "white",
           "zerolinewidth": 2
          }
         }
        },
        "ternary": {
         "aaxis": {
          "gridcolor": "rgba(128, 128, 128, 0.4)",
          "linecolor": "black",
          "linewidth": 2,
          "showticklabels": true,
          "tickfont": {
           "size": 12
          },
          "tickvals": [
           0.1,
           0.2,
           0.3,
           0.4,
           0.5,
           0.6,
           0.7,
           0.8,
           0.9
          ],
          "title": {
           "text": "Cu"
          }
         },
         "baxis": {
          "gridcolor": "rgba(128, 128, 128, 0.4)",
          "linecolor": "black",
          "linewidth": 2,
          "showticklabels": true,
          "tickfont": {
           "size": 12
          },
          "tickvals": [
           0.1,
           0.2,
           0.3,
           0.4,
           0.5,
           0.6,
           0.7,
           0.8,
           0.9
          ],
          "title": {
           "text": "Ti"
          }
         },
         "bgcolor": "rgba(250, 250, 250, 0.8)",
         "caxis": {
          "gridcolor": "rgba(128, 128, 128, 0.4)",
          "linecolor": "black",
          "linewidth": 2,
          "showticklabels": true,
          "tickfont": {
           "size": 12
          },
          "tickvals": [
           0.1,
           0.2,
           0.3,
           0.4,
           0.5,
           0.6,
           0.7,
           0.8,
           0.9
          ],
          "title": {
           "text": "O"
          }
         }
        },
        "title": {
         "font": {
          "color": "black",
          "size": 18
         },
         "text": "Stoichiometric Validity in Cu-Ti-O System",
         "x": 0.5
        },
        "width": 1000
       }
      },
      "text/html": [
       "<div>                            <div id=\"112064c3-7e21-4fa9-bfd2-b0f76b9e76c6\" class=\"plotly-graph-div\" style=\"height:600px; width:1000px;\"></div>            <script type=\"text/javascript\">                require([\"plotly\"], function(Plotly) {                    window.PLOTLYENV=window.PLOTLYENV || {};                                    if (document.getElementById(\"112064c3-7e21-4fa9-bfd2-b0f76b9e76c6\")) {                    Plotly.newPlot(                        \"112064c3-7e21-4fa9-bfd2-b0f76b9e76c6\",                        [{\"a\":[0.25,0.2,0.4,0.16666666666666666,0.3333333333333333,0.2857142857142857,0.42857142857142855],\"b\":[0.25,0.2,0.2,0.3333333333333333,0.16666666666666666,0.2857142857142857,0.14285714285714285],\"c\":[0.5,0.6,0.4,0.5,0.5,0.42857142857142855,0.42857142857142855],\"hovertemplate\":\"\\u003cb\\u003e%{text}\\u003c\\u002fb\\u003e\\u003cbr\\u003eCu: %{a:.3f}\\u003cbr\\u003eTi: %{b:.3f}\\u003cbr\\u003eO: %{c:.3f}\\u003cextra\\u003e\\u003c\\u002fextra\\u003e\",\"marker\":{\"color\":\"green\",\"line\":{\"color\":\"darkgreen\",\"width\":1.5},\"opacity\":0.9,\"size\":10,\"symbol\":\"circle\"},\"mode\":\"markers\",\"name\":\"Valid Stoichiometries\",\"text\":[\"TiCuO2\",\"TiCuO3\",\"Ti(CuO)2\",\"Ti2CuO3\",\"TiCu2O3\",\"Ti2Cu2O3\",\"Ti(CuO)3\"],\"type\":\"scatterternary\"},{\"a\":[0.3333333333333333,0.25,0.5,0.2,0.2,0.4,0.6,0.16666666666666666,0.3333333333333333,0.5,0.5,0.14285714285714285,0.2857142857142857,0.42857142857142855,0.42857142857142855,0.25,0.375,0.375],\"b\":[0.3333333333333333,0.5,0.25,0.4,0.6,0.4,0.2,0.5,0.5,0.16666666666666666,0.3333333333333333,0.42857142857142855,0.42857142857142855,0.2857142857142857,0.42857142857142855,0.375,0.25,0.375],\"c\":[0.3333333333333333,0.25,0.25,0.4,0.2,0.2,0.2,0.3333333333333333,0.16666666666666666,0.3333333333333333,0.16666666666666666,0.42857142857142855,0.2857142857142857,0.2857142857142857,0.14285714285714285,0.375,0.375,0.25],\"hovertemplate\":\"\\u003cb\\u003e%{text}\\u003c\\u002fb\\u003e\\u003cbr\\u003eCu: %{a:.3f}\\u003cbr\\u003eTi: %{b:.3f}\\u003cbr\\u003eO: %{c:.3f}\\u003cextra\\u003e\\u003c\\u002fextra\\u003e\",\"marker\":{\"color\":\"red\",\"line\":{\"color\":\"darkred\",\"width\":1},\"opacity\":0.7,\"size\":8,\"symbol\":\"x\"},\"mode\":\"markers\",\"name\":\"Invalid Stoichiometries\",\"text\":[\"TiCuO\",\"Ti2CuO\",\"TiCu2O\",\"Ti2CuO2\",\"Ti3CuO\",\"Ti2Cu2O\",\"TiCu3O\",\"Ti3CuO2\",\"Ti3Cu2O\",\"TiCu3O2\",\"Ti2Cu3O\",\"Ti3CuO3\",\"Ti3(CuO)2\",\"Ti2Cu3O2\",\"Ti3Cu3O\",\"Ti3Cu2O3\",\"Ti2(CuO)3\",\"Ti3Cu3O2\"],\"type\":\"scatterternary\"}],                        {\"template\":{\"data\":{\"histogram2dcontour\":[{\"type\":\"histogram2dcontour\",\"colorbar\":{\"outlinewidth\":0,\"ticks\":\"\"},\"colorscale\":[[0.0,\"#0d0887\"],[0.1111111111111111,\"#46039f\"],[0.2222222222222222,\"#7201a8\"],[0.3333333333333333,\"#9c179e\"],[0.4444444444444444,\"#bd3786\"],[0.5555555555555556,\"#d8576b\"],[0.6666666666666666,\"#ed7953\"],[0.7777777777777778,\"#fb9f3a\"],[0.8888888888888888,\"#fdca26\"],[1.0,\"#f0f921\"]]}],\"choropleth\":[{\"type\":\"choropleth\",\"colorbar\":{\"outlinewidth\":0,\"ticks\":\"\"}}],\"histogram2d\":[{\"type\":\"histogram2d\",\"colorbar\":{\"outlinewidth\":0,\"ticks\":\"\"},\"colorscale\":[[0.0,\"#0d0887\"],[0.1111111111111111,\"#46039f\"],[0.2222222222222222,\"#7201a8\"],[0.3333333333333333,\"#9c179e\"],[0.4444444444444444,\"#bd3786\"],[0.5555555555555556,\"#d8576b\"],[0.6666666666666666,\"#ed7953\"],[0.7777777777777778,\"#fb9f3a\"],[0.8888888888888888,\"#fdca26\"],[1.0,\"#f0f921\"]]}],\"heatmap\":[{\"type\":\"heatmap\",\"colorbar\":{\"outlinewidth\":0,\"ticks\":\"\"},\"colorscale\":[[0.0,\"#0d0887\"],[0.1111111111111111,\"#46039f\"],[0.2222222222222222,\"#7201a8\"],[0.3333333333333333,\"#9c179e\"],[0.4444444444444444,\"#bd3786\"],[0.5555555555555556,\"#d8576b\"],[0.6666666666666666,\"#ed7953\"],[0.7777777777777778,\"#fb9f3a\"],[0.8888888888888888,\"#fdca26\"],[1.0,\"#f0f921\"]]}],\"heatmapgl\":[{\"type\":\"heatmapgl\",\"colorbar\":{\"outlinewidth\":0,\"ticks\":\"\"},\"colorscale\":[[0.0,\"#0d0887\"],[0.1111111111111111,\"#46039f\"],[0.2222222222222222,\"#7201a8\"],[0.3333333333333333,\"#9c179e\"],[0.4444444444444444,\"#bd3786\"],[0.5555555555555556,\"#d8576b\"],[0.6666666666666666,\"#ed7953\"],[0.7777777777777778,\"#fb9f3a\"],[0.8888888888888888,\"#fdca26\"],[1.0,\"#f0f921\"]]}],\"contourcarpet\":[{\"type\":\"contourcarpet\",\"colorbar\":{\"outlinewidth\":0,\"ticks\":\"\"}}],\"contour\":[{\"type\":\"contour\",\"colorbar\":{\"outlinewidth\":0,\"ticks\":\"\"},\"colorscale\":[[0.0,\"#0d0887\"],[0.1111111111111111,\"#46039f\"],[0.2222222222222222,\"#7201a8\"],[0.3333333333333333,\"#9c179e\"],[0.4444444444444444,\"#bd3786\"],[0.5555555555555556,\"#d8576b\"],[0.6666666666666666,\"#ed7953\"],[0.7777777777777778,\"#fb9f3a\"],[0.8888888888888888,\"#fdca26\"],[1.0,\"#f0f921\"]]}],\"surface\":[{\"type\":\"surface\",\"colorbar\":{\"outlinewidth\":0,\"ticks\":\"\"},\"colorscale\":[[0.0,\"#0d0887\"],[0.1111111111111111,\"#46039f\"],[0.2222222222222222,\"#7201a8\"],[0.3333333333333333,\"#9c179e\"],[0.4444444444444444,\"#bd3786\"],[0.5555555555555556,\"#d8576b\"],[0.6666666666666666,\"#ed7953\"],[0.7777777777777778,\"#fb9f3a\"],[0.8888888888888888,\"#fdca26\"],[1.0,\"#f0f921\"]]}],\"mesh3d\":[{\"type\":\"mesh3d\",\"colorbar\":{\"outlinewidth\":0,\"ticks\":\"\"}}],\"scatter\":[{\"fillpattern\":{\"fillmode\":\"overlay\",\"size\":10,\"solidity\":0.2},\"type\":\"scatter\"}],\"parcoords\":[{\"type\":\"parcoords\",\"line\":{\"colorbar\":{\"outlinewidth\":0,\"ticks\":\"\"}}}],\"scatterpolargl\":[{\"type\":\"scatterpolargl\",\"marker\":{\"colorbar\":{\"outlinewidth\":0,\"ticks\":\"\"}}}],\"bar\":[{\"error_x\":{\"color\":\"#2a3f5f\"},\"error_y\":{\"color\":\"#2a3f5f\"},\"marker\":{\"line\":{\"color\":\"#E5ECF6\",\"width\":0.5},\"pattern\":{\"fillmode\":\"overlay\",\"size\":10,\"solidity\":0.2}},\"type\":\"bar\"}],\"scattergeo\":[{\"type\":\"scattergeo\",\"marker\":{\"colorbar\":{\"outlinewidth\":0,\"ticks\":\"\"}}}],\"scatterpolar\":[{\"type\":\"scatterpolar\",\"marker\":{\"colorbar\":{\"outlinewidth\":0,\"ticks\":\"\"}}}],\"histogram\":[{\"marker\":{\"pattern\":{\"fillmode\":\"overlay\",\"size\":10,\"solidity\":0.2}},\"type\":\"histogram\"}],\"scattergl\":[{\"type\":\"scattergl\",\"marker\":{\"colorbar\":{\"outlinewidth\":0,\"ticks\":\"\"}}}],\"scatter3d\":[{\"type\":\"scatter3d\",\"line\":{\"colorbar\":{\"outlinewidth\":0,\"ticks\":\"\"}},\"marker\":{\"colorbar\":{\"outlinewidth\":0,\"ticks\":\"\"}}}],\"scattermapbox\":[{\"type\":\"scattermapbox\",\"marker\":{\"colorbar\":{\"outlinewidth\":0,\"ticks\":\"\"}}}],\"scatterternary\":[{\"type\":\"scatterternary\",\"marker\":{\"colorbar\":{\"outlinewidth\":0,\"ticks\":\"\"}}}],\"scattercarpet\":[{\"type\":\"scattercarpet\",\"marker\":{\"colorbar\":{\"outlinewidth\":0,\"ticks\":\"\"}}}],\"carpet\":[{\"aaxis\":{\"endlinecolor\":\"#2a3f5f\",\"gridcolor\":\"white\",\"linecolor\":\"white\",\"minorgridcolor\":\"white\",\"startlinecolor\":\"#2a3f5f\"},\"baxis\":{\"endlinecolor\":\"#2a3f5f\",\"gridcolor\":\"white\",\"linecolor\":\"white\",\"minorgridcolor\":\"white\",\"startlinecolor\":\"#2a3f5f\"},\"type\":\"carpet\"}],\"table\":[{\"cells\":{\"fill\":{\"color\":\"#EBF0F8\"},\"line\":{\"color\":\"white\"}},\"header\":{\"fill\":{\"color\":\"#C8D4E3\"},\"line\":{\"color\":\"white\"}},\"type\":\"table\"}],\"barpolar\":[{\"marker\":{\"line\":{\"color\":\"#E5ECF6\",\"width\":0.5},\"pattern\":{\"fillmode\":\"overlay\",\"size\":10,\"solidity\":0.2}},\"type\":\"barpolar\"}],\"pie\":[{\"automargin\":true,\"type\":\"pie\"}]},\"layout\":{\"autotypenumbers\":\"strict\",\"colorway\":[\"#636efa\",\"#EF553B\",\"#00cc96\",\"#ab63fa\",\"#FFA15A\",\"#19d3f3\",\"#FF6692\",\"#B6E880\",\"#FF97FF\",\"#FECB52\"],\"font\":{\"color\":\"#2a3f5f\"},\"hovermode\":\"closest\",\"hoverlabel\":{\"align\":\"left\"},\"paper_bgcolor\":\"white\",\"plot_bgcolor\":\"#E5ECF6\",\"polar\":{\"bgcolor\":\"#E5ECF6\",\"angularaxis\":{\"gridcolor\":\"white\",\"linecolor\":\"white\",\"ticks\":\"\"},\"radialaxis\":{\"gridcolor\":\"white\",\"linecolor\":\"white\",\"ticks\":\"\"}},\"ternary\":{\"bgcolor\":\"#E5ECF6\",\"aaxis\":{\"gridcolor\":\"white\",\"linecolor\":\"white\",\"ticks\":\"\"},\"baxis\":{\"gridcolor\":\"white\",\"linecolor\":\"white\",\"ticks\":\"\"},\"caxis\":{\"gridcolor\":\"white\",\"linecolor\":\"white\",\"ticks\":\"\"}},\"coloraxis\":{\"colorbar\":{\"outlinewidth\":0,\"ticks\":\"\"}},\"colorscale\":{\"sequential\":[[0.0,\"#0d0887\"],[0.1111111111111111,\"#46039f\"],[0.2222222222222222,\"#7201a8\"],[0.3333333333333333,\"#9c179e\"],[0.4444444444444444,\"#bd3786\"],[0.5555555555555556,\"#d8576b\"],[0.6666666666666666,\"#ed7953\"],[0.7777777777777778,\"#fb9f3a\"],[0.8888888888888888,\"#fdca26\"],[1.0,\"#f0f921\"]],\"sequentialminus\":[[0.0,\"#0d0887\"],[0.1111111111111111,\"#46039f\"],[0.2222222222222222,\"#7201a8\"],[0.3333333333333333,\"#9c179e\"],[0.4444444444444444,\"#bd3786\"],[0.5555555555555556,\"#d8576b\"],[0.6666666666666666,\"#ed7953\"],[0.7777777777777778,\"#fb9f3a\"],[0.8888888888888888,\"#fdca26\"],[1.0,\"#f0f921\"]],\"diverging\":[[0,\"#8e0152\"],[0.1,\"#c51b7d\"],[0.2,\"#de77ae\"],[0.3,\"#f1b6da\"],[0.4,\"#fde0ef\"],[0.5,\"#f7f7f7\"],[0.6,\"#e6f5d0\"],[0.7,\"#b8e186\"],[0.8,\"#7fbc41\"],[0.9,\"#4d9221\"],[1,\"#276419\"]]},\"xaxis\":{\"gridcolor\":\"white\",\"linecolor\":\"white\",\"ticks\":\"\",\"title\":{\"standoff\":15},\"zerolinecolor\":\"white\",\"automargin\":true,\"zerolinewidth\":2},\"yaxis\":{\"gridcolor\":\"white\",\"linecolor\":\"white\",\"ticks\":\"\",\"title\":{\"standoff\":15},\"zerolinecolor\":\"white\",\"automargin\":true,\"zerolinewidth\":2},\"scene\":{\"xaxis\":{\"backgroundcolor\":\"#E5ECF6\",\"gridcolor\":\"white\",\"linecolor\":\"white\",\"showbackground\":true,\"ticks\":\"\",\"zerolinecolor\":\"white\",\"gridwidth\":2},\"yaxis\":{\"backgroundcolor\":\"#E5ECF6\",\"gridcolor\":\"white\",\"linecolor\":\"white\",\"showbackground\":true,\"ticks\":\"\",\"zerolinecolor\":\"white\",\"gridwidth\":2},\"zaxis\":{\"backgroundcolor\":\"#E5ECF6\",\"gridcolor\":\"white\",\"linecolor\":\"white\",\"showbackground\":true,\"ticks\":\"\",\"zerolinecolor\":\"white\",\"gridwidth\":2}},\"shapedefaults\":{\"line\":{\"color\":\"#2a3f5f\"}},\"annotationdefaults\":{\"arrowcolor\":\"#2a3f5f\",\"arrowhead\":0,\"arrowwidth\":1},\"geo\":{\"bgcolor\":\"white\",\"landcolor\":\"#E5ECF6\",\"subunitcolor\":\"white\",\"showland\":true,\"showlakes\":true,\"lakecolor\":\"white\"},\"title\":{\"x\":0.05},\"mapbox\":{\"style\":\"light\"}}},\"title\":{\"font\":{\"size\":18,\"color\":\"black\"},\"text\":\"Stoichiometric Validity in Cu-Ti-O System\",\"x\":0.5},\"font\":{\"size\":12,\"family\":\"Arial\"},\"ternary\":{\"aaxis\":{\"tickfont\":{\"size\":12},\"title\":{\"text\":\"Cu\"},\"linewidth\":2,\"linecolor\":\"black\",\"gridcolor\":\"rgba(128, 128, 128, 0.4)\",\"showticklabels\":true,\"tickvals\":[0.1,0.2,0.3,0.4,0.5,0.6,0.7,0.8,0.9]},\"baxis\":{\"tickfont\":{\"size\":12},\"title\":{\"text\":\"Ti\"},\"linewidth\":2,\"linecolor\":\"black\",\"gridcolor\":\"rgba(128, 128, 128, 0.4)\",\"showticklabels\":true,\"tickvals\":[0.1,0.2,0.3,0.4,0.5,0.6,0.7,0.8,0.9]},\"caxis\":{\"tickfont\":{\"size\":12},\"title\":{\"text\":\"O\"},\"linewidth\":2,\"linecolor\":\"black\",\"gridcolor\":\"rgba(128, 128, 128, 0.4)\",\"showticklabels\":true,\"tickvals\":[0.1,0.2,0.3,0.4,0.5,0.6,0.7,0.8,0.9]},\"bgcolor\":\"rgba(250, 250, 250, 0.8)\"},\"legend\":{\"x\":0.02,\"y\":0.98,\"bgcolor\":\"rgba(255,255,255,0.9)\",\"bordercolor\":\"gray\",\"borderwidth\":1},\"width\":1000,\"height\":600,\"showlegend\":true,\"paper_bgcolor\":\"white\"},                        {\"responsive\": true}                    ).then(function(){\n",
       "                            \n",
       "var gd = document.getElementById('112064c3-7e21-4fa9-bfd2-b0f76b9e76c6');\n",
       "var x = new MutationObserver(function (mutations, observer) {{\n",
       "        var display = window.getComputedStyle(gd).display;\n",
       "        if (!display || display === 'none') {{\n",
       "            console.log([gd, 'removed!']);\n",
       "            Plotly.purge(gd);\n",
       "            observer.disconnect();\n",
       "        }}\n",
       "}});\n",
       "\n",
       "// Listen for the removal of the full notebook cells\n",
       "var notebookContainer = gd.closest('#notebook-container');\n",
       "if (notebookContainer) {{\n",
       "    x.observe(notebookContainer, {childList: true});\n",
       "}}\n",
       "\n",
       "// Listen for the clearing of the current output cell\n",
       "var outputEl = gd.closest('.output');\n",
       "if (outputEl) {{\n",
       "    x.observe(outputEl, {childList: true});\n",
       "}}\n",
       "\n",
       "                        })                };                });            </script>        </div>"
      ]
     },
     "metadata": {},
     "output_type": "display_data"
    },
    {
     "name": "stdout",
     "output_type": "stream",
     "text": [
      "\n",
      "Ternary plot interpretation:\n",
      "- Green circles: Chemically valid stoichiometries\n",
      "- Red X marks: Invalid stoichiometries (violate chemical rules)\n",
      "- Position shows relative atomic fractions in ternary space\n",
      "- Hover over points to see exact compositions and formulas\n"
     ]
    }
   ],
   "source": [
    "\n",
    "def create_ternary_stoichiometry_plot(df, elements):\n",
    "    \"\"\"\n",
    "    Create an interactive ternary plot showing stoichiometric validity.\n",
    "    \n",
    "    Args:\n",
    "        df (DataFrame): Survey results\n",
    "        elements (list): Three elements for ternary plot\n",
    "    \"\"\"\n",
    "    def composition_to_fractions(comp, element_list):\n",
    "        \"\"\"Convert composition to fractional coordinates for ternary plotting.\"\"\"\n",
    "        amounts = [comp[el] for el in element_list]\n",
    "        total = sum(amounts)\n",
    "        return [amt/total for amt in amounts] if total > 0 else [0, 0, 0]\n",
    "    \n",
    "    # Convert compositions to ternary coordinates\n",
    "    fractions = np.array([composition_to_fractions(row['composition'], elements) \n",
    "                         for _, row in df.iterrows()])\n",
    "    \n",
    "    # Create figure\n",
    "    fig = go.Figure()\n",
    "    \n",
    "    # Plot valid compositions\n",
    "    valid_mask = df['valid'].values\n",
    "    if valid_mask.any():\n",
    "        valid_fractions = fractions[valid_mask]\n",
    "        valid_formulas = df[valid_mask]['formula'].values\n",
    "        \n",
    "        fig.add_trace(go.Scatterternary(\n",
    "            a=valid_fractions[:, 0],\n",
    "            b=valid_fractions[:, 1], \n",
    "            c=valid_fractions[:, 2],\n",
    "            mode=\"markers\",\n",
    "            marker=dict(\n",
    "                size=10, \n",
    "                color=\"green\", \n",
    "                symbol=\"circle\",\n",
    "                opacity=0.9,\n",
    "                line=dict(width=1.5, color=\"darkgreen\")\n",
    "            ),\n",
    "            text=valid_formulas,\n",
    "            name=\"Valid Stoichiometries\",\n",
    "            hovertemplate=\"<b>%{text}</b><br>\" +\n",
    "                         f\"{elements[0]}: %{{a:.3f}}<br>\" +\n",
    "                         f\"{elements[1]}: %{{b:.3f}}<br>\" +\n",
    "                         f\"{elements[2]}: %{{c:.3f}}<extra></extra>\"\n",
    "        ))\n",
    "    \n",
    "    # Plot invalid compositions\n",
    "    invalid_mask = ~valid_mask\n",
    "    if invalid_mask.any():\n",
    "        invalid_fractions = fractions[invalid_mask]\n",
    "        invalid_formulas = df[invalid_mask]['formula'].values\n",
    "        \n",
    "        fig.add_trace(go.Scatterternary(\n",
    "            a=invalid_fractions[:, 0],\n",
    "            b=invalid_fractions[:, 1],\n",
    "            c=invalid_fractions[:, 2],\n",
    "            mode=\"markers\",\n",
    "            marker=dict(\n",
    "                size=8, \n",
    "                color=\"red\", \n",
    "                symbol=\"x\",\n",
    "                opacity=0.7,\n",
    "                line=dict(width=1, color=\"darkred\")\n",
    "            ),\n",
    "            text=invalid_formulas,\n",
    "            name=\"Invalid Stoichiometries\",\n",
    "            hovertemplate=\"<b>%{text}</b><br>\" +\n",
    "                         f\"{elements[0]}: %{{a:.3f}}<br>\" +\n",
    "                         f\"{elements[1]}: %{{b:.3f}}<br>\" +\n",
    "                         f\"{elements[2]}: %{{c:.3f}}<extra></extra>\"\n",
    "        ))\n",
    "    \n",
    "    # Enhanced styling\n",
    "    axis_style = dict(\n",
    "        title=dict(font=dict(size=16, color=\"black\")),\n",
    "        linewidth=2,\n",
    "        linecolor=\"black\",\n",
    "        gridcolor=\"rgba(128, 128, 128, 0.4)\",\n",
    "        showticklabels=True,\n",
    "        tickvals=[0.1, 0.2, 0.3, 0.4, 0.5, 0.6, 0.7, 0.8, 0.9],\n",
    "        tickfont=dict(size=12)\n",
    "    )\n",
    "    \n",
    "    # Update layout\n",
    "    fig.update_layout(\n",
    "        title=dict(\n",
    "            text=f\"Stoichiometric Validity in {'-'.join(elements)} System\",\n",
    "            font=dict(size=18, color=\"black\"),\n",
    "            x=0.5\n",
    "        ),\n",
    "        font=dict(size=12, family=\"Arial\"),\n",
    "        width=1000,\n",
    "        height=600,\n",
    "        ternary=dict(\n",
    "            bgcolor=\"rgba(250, 250, 250, 0.8)\",\n",
    "            aaxis=dict(axis_style, title=f\"{elements[0]}\"),\n",
    "            baxis=dict(axis_style, title=f\"{elements[1]}\"),\n",
    "            caxis=dict(axis_style, title=f\"{elements[2]}\")\n",
    "        ),\n",
    "        showlegend=True,\n",
    "        legend=dict(\n",
    "            x=0.02, y=0.98, \n",
    "            bgcolor=\"rgba(255,255,255,0.9)\",\n",
    "            bordercolor=\"gray\",\n",
    "            borderwidth=1\n",
    "        ),\n",
    "        paper_bgcolor=\"white\"\n",
    "    )\n",
    "    \n",
    "    fig.show()\n",
    "\n",
    "# Create ternary plot for Cu-Ti-O system\n",
    "create_ternary_stoichiometry_plot(cto_survey, [\"Cu\", \"Ti\", \"O\"])\n",
    "\n",
    "print(\"\\nTernary plot interpretation:\")\n",
    "print(\"- Green circles: Chemically valid stoichiometries\")\n",
    "print(\"- Red X marks: Invalid stoichiometries (violate chemical rules)\")\n",
    "print(\"- Position shows relative atomic fractions in ternary space\")\n",
    "print(\"- Hover over points to see exact compositions and formulas\")"
   ]
  },
  {
   "cell_type": "markdown",
   "metadata": {},
   "source": [
    "## Summary: Mastering Stoichiometric Screening"
   ]
  },
  {
   "cell_type": "code",
   "execution_count": 26,
   "metadata": {},
   "outputs": [
    {
     "name": "stdout",
     "output_type": "stream",
     "text": [
      "Congratulations! You have now completed the stoichiometry screening tutorial!\n",
      "=================================================================\n",
      "\n",
      "KEY CONCEPTS MASTERED:\n",
      "- Systematic generation of stoichiometric combinations\n",
      "- Chemical validation of atomic ratios\n",
      "- Binary, ternary, and multi-component screening\n",
      "- ICSD occurrence data for evidence-based screening\n",
      "- Interactive visualisation of stoichiometric spaces\n",
      "\n",
      "THE SCREENING WORKFLOW:\n",
      "1. Define element combinations of interest\n",
      "2. Generate systematic stoichiometric variations\n",
      "3. Apply SMACT chemical validity rules\n",
      "4. Analyse results using occurrence statistics\n",
      "5. Visualise valid stoichiometric spaces\n",
      "6. Prioritise compositions for synthesis/computation\n",
      "\n",
      "YOUR ANALYSIS RESULTS:\n",
      "- Screened 25 stoichiometric combinations\n",
      "- Found 7 chemically valid compositions\n",
      "- Achieved 28.0% success rate\n",
      "\n",
      "NEXT STEPS:\n",
      "- Apply stoichiometric screening to your research systems\n",
      "- Combine with computational property prediction\n",
      "- Use results to guide experimental synthesis plans\n",
      "- Integrate with high-throughput materials discovery workflows\n",
      "\n",
      "REMEMBER:\n",
      "Stoichiometric screening bridges the gap between compositional\n",
      "possibilities and practical synthesis targets. You now have the\n",
      "tools to systematically explore atomic ratio spaces with confidence!\n",
      "\n",
      "=================================================================\n",
      "END OF STOICHIOMETRY SCREENING TUTORIAL\n"
     ]
    }
   ],
   "source": [
    "\n",
    "print(\"Congratulations! You have now completed the stoichiometry screening tutorial!\")\n",
    "print(\"=\" * 65)\n",
    "\n",
    "print(\"\\nKEY CONCEPTS MASTERED:\")\n",
    "print(\"- Systematic generation of stoichiometric combinations\")\n",
    "print(\"- Chemical validation of atomic ratios\")\n",
    "print(\"- Binary, ternary, and multi-component screening\")\n",
    "print(\"- ICSD occurrence data for evidence-based screening\")\n",
    "print(\"- Interactive visualisation of stoichiometric spaces\")\n",
    "\n",
    "print(\"\\nTHE SCREENING WORKFLOW:\")\n",
    "print(\"1. Define element combinations of interest\")\n",
    "print(\"2. Generate systematic stoichiometric variations\")\n",
    "print(\"3. Apply SMACT chemical validity rules\")\n",
    "print(\"4. Analyse results using occurrence statistics\")\n",
    "print(\"5. Visualise valid stoichiometric spaces\")\n",
    "print(\"6. Prioritise compositions for synthesis/computation\")\n",
    "\n",
    "if 'cto_survey' in locals():\n",
    "    valid_count = cto_survey['valid'].sum()\n",
    "    total_count = len(cto_survey)\n",
    "    print(f\"\\nYOUR ANALYSIS RESULTS:\")\n",
    "    print(f\"- Screened {total_count} stoichiometric combinations\")\n",
    "    print(f\"- Found {valid_count} chemically valid compositions\")\n",
    "    print(f\"- Achieved {valid_count/total_count*100:.1f}% success rate\")\n",
    "\n",
    "print(\"\\nNEXT STEPS:\")\n",
    "print(\"- Apply stoichiometric screening to your research systems\")\n",
    "print(\"- Combine with computational property prediction\")\n",
    "print(\"- Use results to guide experimental synthesis plans\")\n",
    "print(\"- Integrate with high-throughput materials discovery workflows\")\n",
    "\n",
    "print(\"\\nREMEMBER:\")\n",
    "print(\"Stoichiometric screening bridges the gap between compositional\")\n",
    "print(\"possibilities and practical synthesis targets. You now have the\")\n",
    "print(\"tools to systematically explore atomic ratio spaces with confidence!\")\n",
    "\n",
    "print(\"\\n\" + \"=\" * 65)\n",
    "print(\"END OF STOICHIOMETRY SCREENING TUTORIAL\")"
   ]
  }
 ],
 "metadata": {
  "kernelspec": {
   "display_name": "materialsinformatics",
   "language": "python",
   "name": "python3"
  },
  "language_info": {
   "codemirror_mode": {
    "name": "ipython",
    "version": 3
   },
   "file_extension": ".py",
   "mimetype": "text/x-python",
   "name": "python",
   "nbconvert_exporter": "python",
   "pygments_lexer": "ipython3",
   "version": "3.13.0"
  }
 },
 "nbformat": 4,
 "nbformat_minor": 4
}
